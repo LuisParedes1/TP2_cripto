{
 "cells": [
  {
   "cell_type": "markdown",
   "id": "b75827f3",
   "metadata": {},
   "source": [
    "# Trabajo Práctico 2: Pruebas de validez\n",
    "\n",
    "Integrantes: \n",
    "\n",
    "Luis Paredes 104851"
   ]
  },
  {
   "cell_type": "markdown",
   "id": "eae1fc84",
   "metadata": {},
   "source": [
    "# Enunciado\n",
    "\n",
    "El objetivo consiste en probar la validez de un programa que calcula $2^{8^{20}}$ módulo\n",
    "p, utilizando diferentes estrategias y viendo el perfil de costos (tanto en términos de\n",
    "longitud de la prueba como de tiempo de generación). \n",
    "\n",
    "1. Considerar \n",
    "    * $a_0 = 2$ \n",
    "    * $a_{n+1}=a_n^8$.\n",
    "2. Considerar \n",
    "    * $a_0 = 2$ \n",
    "    * $a_{n+1} = a_n^2$\n",
    "3. Considerar \n",
    "    * $a_0 = 2$ \n",
    "    * $a_{2n+1}=a_{2n}^2$ \n",
    "    * $a_{2n}=a_{2n-1}^4$.\n",
    "4. Usando 2 columnas.\n",
    "\n",
    "Tener en cuenta que, dado el grado de las restricciones, se requiere usar un factor de\n",
    "expansión (blowup) por lo menos tan grande como el grado de las restricciones."
   ]
  },
  {
   "cell_type": "code",
   "execution_count": 1,
   "id": "a46a58da",
   "metadata": {},
   "outputs": [],
   "source": [
    "import channel, field, list_utils, merkle, polynomial\n",
    "\n",
    "import time\n",
    "from field import FieldElement # Cuerpo Finito\n",
    "from polynomial import X # Polinomios\n",
    "from polynomial import interpolate_poly # Interpolacion de Lagrange\n",
    "from polynomial import prod # Producto de polinomios\n",
    "from merkle import MerkleTree # Merkle Tree\n",
    "from channel import Channel # Implements Fiat-Shamir Heuristic\n",
    "\n",
    "from CP import CP_eval, get_CP # Returns a list of images from the CP\n",
    "from FRI import FriCommit # Next domain for the FRI operator\n",
    "from decommitment import decommit_fri # proof algorithm"
   ]
  },
  {
   "cell_type": "markdown",
   "id": "67886cf9",
   "metadata": {},
   "source": [
    "Para todo el trabajo usaremos\n",
    "* El primo $p = 3 \\cdot 2^{30} + 1 = 3221225473$\n",
    "* Espacio Finitamente generado $F _{3 \\cdot 2^{30} + 1}= F_{3221225473}$"
   ]
  },
  {
   "cell_type": "markdown",
   "id": "e5a54e5d",
   "metadata": {},
   "source": [
    "# Afirmacion a probar\n",
    "\n",
    "Quiero probar que conozco el valor de $2^{8^{20}}$ módulo p\n",
    "\n",
    " * $a_0 = 2$ \n",
    " * $a_{n+1}=a_n^8$."
   ]
  },
  {
   "cell_type": "markdown",
   "id": "f6ba0734",
   "metadata": {},
   "source": [
    "# 1. Genero la traza de ejecucion\n",
    "\n",
    "Generamos unos cuantos valores de la tabla para tener una idea de como se ve\n",
    "\n",
    "| a_i         | Valor     | \n",
    "|--------------|-----------|\n",
    "| $a_0$ | 2      | 2        |\n",
    "| $a_1$ | $2^8$ |\n",
    "| $a_2$      | $2^{64}$ | \n",
    "| $a_3$      | $2^{512}$ |\n",
    "\n",
    "Observamos que $a_1 = 2^{8^1}$ , $a_2 = 2^{8^2}$, $a_3 = 2^{8^3}$ por ende reescribo la ecuacion como\n",
    "\n",
    "$$a_{n} = a_o^{8^n} = 2^{8^n}, n>0$$\n",
    "\n",
    "por ende la tabla se vera asi\n",
    "\n",
    "| $a_i$         | Valor     | \n",
    "|--------------|-----------|\n",
    "| $a_0$        | $2$         |\n",
    "| $a_1$        | $2^{8^{1}}$ | \n",
    "| $a_2$        | $2^{8^{2}}$ |\n",
    "| $a_3$        | $2^{8^{3}}$ |\n",
    "| $...$        | $...$ |\n",
    "|$a_{21}$      |  $2^{8^{20}}$  |\n",
    "\n",
    "Genero la tabla de ejecucion para los 22 elementos que necesito"
   ]
  },
  {
   "cell_type": "code",
   "execution_count": 2,
   "id": "01985117",
   "metadata": {},
   "outputs": [
    {
     "name": "stdout",
     "output_type": "stream",
     "text": [
      "Generating the trace\n"
     ]
    }
   ],
   "source": [
    "print(\"Generating the trace\")\n",
    "\n",
    "# Tabla de Ejecucion\n",
    "a = [FieldElement(2)]\n",
    "\n",
    "# a_{n} = 2^{8^n}\n",
    "while len(a) < 22:\n",
    "    a.append(a[0]**(8**(len(a))))"
   ]
  },
  {
   "cell_type": "code",
   "execution_count": 3,
   "id": "77b1f5b8",
   "metadata": {},
   "outputs": [
    {
     "data": {
      "text/plain": [
       "[2,\n",
       " 256,\n",
       " -1431655764,\n",
       " -601713034,\n",
       " 284107013,\n",
       " -1284961466,\n",
       " 948291965,\n",
       " -882704695,\n",
       " -1412552477,\n",
       " 1610563585,\n",
       " 1610563584,\n",
       " -1610563585,\n",
       " 1610563584,\n",
       " -1610563585,\n",
       " 1610563584,\n",
       " -1610563585,\n",
       " 1610563584,\n",
       " -1610563585,\n",
       " 1610563584,\n",
       " -1610563585,\n",
       " 1610563584,\n",
       " -1610563585]"
      ]
     },
     "execution_count": 3,
     "metadata": {},
     "output_type": "execute_result"
    }
   ],
   "source": [
    "a"
   ]
  },
  {
   "cell_type": "markdown",
   "id": "f8daedc3",
   "metadata": {},
   "source": [
    "# 2. Busco un espacio finitamente generado   \n",
    "\n",
    "Busco elemento generador $g$ tal que el subgrupo sea de orden n y genere el subgrupo \n",
    "$G = {g,g^1, g^2, ... , g^n}$, $G[i] = g^i$\n",
    "\n",
    "Hint: When 𝑘 divides |𝔽×|, $𝑔^𝑘$ generates a group of size |𝔽×| / 𝑘, \n",
    "and the n-th power of some FieldElement 𝑥 can be computed by calling x ** n.\n",
    "\n",
    "---\n",
    "\n",
    "Queremos que el orden del subgrupo G sea de 32 porque es la potencia de 2 mas pequeña que excede a la traza.\n",
    "\n",
    "|𝔽×| / 𝑘 = 32\n",
    "\n",
    "Sabiendo que |𝔽×| = 3221225473\n",
    "\n",
    "Tomando $k = 100663296$\n",
    "\n",
    "\n",
    "Tal que \n",
    "\n",
    "|𝔽×| / 𝑘 $\\approx 32$."
   ]
  },
  {
   "cell_type": "code",
   "execution_count": 4,
   "id": "36c06043",
   "metadata": {},
   "outputs": [],
   "source": [
    "# Nuestro grupo es de orden 32\n",
    "\n",
    "# Siendo n el orden del subgrupo\n",
    "# n*k = |𝔽×| , busco k tal que |𝔽×| = 3221225473\n",
    "n = 32\n",
    "mod_F = FieldElement.k_modulus\n",
    "k = mod_F // n\n",
    "\n",
    "g = FieldElement.generator() ** (k)  # Busco g^k\n",
    "G = [g ** i for i in range(n)] # Genero el subgrupo de orden 32"
   ]
  },
  {
   "cell_type": "markdown",
   "id": "0f484a09",
   "metadata": {},
   "source": [
    "# 3. Busco un polinomio asociado a la traza y hago interpolacion extendiendo la traza\n",
    "\n",
    "Ahora con el polinomio asociado, cada elemento de la traza lo veo como una evaluacion hecha del polinomio $f$ sobre\n",
    "elementos $g$ (del espacio generador). Esto se llama Reed-Solomon error correction code.\n",
    "\n",
    "Ahora la traza se ve asi\n",
    "\n",
    "|$f(g^i)$| $a_i$         | Valor     | \n",
    "|----    |--------------|-----------|\n",
    "|$f(g^0)$ | $a_0$        | $2$         |\n",
    "|$f(g^1)$ | $a_1$        | $2^{8^{1}}$ | \n",
    "|$f(g^2)$ | $a_2$        | $2^{8^{2}}$ |\n",
    "|$f(g^3)$ | $a_3$        | $2^{8^{3}}$ |\n",
    "| $...$   | $...$        | $...$ |\n",
    "|$f(g^{21})$ |$a_{21}$      |  $2^{8^{20}}$  |"
   ]
  },
  {
   "cell_type": "markdown",
   "id": "27cd5aa8",
   "metadata": {},
   "source": [
    "Evaluamos en un dominio mucho mas grande que G. Tomamos un dominio H que es 8 veces mas grande\n",
    "\n",
    " n = 8*32\n",
    "\n",
    " |𝔽×| = 3221225473\n",
    " \n",
    " $k \\approx 12582912$"
   ]
  },
  {
   "cell_type": "code",
   "execution_count": 5,
   "id": "3b42d0b0",
   "metadata": {},
   "outputs": [
    {
     "name": "stdout",
     "output_type": "stream",
     "text": [
      "We blow up the trace (Extend the trace) 8 times bigger\n"
     ]
    }
   ],
   "source": [
    "print(\"We blow up the trace (Extend the trace) 8 times bigger\")\n",
    "\n",
    "n = 8*32\n",
    "mod_F = FieldElement.k_modulus\n",
    "k = mod_F // n\n",
    "\n",
    "w = FieldElement.generator()\n",
    "\n",
    "h = w ** (k)  # Este es mi generador g^k para el nuevo dominio\n",
    "H = [h ** i for i in range(n)] # Genero el subgrupo de orden 8*32\n",
    "\n",
    "eval_domain = [w * x for x in H]"
   ]
  },
  {
   "cell_type": "markdown",
   "id": "90fc75e4",
   "metadata": {},
   "source": [
    "# 4. Busco un polinomio asociado y hago interpolacion"
   ]
  },
  {
   "cell_type": "code",
   "execution_count": 6,
   "id": "51637edf",
   "metadata": {},
   "outputs": [
    {
     "name": "stderr",
     "output_type": "stream",
     "text": [
      "100%|████████████████████████████████████████████████████████████████████████████████████████████████████████████████████████████████████████████████████████████████████████████| 22/22 [00:00<00:00, 5816.24it/s]\n"
     ]
    }
   ],
   "source": [
    "f = interpolate_poly(G[:len(a)], a)  ## Este polinomio pasa por todos los puntos que nos interes\n",
    "f_eval = [f(d) for d in eval_domain] ## Busco la imagen en todos los elementos del dominio extendido"
   ]
  },
  {
   "cell_type": "markdown",
   "id": "0b5fe37e",
   "metadata": {},
   "source": [
    "# 5. Commitment \n",
    "\n",
    "Con la traza extendida, ahora creo las hojas del merkle tree a partir de estos "
   ]
  },
  {
   "cell_type": "code",
   "execution_count": 7,
   "id": "2fc79929",
   "metadata": {},
   "outputs": [],
   "source": [
    "f_merkle = MerkleTree(f_eval) "
   ]
  },
  {
   "cell_type": "markdown",
   "id": "5ec503cc",
   "metadata": {},
   "source": [
    "# 6. Channels\n",
    "\n",
    "Teoricamente el protocolo STARK requiere que dos personas (prover y verifier) interactuen entre si.\n",
    "\n",
    "En la practica convertimos este protocolo interactivo a uno no interactivo haciendo uso de la heuristica de Fiat-Shamir."
   ]
  },
  {
   "cell_type": "code",
   "execution_count": 8,
   "id": "efbc5cde",
   "metadata": {},
   "outputs": [],
   "source": [
    "channel = Channel()     # El channel nos dara datos que deberia darnos el verifier\n",
    "channel.send(f_merkle.root)"
   ]
  },
  {
   "cell_type": "markdown",
   "id": "78a201e0",
   "metadata": {},
   "source": [
    "El channel va a actuar como nuestro verificador de ahora en adelante. Nos va a proveer con cualquier dato requerido de parte del mismo."
   ]
  },
  {
   "cell_type": "markdown",
   "id": "91192f9b",
   "metadata": {},
   "source": [
    "# 7. Generamos CP y FRI layers\n",
    "\n",
    "Convierto todas las restricciones originales a rational functions.\n",
    "\n",
    "* $a_0 = 2$\n",
    "\n",
    "    1) $f(x) = 2$, para $x=g^0$\n",
    "    \n",
    "    2) $g^0$ es raiz de $f(x)-2$\n",
    "    \n",
    "    3) $p_o(x) = \\frac{f(x) - 2}{x-g^0}$"
   ]
  },
  {
   "cell_type": "code",
   "execution_count": 9,
   "id": "a744ded5",
   "metadata": {},
   "outputs": [],
   "source": [
    "## a0 = 2\n",
    "numer0 = f - 2\n",
    "denom0 = X - 1\n",
    "p0 = numer0 / denom0"
   ]
  },
  {
   "cell_type": "markdown",
   "id": "65d97633",
   "metadata": {},
   "source": [
    "* $a_{n+1}=a_n^8$\n",
    "\n",
    "    1) $f(g\\cdot x) = f(x)^8$\n",
    "    \n",
    "    2) $\\{g^i \\, , 0 \\leq i \\leq 20 \\}$ es raiz de $f(g\\cdot x)- f(x)^8$\n",
    "    \n",
    "    3) $p_1(x) = \\frac{f(g\\cdot x)-f(x)^8}{\\prod_{i=0}^{20}(x-g^i)}$"
   ]
  },
  {
   "cell_type": "code",
   "execution_count": 10,
   "id": "26e0167e",
   "metadata": {},
   "outputs": [],
   "source": [
    "# a[n+1] = (an)^8 \n",
    "\n",
    "numer1 = f(g* X) - f(X)**8\n",
    " \n",
    "\n",
    "lst = [(X - g**i) for i in range(21)]\n",
    "denom1 = prod(lst)\n",
    "\n",
    "p1 = numer1 / denom1"
   ]
  },
  {
   "cell_type": "markdown",
   "id": "6f235322",
   "metadata": {},
   "source": [
    "Genero el Composition Polynomial como combinacion lineal de estos polinomios.\n",
    "\n",
    "Los coeficientes del mismo me los provee el channel ya que toma el roll de verificador"
   ]
  },
  {
   "cell_type": "code",
   "execution_count": 11,
   "id": "b21eba42",
   "metadata": {},
   "outputs": [],
   "source": [
    "cp = get_CP(channel,[p0,p1])\n",
    "cp_eval = CP_eval(cp,eval_domain)\n",
    "cp_merkle = MerkleTree(cp_eval)\n",
    "channel.send(cp_merkle.root)"
   ]
  },
  {
   "cell_type": "code",
   "execution_count": 12,
   "id": "5f23cd49",
   "metadata": {},
   "outputs": [
    {
     "data": {
      "text/latex": [
       "$ -647886875 + 1362158443x - 1078660777x^{2} - 1477358176x^{3} - 631676183x^{4} + 521918703x^{5} - 943276213x^{6} - 419908593x^{7} - 1281726382x^{8} - 869002545x^{9} - 1242786061x^{10} + 469692959x^{11} + 622955062x^{12} - 1430796083x^{13} - 906767116x^{14} - 159080115x^{15} + 510786498x^{16} - 661882185x^{17} - 560955316x^{18} + 361154998x^{19} - 1092509114x^{20} $"
      ],
      "text/plain": [
       "<polynomial.Polynomial at 0x7f1588362e20>"
      ]
     },
     "execution_count": 12,
     "metadata": {},
     "output_type": "execute_result"
    }
   ],
   "source": [
    "cp"
   ]
  },
  {
   "cell_type": "markdown",
   "id": "4ca07a3a",
   "metadata": {},
   "source": [
    "FRI Folding Operator"
   ]
  },
  {
   "cell_type": "code",
   "execution_count": 13,
   "id": "f7a32c29",
   "metadata": {},
   "outputs": [],
   "source": [
    "fri_polys, fri_domains, fri_layers, fri_merkles = FriCommit(cp, eval_domain, cp_eval, cp_merkle, channel)"
   ]
  },
  {
   "cell_type": "markdown",
   "id": "e0de6f31",
   "metadata": {},
   "source": [
    "# 8. Genero queries y decommitments"
   ]
  },
  {
   "cell_type": "code",
   "execution_count": 14,
   "id": "42b8b176",
   "metadata": {},
   "outputs": [],
   "source": [
    "len_query = len(eval_domain) - 1\n",
    "decommit_fri(channel, fri_layers, fri_merkles, f_eval, f_merkle, len_query)"
   ]
  },
  {
   "cell_type": "markdown",
   "id": "f46db04a",
   "metadata": {},
   "source": [
    "# 9. Vemos la prueba"
   ]
  },
  {
   "cell_type": "code",
   "execution_count": 15,
   "id": "5ee59cda",
   "metadata": {},
   "outputs": [
    {
     "name": "stdout",
     "output_type": "stream",
     "text": [
      "['send:014b16f1677633408f2b59e509cedf299158af8680caac7a2ed0bc34acf8356c', 'receive_random_field_element:467112066', 'receive_random_field_element:1990644572', 'send:546b947dc0fb7cf40e05c26ad8af6f08e317054d0b1a6b15e1dc1ca7344e07ad', 'receive_random_field_element:162423476', 'send:ef999a02386ca068d73fc4d11cf68e445998d90640d97e90a703712f34b6dc17', 'receive_random_field_element:908382570', 'send:6f8d01ceda157f7b594a8cf006976e1e9b15703a6404cd7edf2bcb95c1903432', 'receive_random_field_element:1080691931', 'send:1bd7c98b0efd801d62ed9c8ad4895be0f6fece3bab8e76840caca001ff254b33', 'receive_random_field_element:1077015045', 'send:1fdfb91e8f5f65f0007649cec1f5d844fab1d003610f4ac783f99d56ea2b4d60', 'receive_random_field_element:1091912111', 'send:ec24c61d5e805be7315add859ffc6ee728dfd0ad8c5e8c8903b451a5a471e258', 'send:-908778102', 'receive_random_int:236', 'send:-1184135388', \"send:['5a9e9341a4b7658d1011569501f545fc0f2046050cc5d2ba881005d27914cf87', '83c8466c4d0a6e091fe7e79b08f2fec0645d81ddc260b563baa493c3e8f7deea', '1d7cc4701cf31d9c5dda806f35cbafe80616f03fe75ca16484e89e914595aa16', 'ea37626886543862f26c97c3aa2ec2f2e5cdefb6029678bc4a191e2abf13f40b', 'ae91db240f42f701272fa1f6358a5c05a2f55f5c77c238a66b0018f9e93bd5ae', 'e64b30266ca40ab9bbefea80e57dee37243eeceb8bb5190d99e70194f2b59f8f', 'd515c3f9ce7d99c8e3c4ec73607410427445bbed5212cf0a48951e7314894ee2', '891764e8e99e558ef67831a3d5b5d3a752f749068e69e24ab377fe5a90e14595']\", 'send:-145188864', \"send:['5a9e9341a4b7658d1011569501f545fc0f2046050cc5d2ba881005d27914cf87', '83c8466c4d0a6e091fe7e79b08f2fec0645d81ddc260b563baa493c3e8f7deea', '1d7cc4701cf31d9c5dda806f35cbafe80616f03fe75ca16484e89e914595aa16', '87ba43f7a03f31d9dab486bf9a06fa0407ba7118891b644140dd04ab1a5d661a', 'c0a9d962f2ab665ead684b29c652ec9584552767f9312234392fccebbd24b86e', 'a4a62ec0716713cc69adfc438050fdb9d858f76e589ca1cc79c0a7be0c5e8409', '160f3c0229cf8df3e82e40c779faa60dd2bb4b9a5ea06380a06a644e5e6187f4', '4e557ea10485ee04eb09066f1c9c058baca7eee85dc94bead0d59ab1e5b318d9']\", 'send:352418818', \"send:['5a9e9341a4b7658d1011569501f545fc0f2046050cc5d2ba881005d27914cf87', '83c8466c4d0a6e091fe7e79b08f2fec0645d81ddc260b563baa493c3e8f7deea', '1d7cc4701cf31d9c5dda806f35cbafe80616f03fe75ca16484e89e914595aa16', '87ba43f7a03f31d9dab486bf9a06fa0407ba7118891b644140dd04ab1a5d661a', '98aee02a26df8a62816945c2b51782eb4f6f256b0d730cf9fdd457fe59f003e2', 'c1a4dbc5e595660d31554725f73ae49b4735f3953f81c7ba0d17abcc18488189', '042e23db7cb66f4f1dbaf8b670cf2aa2b98469d2ee7797fb063e053212bbd7c3', 'd4023bbb98758777726f22d335747b8f6494d44dda01aeeb365f63f9f5ae37f2']\", 'send:119585836', \"send:['b51d4c3cae7f45fbb82d2f26a0e6229b32d4a18f992ba5cbc3b7e80d4fcdb84d', '3a282ba595c5e110af0ad71497058fc15fe02666c84d51c617cef1d87a74e265', '073ba2cb080d485e89728eba425cd2c8561b5ad10e38758aed8b6af34f3aafc1', '1675e875b1b317414dd94423b4c41a8f9b7f4aef306d2efec1ff628f6229d208', '13569bc9062b6c88f43ebd43ce2072bafa0451cf517beee984c82eb25bc9c396', 'fcdff88142aa3f9be7a721677823c59ee1aeb6884e98ebf2cda74f77e101b3d2', '406b3cb7a2907f7eda265416e180c68840e9e5794803374de4dc13eabfe9ea40', 'bbe204db7b0792b3f265716b2f7437b166e44dd8fecd69045647fbc63815a0a1']\", 'send:843007559', \"send:['dffb31bc137c9cb3f5aca93effc47028bbad18a402585f447cb4f0955d357db3', '05d39c57a60350a2bb457415f0acb4d30dfe67ac4cb2df5c8b1be7bb0ea648d4', 'f1e9d47fb8cc2fd7b4d3189277f5e7610450ec3bd93bd415a45a7f7c1fcbecba', 'd7563690a7a8fe96ba944ba044439d615770abd6f461c600ea26d2b79281eb1c', '50f55387110ac19010db19973442a92fe01ab03d4898587395c97620d6242689', 'e53efece635944878a4dc3a138c0007b9970aa461118bf992c39c1b7d7fcf5d7', '4fe0010dc39fdbbc3de22c20649055d6fa5d609eddce5e503bf069dad6ab155f', '097c2a419652a5a0061b0185df652373efddc556ebcf93a7545055b37110ef88']\", 'send:612441416', \"send:['b523cb1b70d67b8020d3380b84385b2e720fb6c53bf39e8c6e364ac4a7f15883', '2760d5684858badd4b7c508d4cf7140aab788e1eaa6a8f5335df13b0c881fda8', 'c497b8ca49e92132330c51f84c0efc5a832613d7b4ec7b32f85752476888d33d', '3fdaa1ddd079739154ea6d46c3b65048a8c339554f4d24dc6f7ad330187449ec', '221c92854e1cc5196a073f5fb0057f9c407946ca6694ec1b0f13c6ad3c527abf', 'c77581fa418beb44fb01c04ac54c393746f480d193e329e4fe53afd59e55c611', '03e9cc8335a395ca11b3bf2b3d89f52ef9da76d7ef794855206bf0884e72b37c']\", 'send:-1317390015', \"send:['4b1f2fde70c6c5b6336eaaf7d1c248c2b3254f46e7f5ab75b939d29a07c0b50c', '8c89f0aa75840fff7a58344bc970ac86277c7b3a291d9b07c4bee88393b45fca', '4526b8b1e33c5a265c038279ee994459a6ba5d9e6e3d0d3f8fe234afa4c79f96', 'e07946345d4a779805d022a5451656cb03aa0b71c41c20e53cffb1f5fe6e10b4', 'c7b4c2c3609a9325dd4babbbadf5378506c930664f61587727fb5f36623feb89', '0cd90d794039d28e2f06b78b19db3fb5bae5d47cbd774f5dfe9c0ecf614e5d30', 'eeea529f56357b911edad7915bb22187979732a536827c1e2a38234541b8706d']\", 'send:819548206', \"send:['6c1dc78d3332ff4ca579445e12ffd2b5490df5644f4fe3cb7dd2e665b6653eab', '101b512552c106ca72826298989b20514aefa67091e871e0344059bd789219af', 'dcf43f65a00cb2879928d6c0ae7ab115b7c896989b5463f2d96748017ce95dd4', '95441f8fa22f0b9a41f9d7a5483c573215f29524e335393d9ea1496d94de34cd', '8b8c24211b8d6734c01c0206c84cc396ce2b7bd79dcd82919f0a4975d7ea61d4', '6b577089202ee0f473ea01bf588cbcba004993a30e00317a827181eb207a67b6']\", 'send:84105243', \"send:['807c1ff59bf9cd4d4c52ef79b5a6d3328b54f1b869007e5913c3c8690c692908', 'acc41bbda49185bb53bd468adcee9f4c555e5beb1259e2df1fc0a31a0cf18564', 'b2f9aaea5094e44077e5dceaa3f19468ece8f735efef131f62773f2ae3480043', 'fd91674f29e9881ca2db57bbfc051fb60e2f7767505d0109f13c36c2ed88e7f9', '40a96e26a7857d4b86ff50b1900e5ff8cdacb625cd291a9fad51a5aa2ff53488', '405b2ac595aa76f656dc6f9689199159298900f1f128d1c0bb3ab495055b570e']\", 'send:-1169305105', \"send:['6ab10455b39e7edcbafd215a8c63224d3b09b1e4ab9bb91ee6c0613419c30c26', '99f02d62629cb315e4790aca3e154b6965c636690505c43646ddb75db2fbf21f', 'ee722dcba92d07c2abdfb135c6807a60f957b4ee51c2a5994851192ecff4d957', 'db1670cc50260a3fa0f35192b7619f7322200f2b6e0c8fa943e325e607568ff6', 'ee32fff88147b5e647583b8369aa61240751349ea46a8e08e0317c14a801bbd5']\", 'send:-735269526', \"send:['72f3295ced3055d9950c00da8df9858b177dcc46a5a354fb9542e76146b62dd7', '8328f990bb735b696949eb9b39da8fb25d90ef596140dc1830a877d4c2bbf65d', '24f4e2ee54a538520b59b5f8132de51604b5a3cdf3f7514e62ae84bb350761fb', '3d17b2d196359d4eaf57939512d080d4722ae1f9661fc288049517aa794fdc7d', '31bd726bf57a73d6617c3bb74b2035d7c3392c32f382a61a66eae72db33067dd']\", 'send:-1567914036', \"send:['7650cf0494d240c75902851ba515ac4e0073f2e582f1721f84eecc3749603630', '7cd618565e46d2816a6103a5f5f4eb8b831d59d731ec3ff19f55335f861f6eaf', '2a960474a824c3ee416a132ee969e79a0a2d633bd4cdbd68c2ea0993ff0a8d29', '3d4b775d5efe797098c7a482b6d4d891d2cc1f5a9c3739fc8949e8acf4a49eb4']\", 'send:-402771350', \"send:['ee2dd91c5cda82bfdb0190f314b1c82d1e93fd082b9f32a36fadef6b2c440f03', '4b952805aff5808a85a26f49de0f6dea8c782128d6c46be1bf76be48509d06f1', 'c7e144ac0098c8fcc7eea01e061b0358788709ff00950092767f17b4e85de1cc', '98418752fda48144b76622e7abecd174f7bcc189250a303fd780f6e8da682257']\", 'send:-908778102', 'receive_random_int:206', 'send:-265512180', \"send:['5a9e9341a4b7658d1011569501f545fc0f2046050cc5d2ba881005d27914cf87', '83c8466c4d0a6e091fe7e79b08f2fec0645d81ddc260b563baa493c3e8f7deea', '10854267132812bf6f8d2402e4896f09115aa8c15b9c732a38f5a457fffa6825', 'cd0e72ef623cbf7e1f6a586f824927e8d0f49a66e9bf18a7b441d20b6ccbfefb', '53facbe489e171c932575a33ffa4dca809969c4df826464b2360a002b9cf27ab', 'd83c33cf698df8d0ef4253697b4ac2596158e091fd94bbd0d456297dfdd7c34a', '6c8325cd19b6df308b63ac90e87969092d4161fff8e1b2fab9dffcc9896c7100', '84ca44b50952fd1b401688f8f1b4e52fe7e7eb0c1801d125320b78e209b6c146']\", 'send:-167619269', \"send:['5a9e9341a4b7658d1011569501f545fc0f2046050cc5d2ba881005d27914cf87', '83c8466c4d0a6e091fe7e79b08f2fec0645d81ddc260b563baa493c3e8f7deea', '10854267132812bf6f8d2402e4896f09115aa8c15b9c732a38f5a457fffa6825', 'e2da386d98bdd9b015d917f0ac042c386e9f07b9fe36666e2292430fb42fa451', '75762afe8310556ba63dbb62790e0aff726619f91684088d100fdd11fce2eac6', '5bc8384a6159757f038e1719f8f86985cbc11359d32de252b0babc37fec46aa5', 'ac5df0e1bccf46e2c7ddff118782a29fc9e77bb6a704d0c409effede41c001f8', 'aafa4a48e2bdafa18a2dfc005a45f9c46701946450d777be267a5daa57ac2902']\", 'send:-718731076', \"send:['5a9e9341a4b7658d1011569501f545fc0f2046050cc5d2ba881005d27914cf87', '83c8466c4d0a6e091fe7e79b08f2fec0645d81ddc260b563baa493c3e8f7deea', '10854267132812bf6f8d2402e4896f09115aa8c15b9c732a38f5a457fffa6825', 'e2da386d98bdd9b015d917f0ac042c386e9f07b9fe36666e2292430fb42fa451', '319c1d02f0f9a84d88ee63bc4577d0eaff3aa0af214431982bd9eaf1d6b55897', '5baf13d5e507fd86994b123e7aa6f7f1956bf7c2f848b83054f656eb7d6a564b', 'ee4e87412e7931027b78e6bc67a25a552322788ac69f3706c9cf1f21aba8fbc7', 'd61d717dadb9fa7d29b213e7a8a9e3b9548df6ea98ce68ad2f8063d2d66da704']\", 'send:-1375898679', \"send:['b51d4c3cae7f45fbb82d2f26a0e6229b32d4a18f992ba5cbc3b7e80d4fcdb84d', '3a282ba595c5e110af0ad71497058fc15fe02666c84d51c617cef1d87a74e265', '689db7807d2ff22387f9b334b3cf922bd1a86d659bb7b44cd1d04e1a26b6890e', '92903599ea73cab8822180079be36f106fb7e3e1f8c556c789c670a51b67cdc2', 'b2994b0f902a40ff6b93670bd8fb0d7ffcd7b1af1e7b18714abbcfac80d66ef4', '983a5b938c838945a8327d0a55bb69a8b93791c15681ea3508ae71430a8b176a', '560ba3c8c6f8e0fc9be8e060e1c064d9a68ca927288db95628c9339713c22ec9', '19b1992e49517db09a16073e28e4e4d7782367df2b2cec961e1ebdf5c5254775']\", 'send:-856250627', \"send:['dffb31bc137c9cb3f5aca93effc47028bbad18a402585f447cb4f0955d357db3', '05d39c57a60350a2bb457415f0acb4d30dfe67ac4cb2df5c8b1be7bb0ea648d4', 'b072c8a27d77fa1eced826a14e943e3b06d544bbd4eeb0f31b350ffbecdbbf80', 'dcfe9d9a3fff4b31da9d60e4bf8cac0573ae7f5d48dd34dff2b8a9b96d8e314c', '2e7cfec437fc5507f59776c7c9962cc1dbad72dfae2bf18ec464f728fa85475c', '11e8cdae8eeb288a3fe1b49ba2443dfd9d1944c4083612b5336ed0d19e203a69', '014548cd3d25c52e70154c8233e8c094a319ade32a6729311187de43684dfde0', 'd5c4b70fa3f736d8c22784179bb4cb432b32c0ac63f0b645c6d70d678ed0f6ed']\", 'send:456638171', \"send:['b523cb1b70d67b8020d3380b84385b2e720fb6c53bf39e8c6e364ac4a7f15883', '54ba4f25f88644f0c764597a1274f54e69f77f62449f59bf83b7613ce29cfbf0', 'e67268b5d3e28c1c52de22805c07e6ae933679cc4fa24884b8caff6b3013ec79', 'b8458fffe61784adc729f47576695f02eb015e82f709414eb2d126b5dee147d8', '2708bd431322aef690a2fd314c4d6ef2f243a4f91c53684ff105fada3dc8f14c', 'c5859bb2cc13c149e5e2c5ac9fc8e54968585d1ee778e5c3fac68e158d6dee8d', '5a3112a67ca1bf5478a131c1ee21e2da7db394a6b73af9cbe62d42af5b8db326']\", 'send:-752688083', \"send:['4b1f2fde70c6c5b6336eaaf7d1c248c2b3254f46e7f5ab75b939d29a07c0b50c', '64f1926680f48932eaee51d0173ded2c6202c9ce3a9dcf125414950eab2150a3', 'd440952efd7a7bc77b0dd257ad8f99d89b68b5b8583846b5fafef4a7f5b1983b', '395cb34d6363199e894c811fa4655b7fc244a46d4699a888ea50ecf27d0822c7', 'a222f7b9892c7657d801b57fe32637cfbf05121375e1bda53badef952a2be16e', 'b7322b50e760c550cfb1740cda12a0f5af035a86854653abd4ba252a18e6ddb7', 'ac2662e7d43adb3f4a991bd5e81a845593ae5a3e49b2c838a7ad872312ee4ed5']\", 'send:574966867', \"send:['807c1ff59bf9cd4d4c52ef79b5a6d3328b54f1b869007e5913c3c8690c692908', 'acc41bbda49185bb53bd468adcee9f4c555e5beb1259e2df1fc0a31a0cf18564', 'b2f9aaea5094e44077e5dceaa3f19468ece8f735efef131f62773f2ae3480043', 'fd91674f29e9881ca2db57bbfc051fb60e2f7767505d0109f13c36c2ed88e7f9', '89dd89a09dca6e2d0de39b5d0dc38993a265b6b5f25ffa3644de083f03e7ebb4', '3774b1a25106faa8a6d788254d02a62d4d7f3bf9ccb1fadb0cbbdbf76a2d478d']\", 'send:-727950855', \"send:['6c1dc78d3332ff4ca579445e12ffd2b5490df5644f4fe3cb7dd2e665b6653eab', '101b512552c106ca72826298989b20514aefa67091e871e0344059bd789219af', 'dcf43f65a00cb2879928d6c0ae7ab115b7c896989b5463f2d96748017ce95dd4', '95441f8fa22f0b9a41f9d7a5483c573215f29524e335393d9ea1496d94de34cd', '158ab00e8c022fcfffda62cbbfdbe8e976b1b840b8b51a1bc074b2932df763e7', 'a7a967dedcb361414ab8cd6aaeda815964f0b373588971f4ecdb807c5d0fba95']\", 'send:562077702', \"send:['6ab10455b39e7edcbafd215a8c63224d3b09b1e4ab9bb91ee6c0613419c30c26', '99f02d62629cb315e4790aca3e154b6965c636690505c43646ddb75db2fbf21f', 'ee722dcba92d07c2abdfb135c6807a60f957b4ee51c2a5994851192ecff4d957', '1b91c4cc7d3ce03c829a35a9a86947b562f203b981fed948143779a2555286a2', 'd94599a0aba650982312044acd95b1c23658ef9c12e8c2f24ea76d78a1afc666']\", 'send:-935395120', \"send:['72f3295ced3055d9950c00da8df9858b177dcc46a5a354fb9542e76146b62dd7', '8328f990bb735b696949eb9b39da8fb25d90ef596140dc1830a877d4c2bbf65d', '24f4e2ee54a538520b59b5f8132de51604b5a3cdf3f7514e62ae84bb350761fb', 'a58e7f77a45c39d469085b65680525273cc9e87b9e97a0b08ab349436fd5a507', '590a6ab245bbcc38037bb97a823770f28bff658963669dda5798f0aa43463ebc']\", 'send:808327307', \"send:['7650cf0494d240c75902851ba515ac4e0073f2e582f1721f84eecc3749603630', '7cd618565e46d2816a6103a5f5f4eb8b831d59d731ec3ff19f55335f861f6eaf', 'ac82586afa65765fac7352c0dd3957ff435f368b22c21290413b0897058a27b3', '2f8fdeb66c6627da7be2e2e62c02a354abef6dd4baf94dccc6c2e3b80c9ea033']\", 'send:442212780', \"send:['ee2dd91c5cda82bfdb0190f314b1c82d1e93fd082b9f32a36fadef6b2c440f03', '4b952805aff5808a85a26f49de0f6dea8c782128d6c46be1bf76be48509d06f1', '8eea5a9285861c356158f27cdc6e204d78e0c98c12e57b64c5e660903130741c', '311cf83b6dbb96975281995c341d5000372aa9104d28b015dc2193c29acf525a']\", 'send:-908778102', 'receive_random_int:19', 'send:786459611', \"send:['606ed01ee270056214531d6bc536230d43f5b11d35240ba36020446cfb0cdef8', '07b3147e4f0ce70f2378848ec783d367897f79994bed3672a6186aff5733d48c', '82f81bc16fa0dee48d57f0e564736de0ca66c053487174aa413f017520d0dd2c', '3b283b2364f0c4e4b402d01741d43669d54c0095be0239c5e78bf82c7f70f8e7', 'b30acd47ca8114dd9f71d456dcd7431b9e378363cd3d71836abb169d65692f82', '707ab52b4fd2aad7a2bafe5a8c2b5a5970bb04d417465eb05f7603139c4187e0', '67c0a0d48c0ad6e19fc2adce1a7ab91fd5c5d61b36768cfbb0b861afd6197dbb', 'e18437b15b7f4d08c86a81ea3b857503a91057e626d3fd10e42a5bf4fea63153']\", 'send:-114293251', \"send:['606ed01ee270056214531d6bc536230d43f5b11d35240ba36020446cfb0cdef8', '07b3147e4f0ce70f2378848ec783d367897f79994bed3672a6186aff5733d48c', '82f81bc16fa0dee48d57f0e564736de0ca66c053487174aa413f017520d0dd2c', '3b283b2364f0c4e4b402d01741d43669d54c0095be0239c5e78bf82c7f70f8e7', '31ecf57c4e2b134086c6d6f46fe1e0a3984e52b8892132c0b424d6707d95d885', 'cdd3cbd19d29564c00aa32cbddd07fb4d5a86eff3c2a8f1a623d7a4b0bce91c7', '2698027512186058c83f36df62a106cc2866f91b420c82a6a44fb08263b36c94', 'f2f3a2034eca36e8cb98840b8d488e3d76698f46800c32cf4db2bb404bf340d4']\", 'send:-521977926', \"send:['606ed01ee270056214531d6bc536230d43f5b11d35240ba36020446cfb0cdef8', '07b3147e4f0ce70f2378848ec783d367897f79994bed3672a6186aff5733d48c', 'ad23de9a5ffe3defc1e968e678ed80671eab862f0bd53f432633f28d5dcdb23d', '511aa3488ad34cc8d20643102fcf97e3aa76583f78d579886f5b4a655756a055', '563cb5ab9a423b77d08a80202b5dcf842fb88a1e7c963bc15f01d8f5085312c7', 'dd469ca086a184e099fe44929d88e4aa85cacf1e43a9b9030cbea96a546ab086', '7d3b3c48c07467343857bc4288d9cc542649da4c7d4a2176a8734ee4d8cc4cbe', 'b2954f6cf12016f2fb446fb8a506532083e2220bf85a9aa6dbb3356d9e91c69b']\", 'send:-254466291', \"send:['dffb31bc137c9cb3f5aca93effc47028bbad18a402585f447cb4f0955d357db3', '673100a5fb884403add9a0d1b36143abffec4e35599003f95931dc0e8bf1a08b', '48d8ef34c6ce406a0564bc356bc8d3c505d4feac760623fe08a7e9b633aab1ea', 'eab72f887957263ae9efcd637ff65ef9d77d7858501280e4ce6f731c4234595f', 'c8306eb294c1167fd23d692a8e365cdaedc6dc5b44a113c42ba9ba91c6722785', '67086d6b52ca1ac4b44573dc20f640f18bbf9c51c908557a978e63b557149e63', '47baa78c8034b3d5531ad37af0bc338d36b9ed194c9d2cc6ab3ab68a4a1d3a31', 'd6799d5efd092d42a360a8edcc60d20fef6189015887e0f3ba27156def954045']\", 'send:1173038378', \"send:['b51d4c3cae7f45fbb82d2f26a0e6229b32d4a18f992ba5cbc3b7e80d4fcdb84d', 'cd7ce9a97941cfef994266c767f8e51e5b7919b218382986984ae6a3d0beb24e', '3f6a7e05596312f1d5898add22f68cc13a587344e676f9970c76dc7b9659f41a', 'd73037318040bf2f2034059287d2aa8bc8ccfe2051477737b093ad1b0bc9dd53', '5bb23018e8dfcb54e05db8cb9c5fa278a12de0649c664d2bbc3514c153905b35', '2776386c44bec7694184206201790ad4ff6529ce5304a220d9c621423c650ba8', '66ddc34d2fc2bbed603c61cf99984f58e4cd02c71505a3e5d20ef48fef25c358', '1d9bfe78ababcd1900daab42aea7e5596ebdb85d5443bf3e5a7f0aaeb2649890']\", 'send:525318079', \"send:['4b1f2fde70c6c5b6336eaaf7d1c248c2b3254f46e7f5ab75b939d29a07c0b50c', '64f1926680f48932eaee51d0173ded2c6202c9ce3a9dcf125414950eab2150a3', 'eb1d80a5064d28386f32cb45232b2b741237ac96f57878a865dc8871d1b70ea9', 'df2977f794e9ef6f93d122db708204008507546077fc4b8f63a52a131b7c9161', '8aaf4308f9d29865ebc8d8cb0a97390ca35f044a94ca0ad9c3cf64e7e7ee2c87', '2ac50e36db7125805161151b544018e193eacbca3ae4c39e0f0af6f937022e39', 'c19de76189f96bb9a123a4f06c8966dfe51b6586181edc25506d81d5e34ccaf5']\", 'send:850779489', \"send:['b523cb1b70d67b8020d3380b84385b2e720fb6c53bf39e8c6e364ac4a7f15883', '54ba4f25f88644f0c764597a1274f54e69f77f62449f59bf83b7613ce29cfbf0', 'd033d1bb467b24ba802628fa366f090aeffd9696bf6f465ab5957925aa94dd4d', '5c736544881663005a8084a15ab793ea63112eb12ac537a9f2b3a9e125ad1935', '8c4bd63c867fe8b9e135dc8bf61ece6f914e0b0bc55bd221d6b8f3f0e04307f8', '1ec40be015f747b3bf8e3d23dd517fbf1f11898d65ceea5fa34e0de419416915', '5e094bd7fae1d1d286b8ad68928a2a980204e6e0988ab7fbfc714b60e131dd52']\", 'send:860933523', \"send:['807c1ff59bf9cd4d4c52ef79b5a6d3328b54f1b869007e5913c3c8690c692908', 'be6f3bd6224ec08fbd0502683313b77b597494bbf4d3c98ae55eee16bdc2dd09', '6e80b56d3273949917e48e7f9eed5c92f7aa1a62c4bca38c8df08e469501eb60', '06be6d597b0c9c681874534c30e2eb483dea7b662094421dc24e0649f468973a', '8344b4fa81c75fa04d6e057a68c75c3555acf43301cbcfe08e2a150cad62b9d3', '33e0418c55b9c7405b322a1cd88811fa897b3cc7119b10193d8fde88c095eab6']\", 'send:521809933', \"send:['6c1dc78d3332ff4ca579445e12ffd2b5490df5644f4fe3cb7dd2e665b6653eab', 'bdbbd47f9fad55d5b203e39828b4ae991c8b9fab102f560da6dfe53aca2b73f1', 'd972ff30631db6412af647e012454a65ddcee701b3b16193968aeb20c1cb632f', '8a1bea347f3bb6b836939ef15f3286ddea25525a68ea3183c91c0b794f256499', 'f00b47cf396aa7a89fb58385a7f117bde254d6a77a6248507abe2f6e0078fa31', 'a714b39d51744970abdf8e9899830ab3b8a4e3a7a64276dccf47329983af4298']\", 'send:-1512829865', \"send:['72f3295ced3055d9950c00da8df9858b177dcc46a5a354fb9542e76146b62dd7', 'a7d4c4d5da71d46b53be920b50590873e92cec022bfe3b489b5c725f21e7fd58', 'f112c3163ef7da99f2bff6e3378e32408256895831eb2dfdfbfc67eb456105e0', 'cace4c994aa947fac6f501e9493eda52b5cb5a337240cfc667d8471b22608778', '511c997c75d8235181d4e51f3c98becb90a0c26468281b8e9853af32feb06426']\", 'send:-594210881', \"send:['6ab10455b39e7edcbafd215a8c63224d3b09b1e4ab9bb91ee6c0613419c30c26', '9725f8e97085c1315e0a39bfd92432ce62bb87253b90d4564a1d599104348cde', 'c6321c851f4c5d87cb0bcd0bd21a95f1280a64136751f9a5875ec0f119375557', '621b96ebbfad97fe89604d7b9414e516952e4ef760514a92443cc5b66fe05c09', 'fa4a066e3154172babe0d5b06c8cee81c7bb4868b508d91179e1580e5cfc7071']\", 'send:-58534357', \"send:['ee2dd91c5cda82bfdb0190f314b1c82d1e93fd082b9f32a36fadef6b2c440f03', '6dd5ea673f1a421f90b23d068256ef13e9dd2085a2ce2a9ecf34df5088c5d053', 'b7793d42ecffb3f9c6cdacbc598c3d6bc14e2688aa771fc24b1d3a7177fab753', '2a589705fb9ff2ed2ef628c9102f0bb1618e5d92dc7280f5a001def125ac62d4']\", 'send:1309074444', \"send:['7650cf0494d240c75902851ba515ac4e0073f2e582f1721f84eecc3749603630', 'd38d43e6b113f4735e6a13c9801e2cc48d066cbb05241960259ae17544d3df0d', '92f4bf3a7b99b3692c2e93cb7db434023f95aece1660d578d322fb7147ac7025', '1c2ea16f22b883818d123c1499fc2b0ed03788656d2401751c41117cc7f3acd3']\", 'send:-908778102']\n",
      "Uncompressed proof length in characters: 19178\n"
     ]
    }
   ],
   "source": [
    "print(channel.proof)\n",
    "print(f'Uncompressed proof length in characters: {len(str(channel.proof))}')"
   ]
  },
  {
   "cell_type": "markdown",
   "id": "fd0a7856",
   "metadata": {},
   "source": [
    "Uncompressed proof length in characters: 19178"
   ]
  },
  {
   "cell_type": "markdown",
   "id": "d319e02d",
   "metadata": {},
   "source": [
    "# Tiempos\n",
    "\n",
    "Vuelvo a correr toda la prueba e imprimo en pantalla el tiempo que toma correr cada parte"
   ]
  },
  {
   "cell_type": "code",
   "execution_count": 16,
   "id": "94733fe8",
   "metadata": {},
   "outputs": [
    {
     "name": "stdout",
     "output_type": "stream",
     "text": [
      "Generating the trace\n",
      "We blow up the trace (Extend the trace) 8 times bigger\n"
     ]
    },
    {
     "name": "stderr",
     "output_type": "stream",
     "text": [
      "100%|████████████████████████████████████████████████████████████████████████████████████████████████████████████████████████████████████████████████████████████████████████████| 22/22 [00:00<00:00, 5998.87it/s]"
     ]
    },
    {
     "name": "stdout",
     "output_type": "stream",
     "text": [
      "0.01539468765258789s\n",
      "Generating the composition polynomial and the FRI layers...\n",
      "0.06260991096496582s\n",
      "Generating queries and decommitments...\n"
     ]
    },
    {
     "name": "stderr",
     "output_type": "stream",
     "text": [
      "\n"
     ]
    },
    {
     "name": "stdout",
     "output_type": "stream",
     "text": [
      "['send:014b16f1677633408f2b59e509cedf299158af8680caac7a2ed0bc34acf8356c', 'receive_random_field_element:467112066', 'receive_random_field_element:1990644572', 'send:546b947dc0fb7cf40e05c26ad8af6f08e317054d0b1a6b15e1dc1ca7344e07ad', 'receive_random_field_element:162423476', 'send:ef999a02386ca068d73fc4d11cf68e445998d90640d97e90a703712f34b6dc17', 'receive_random_field_element:908382570', 'send:6f8d01ceda157f7b594a8cf006976e1e9b15703a6404cd7edf2bcb95c1903432', 'receive_random_field_element:1080691931', 'send:1bd7c98b0efd801d62ed9c8ad4895be0f6fece3bab8e76840caca001ff254b33', 'receive_random_field_element:1077015045', 'send:1fdfb91e8f5f65f0007649cec1f5d844fab1d003610f4ac783f99d56ea2b4d60', 'receive_random_field_element:1091912111', 'send:ec24c61d5e805be7315add859ffc6ee728dfd0ad8c5e8c8903b451a5a471e258', 'send:-908778102', 'receive_random_int:236', 'send:-1184135388', \"send:['5a9e9341a4b7658d1011569501f545fc0f2046050cc5d2ba881005d27914cf87', '83c8466c4d0a6e091fe7e79b08f2fec0645d81ddc260b563baa493c3e8f7deea', '1d7cc4701cf31d9c5dda806f35cbafe80616f03fe75ca16484e89e914595aa16', 'ea37626886543862f26c97c3aa2ec2f2e5cdefb6029678bc4a191e2abf13f40b', 'ae91db240f42f701272fa1f6358a5c05a2f55f5c77c238a66b0018f9e93bd5ae', 'e64b30266ca40ab9bbefea80e57dee37243eeceb8bb5190d99e70194f2b59f8f', 'd515c3f9ce7d99c8e3c4ec73607410427445bbed5212cf0a48951e7314894ee2', '891764e8e99e558ef67831a3d5b5d3a752f749068e69e24ab377fe5a90e14595']\", 'send:-145188864', \"send:['5a9e9341a4b7658d1011569501f545fc0f2046050cc5d2ba881005d27914cf87', '83c8466c4d0a6e091fe7e79b08f2fec0645d81ddc260b563baa493c3e8f7deea', '1d7cc4701cf31d9c5dda806f35cbafe80616f03fe75ca16484e89e914595aa16', '87ba43f7a03f31d9dab486bf9a06fa0407ba7118891b644140dd04ab1a5d661a', 'c0a9d962f2ab665ead684b29c652ec9584552767f9312234392fccebbd24b86e', 'a4a62ec0716713cc69adfc438050fdb9d858f76e589ca1cc79c0a7be0c5e8409', '160f3c0229cf8df3e82e40c779faa60dd2bb4b9a5ea06380a06a644e5e6187f4', '4e557ea10485ee04eb09066f1c9c058baca7eee85dc94bead0d59ab1e5b318d9']\", 'send:352418818', \"send:['5a9e9341a4b7658d1011569501f545fc0f2046050cc5d2ba881005d27914cf87', '83c8466c4d0a6e091fe7e79b08f2fec0645d81ddc260b563baa493c3e8f7deea', '1d7cc4701cf31d9c5dda806f35cbafe80616f03fe75ca16484e89e914595aa16', '87ba43f7a03f31d9dab486bf9a06fa0407ba7118891b644140dd04ab1a5d661a', '98aee02a26df8a62816945c2b51782eb4f6f256b0d730cf9fdd457fe59f003e2', 'c1a4dbc5e595660d31554725f73ae49b4735f3953f81c7ba0d17abcc18488189', '042e23db7cb66f4f1dbaf8b670cf2aa2b98469d2ee7797fb063e053212bbd7c3', 'd4023bbb98758777726f22d335747b8f6494d44dda01aeeb365f63f9f5ae37f2']\", 'send:119585836', \"send:['b51d4c3cae7f45fbb82d2f26a0e6229b32d4a18f992ba5cbc3b7e80d4fcdb84d', '3a282ba595c5e110af0ad71497058fc15fe02666c84d51c617cef1d87a74e265', '073ba2cb080d485e89728eba425cd2c8561b5ad10e38758aed8b6af34f3aafc1', '1675e875b1b317414dd94423b4c41a8f9b7f4aef306d2efec1ff628f6229d208', '13569bc9062b6c88f43ebd43ce2072bafa0451cf517beee984c82eb25bc9c396', 'fcdff88142aa3f9be7a721677823c59ee1aeb6884e98ebf2cda74f77e101b3d2', '406b3cb7a2907f7eda265416e180c68840e9e5794803374de4dc13eabfe9ea40', 'bbe204db7b0792b3f265716b2f7437b166e44dd8fecd69045647fbc63815a0a1']\", 'send:843007559', \"send:['dffb31bc137c9cb3f5aca93effc47028bbad18a402585f447cb4f0955d357db3', '05d39c57a60350a2bb457415f0acb4d30dfe67ac4cb2df5c8b1be7bb0ea648d4', 'f1e9d47fb8cc2fd7b4d3189277f5e7610450ec3bd93bd415a45a7f7c1fcbecba', 'd7563690a7a8fe96ba944ba044439d615770abd6f461c600ea26d2b79281eb1c', '50f55387110ac19010db19973442a92fe01ab03d4898587395c97620d6242689', 'e53efece635944878a4dc3a138c0007b9970aa461118bf992c39c1b7d7fcf5d7', '4fe0010dc39fdbbc3de22c20649055d6fa5d609eddce5e503bf069dad6ab155f', '097c2a419652a5a0061b0185df652373efddc556ebcf93a7545055b37110ef88']\", 'send:612441416', \"send:['b523cb1b70d67b8020d3380b84385b2e720fb6c53bf39e8c6e364ac4a7f15883', '2760d5684858badd4b7c508d4cf7140aab788e1eaa6a8f5335df13b0c881fda8', 'c497b8ca49e92132330c51f84c0efc5a832613d7b4ec7b32f85752476888d33d', '3fdaa1ddd079739154ea6d46c3b65048a8c339554f4d24dc6f7ad330187449ec', '221c92854e1cc5196a073f5fb0057f9c407946ca6694ec1b0f13c6ad3c527abf', 'c77581fa418beb44fb01c04ac54c393746f480d193e329e4fe53afd59e55c611', '03e9cc8335a395ca11b3bf2b3d89f52ef9da76d7ef794855206bf0884e72b37c']\", 'send:-1317390015', \"send:['4b1f2fde70c6c5b6336eaaf7d1c248c2b3254f46e7f5ab75b939d29a07c0b50c', '8c89f0aa75840fff7a58344bc970ac86277c7b3a291d9b07c4bee88393b45fca', '4526b8b1e33c5a265c038279ee994459a6ba5d9e6e3d0d3f8fe234afa4c79f96', 'e07946345d4a779805d022a5451656cb03aa0b71c41c20e53cffb1f5fe6e10b4', 'c7b4c2c3609a9325dd4babbbadf5378506c930664f61587727fb5f36623feb89', '0cd90d794039d28e2f06b78b19db3fb5bae5d47cbd774f5dfe9c0ecf614e5d30', 'eeea529f56357b911edad7915bb22187979732a536827c1e2a38234541b8706d']\", 'send:819548206', \"send:['6c1dc78d3332ff4ca579445e12ffd2b5490df5644f4fe3cb7dd2e665b6653eab', '101b512552c106ca72826298989b20514aefa67091e871e0344059bd789219af', 'dcf43f65a00cb2879928d6c0ae7ab115b7c896989b5463f2d96748017ce95dd4', '95441f8fa22f0b9a41f9d7a5483c573215f29524e335393d9ea1496d94de34cd', '8b8c24211b8d6734c01c0206c84cc396ce2b7bd79dcd82919f0a4975d7ea61d4', '6b577089202ee0f473ea01bf588cbcba004993a30e00317a827181eb207a67b6']\", 'send:84105243', \"send:['807c1ff59bf9cd4d4c52ef79b5a6d3328b54f1b869007e5913c3c8690c692908', 'acc41bbda49185bb53bd468adcee9f4c555e5beb1259e2df1fc0a31a0cf18564', 'b2f9aaea5094e44077e5dceaa3f19468ece8f735efef131f62773f2ae3480043', 'fd91674f29e9881ca2db57bbfc051fb60e2f7767505d0109f13c36c2ed88e7f9', '40a96e26a7857d4b86ff50b1900e5ff8cdacb625cd291a9fad51a5aa2ff53488', '405b2ac595aa76f656dc6f9689199159298900f1f128d1c0bb3ab495055b570e']\", 'send:-1169305105', \"send:['6ab10455b39e7edcbafd215a8c63224d3b09b1e4ab9bb91ee6c0613419c30c26', '99f02d62629cb315e4790aca3e154b6965c636690505c43646ddb75db2fbf21f', 'ee722dcba92d07c2abdfb135c6807a60f957b4ee51c2a5994851192ecff4d957', 'db1670cc50260a3fa0f35192b7619f7322200f2b6e0c8fa943e325e607568ff6', 'ee32fff88147b5e647583b8369aa61240751349ea46a8e08e0317c14a801bbd5']\", 'send:-735269526', \"send:['72f3295ced3055d9950c00da8df9858b177dcc46a5a354fb9542e76146b62dd7', '8328f990bb735b696949eb9b39da8fb25d90ef596140dc1830a877d4c2bbf65d', '24f4e2ee54a538520b59b5f8132de51604b5a3cdf3f7514e62ae84bb350761fb', '3d17b2d196359d4eaf57939512d080d4722ae1f9661fc288049517aa794fdc7d', '31bd726bf57a73d6617c3bb74b2035d7c3392c32f382a61a66eae72db33067dd']\", 'send:-1567914036', \"send:['7650cf0494d240c75902851ba515ac4e0073f2e582f1721f84eecc3749603630', '7cd618565e46d2816a6103a5f5f4eb8b831d59d731ec3ff19f55335f861f6eaf', '2a960474a824c3ee416a132ee969e79a0a2d633bd4cdbd68c2ea0993ff0a8d29', '3d4b775d5efe797098c7a482b6d4d891d2cc1f5a9c3739fc8949e8acf4a49eb4']\", 'send:-402771350', \"send:['ee2dd91c5cda82bfdb0190f314b1c82d1e93fd082b9f32a36fadef6b2c440f03', '4b952805aff5808a85a26f49de0f6dea8c782128d6c46be1bf76be48509d06f1', 'c7e144ac0098c8fcc7eea01e061b0358788709ff00950092767f17b4e85de1cc', '98418752fda48144b76622e7abecd174f7bcc189250a303fd780f6e8da682257']\", 'send:-908778102', 'receive_random_int:206', 'send:-265512180', \"send:['5a9e9341a4b7658d1011569501f545fc0f2046050cc5d2ba881005d27914cf87', '83c8466c4d0a6e091fe7e79b08f2fec0645d81ddc260b563baa493c3e8f7deea', '10854267132812bf6f8d2402e4896f09115aa8c15b9c732a38f5a457fffa6825', 'cd0e72ef623cbf7e1f6a586f824927e8d0f49a66e9bf18a7b441d20b6ccbfefb', '53facbe489e171c932575a33ffa4dca809969c4df826464b2360a002b9cf27ab', 'd83c33cf698df8d0ef4253697b4ac2596158e091fd94bbd0d456297dfdd7c34a', '6c8325cd19b6df308b63ac90e87969092d4161fff8e1b2fab9dffcc9896c7100', '84ca44b50952fd1b401688f8f1b4e52fe7e7eb0c1801d125320b78e209b6c146']\", 'send:-167619269', \"send:['5a9e9341a4b7658d1011569501f545fc0f2046050cc5d2ba881005d27914cf87', '83c8466c4d0a6e091fe7e79b08f2fec0645d81ddc260b563baa493c3e8f7deea', '10854267132812bf6f8d2402e4896f09115aa8c15b9c732a38f5a457fffa6825', 'e2da386d98bdd9b015d917f0ac042c386e9f07b9fe36666e2292430fb42fa451', '75762afe8310556ba63dbb62790e0aff726619f91684088d100fdd11fce2eac6', '5bc8384a6159757f038e1719f8f86985cbc11359d32de252b0babc37fec46aa5', 'ac5df0e1bccf46e2c7ddff118782a29fc9e77bb6a704d0c409effede41c001f8', 'aafa4a48e2bdafa18a2dfc005a45f9c46701946450d777be267a5daa57ac2902']\", 'send:-718731076', \"send:['5a9e9341a4b7658d1011569501f545fc0f2046050cc5d2ba881005d27914cf87', '83c8466c4d0a6e091fe7e79b08f2fec0645d81ddc260b563baa493c3e8f7deea', '10854267132812bf6f8d2402e4896f09115aa8c15b9c732a38f5a457fffa6825', 'e2da386d98bdd9b015d917f0ac042c386e9f07b9fe36666e2292430fb42fa451', '319c1d02f0f9a84d88ee63bc4577d0eaff3aa0af214431982bd9eaf1d6b55897', '5baf13d5e507fd86994b123e7aa6f7f1956bf7c2f848b83054f656eb7d6a564b', 'ee4e87412e7931027b78e6bc67a25a552322788ac69f3706c9cf1f21aba8fbc7', 'd61d717dadb9fa7d29b213e7a8a9e3b9548df6ea98ce68ad2f8063d2d66da704']\", 'send:-1375898679', \"send:['b51d4c3cae7f45fbb82d2f26a0e6229b32d4a18f992ba5cbc3b7e80d4fcdb84d', '3a282ba595c5e110af0ad71497058fc15fe02666c84d51c617cef1d87a74e265', '689db7807d2ff22387f9b334b3cf922bd1a86d659bb7b44cd1d04e1a26b6890e', '92903599ea73cab8822180079be36f106fb7e3e1f8c556c789c670a51b67cdc2', 'b2994b0f902a40ff6b93670bd8fb0d7ffcd7b1af1e7b18714abbcfac80d66ef4', '983a5b938c838945a8327d0a55bb69a8b93791c15681ea3508ae71430a8b176a', '560ba3c8c6f8e0fc9be8e060e1c064d9a68ca927288db95628c9339713c22ec9', '19b1992e49517db09a16073e28e4e4d7782367df2b2cec961e1ebdf5c5254775']\", 'send:-856250627', \"send:['dffb31bc137c9cb3f5aca93effc47028bbad18a402585f447cb4f0955d357db3', '05d39c57a60350a2bb457415f0acb4d30dfe67ac4cb2df5c8b1be7bb0ea648d4', 'b072c8a27d77fa1eced826a14e943e3b06d544bbd4eeb0f31b350ffbecdbbf80', 'dcfe9d9a3fff4b31da9d60e4bf8cac0573ae7f5d48dd34dff2b8a9b96d8e314c', '2e7cfec437fc5507f59776c7c9962cc1dbad72dfae2bf18ec464f728fa85475c', '11e8cdae8eeb288a3fe1b49ba2443dfd9d1944c4083612b5336ed0d19e203a69', '014548cd3d25c52e70154c8233e8c094a319ade32a6729311187de43684dfde0', 'd5c4b70fa3f736d8c22784179bb4cb432b32c0ac63f0b645c6d70d678ed0f6ed']\", 'send:456638171', \"send:['b523cb1b70d67b8020d3380b84385b2e720fb6c53bf39e8c6e364ac4a7f15883', '54ba4f25f88644f0c764597a1274f54e69f77f62449f59bf83b7613ce29cfbf0', 'e67268b5d3e28c1c52de22805c07e6ae933679cc4fa24884b8caff6b3013ec79', 'b8458fffe61784adc729f47576695f02eb015e82f709414eb2d126b5dee147d8', '2708bd431322aef690a2fd314c4d6ef2f243a4f91c53684ff105fada3dc8f14c', 'c5859bb2cc13c149e5e2c5ac9fc8e54968585d1ee778e5c3fac68e158d6dee8d', '5a3112a67ca1bf5478a131c1ee21e2da7db394a6b73af9cbe62d42af5b8db326']\", 'send:-752688083', \"send:['4b1f2fde70c6c5b6336eaaf7d1c248c2b3254f46e7f5ab75b939d29a07c0b50c', '64f1926680f48932eaee51d0173ded2c6202c9ce3a9dcf125414950eab2150a3', 'd440952efd7a7bc77b0dd257ad8f99d89b68b5b8583846b5fafef4a7f5b1983b', '395cb34d6363199e894c811fa4655b7fc244a46d4699a888ea50ecf27d0822c7', 'a222f7b9892c7657d801b57fe32637cfbf05121375e1bda53badef952a2be16e', 'b7322b50e760c550cfb1740cda12a0f5af035a86854653abd4ba252a18e6ddb7', 'ac2662e7d43adb3f4a991bd5e81a845593ae5a3e49b2c838a7ad872312ee4ed5']\", 'send:574966867', \"send:['807c1ff59bf9cd4d4c52ef79b5a6d3328b54f1b869007e5913c3c8690c692908', 'acc41bbda49185bb53bd468adcee9f4c555e5beb1259e2df1fc0a31a0cf18564', 'b2f9aaea5094e44077e5dceaa3f19468ece8f735efef131f62773f2ae3480043', 'fd91674f29e9881ca2db57bbfc051fb60e2f7767505d0109f13c36c2ed88e7f9', '89dd89a09dca6e2d0de39b5d0dc38993a265b6b5f25ffa3644de083f03e7ebb4', '3774b1a25106faa8a6d788254d02a62d4d7f3bf9ccb1fadb0cbbdbf76a2d478d']\", 'send:-727950855', \"send:['6c1dc78d3332ff4ca579445e12ffd2b5490df5644f4fe3cb7dd2e665b6653eab', '101b512552c106ca72826298989b20514aefa67091e871e0344059bd789219af', 'dcf43f65a00cb2879928d6c0ae7ab115b7c896989b5463f2d96748017ce95dd4', '95441f8fa22f0b9a41f9d7a5483c573215f29524e335393d9ea1496d94de34cd', '158ab00e8c022fcfffda62cbbfdbe8e976b1b840b8b51a1bc074b2932df763e7', 'a7a967dedcb361414ab8cd6aaeda815964f0b373588971f4ecdb807c5d0fba95']\", 'send:562077702', \"send:['6ab10455b39e7edcbafd215a8c63224d3b09b1e4ab9bb91ee6c0613419c30c26', '99f02d62629cb315e4790aca3e154b6965c636690505c43646ddb75db2fbf21f', 'ee722dcba92d07c2abdfb135c6807a60f957b4ee51c2a5994851192ecff4d957', '1b91c4cc7d3ce03c829a35a9a86947b562f203b981fed948143779a2555286a2', 'd94599a0aba650982312044acd95b1c23658ef9c12e8c2f24ea76d78a1afc666']\", 'send:-935395120', \"send:['72f3295ced3055d9950c00da8df9858b177dcc46a5a354fb9542e76146b62dd7', '8328f990bb735b696949eb9b39da8fb25d90ef596140dc1830a877d4c2bbf65d', '24f4e2ee54a538520b59b5f8132de51604b5a3cdf3f7514e62ae84bb350761fb', 'a58e7f77a45c39d469085b65680525273cc9e87b9e97a0b08ab349436fd5a507', '590a6ab245bbcc38037bb97a823770f28bff658963669dda5798f0aa43463ebc']\", 'send:808327307', \"send:['7650cf0494d240c75902851ba515ac4e0073f2e582f1721f84eecc3749603630', '7cd618565e46d2816a6103a5f5f4eb8b831d59d731ec3ff19f55335f861f6eaf', 'ac82586afa65765fac7352c0dd3957ff435f368b22c21290413b0897058a27b3', '2f8fdeb66c6627da7be2e2e62c02a354abef6dd4baf94dccc6c2e3b80c9ea033']\", 'send:442212780', \"send:['ee2dd91c5cda82bfdb0190f314b1c82d1e93fd082b9f32a36fadef6b2c440f03', '4b952805aff5808a85a26f49de0f6dea8c782128d6c46be1bf76be48509d06f1', '8eea5a9285861c356158f27cdc6e204d78e0c98c12e57b64c5e660903130741c', '311cf83b6dbb96975281995c341d5000372aa9104d28b015dc2193c29acf525a']\", 'send:-908778102', 'receive_random_int:19', 'send:786459611', \"send:['606ed01ee270056214531d6bc536230d43f5b11d35240ba36020446cfb0cdef8', '07b3147e4f0ce70f2378848ec783d367897f79994bed3672a6186aff5733d48c', '82f81bc16fa0dee48d57f0e564736de0ca66c053487174aa413f017520d0dd2c', '3b283b2364f0c4e4b402d01741d43669d54c0095be0239c5e78bf82c7f70f8e7', 'b30acd47ca8114dd9f71d456dcd7431b9e378363cd3d71836abb169d65692f82', '707ab52b4fd2aad7a2bafe5a8c2b5a5970bb04d417465eb05f7603139c4187e0', '67c0a0d48c0ad6e19fc2adce1a7ab91fd5c5d61b36768cfbb0b861afd6197dbb', 'e18437b15b7f4d08c86a81ea3b857503a91057e626d3fd10e42a5bf4fea63153']\", 'send:-114293251', \"send:['606ed01ee270056214531d6bc536230d43f5b11d35240ba36020446cfb0cdef8', '07b3147e4f0ce70f2378848ec783d367897f79994bed3672a6186aff5733d48c', '82f81bc16fa0dee48d57f0e564736de0ca66c053487174aa413f017520d0dd2c', '3b283b2364f0c4e4b402d01741d43669d54c0095be0239c5e78bf82c7f70f8e7', '31ecf57c4e2b134086c6d6f46fe1e0a3984e52b8892132c0b424d6707d95d885', 'cdd3cbd19d29564c00aa32cbddd07fb4d5a86eff3c2a8f1a623d7a4b0bce91c7', '2698027512186058c83f36df62a106cc2866f91b420c82a6a44fb08263b36c94', 'f2f3a2034eca36e8cb98840b8d488e3d76698f46800c32cf4db2bb404bf340d4']\", 'send:-521977926', \"send:['606ed01ee270056214531d6bc536230d43f5b11d35240ba36020446cfb0cdef8', '07b3147e4f0ce70f2378848ec783d367897f79994bed3672a6186aff5733d48c', 'ad23de9a5ffe3defc1e968e678ed80671eab862f0bd53f432633f28d5dcdb23d', '511aa3488ad34cc8d20643102fcf97e3aa76583f78d579886f5b4a655756a055', '563cb5ab9a423b77d08a80202b5dcf842fb88a1e7c963bc15f01d8f5085312c7', 'dd469ca086a184e099fe44929d88e4aa85cacf1e43a9b9030cbea96a546ab086', '7d3b3c48c07467343857bc4288d9cc542649da4c7d4a2176a8734ee4d8cc4cbe', 'b2954f6cf12016f2fb446fb8a506532083e2220bf85a9aa6dbb3356d9e91c69b']\", 'send:-254466291', \"send:['dffb31bc137c9cb3f5aca93effc47028bbad18a402585f447cb4f0955d357db3', '673100a5fb884403add9a0d1b36143abffec4e35599003f95931dc0e8bf1a08b', '48d8ef34c6ce406a0564bc356bc8d3c505d4feac760623fe08a7e9b633aab1ea', 'eab72f887957263ae9efcd637ff65ef9d77d7858501280e4ce6f731c4234595f', 'c8306eb294c1167fd23d692a8e365cdaedc6dc5b44a113c42ba9ba91c6722785', '67086d6b52ca1ac4b44573dc20f640f18bbf9c51c908557a978e63b557149e63', '47baa78c8034b3d5531ad37af0bc338d36b9ed194c9d2cc6ab3ab68a4a1d3a31', 'd6799d5efd092d42a360a8edcc60d20fef6189015887e0f3ba27156def954045']\", 'send:1173038378', \"send:['b51d4c3cae7f45fbb82d2f26a0e6229b32d4a18f992ba5cbc3b7e80d4fcdb84d', 'cd7ce9a97941cfef994266c767f8e51e5b7919b218382986984ae6a3d0beb24e', '3f6a7e05596312f1d5898add22f68cc13a587344e676f9970c76dc7b9659f41a', 'd73037318040bf2f2034059287d2aa8bc8ccfe2051477737b093ad1b0bc9dd53', '5bb23018e8dfcb54e05db8cb9c5fa278a12de0649c664d2bbc3514c153905b35', '2776386c44bec7694184206201790ad4ff6529ce5304a220d9c621423c650ba8', '66ddc34d2fc2bbed603c61cf99984f58e4cd02c71505a3e5d20ef48fef25c358', '1d9bfe78ababcd1900daab42aea7e5596ebdb85d5443bf3e5a7f0aaeb2649890']\", 'send:525318079', \"send:['4b1f2fde70c6c5b6336eaaf7d1c248c2b3254f46e7f5ab75b939d29a07c0b50c', '64f1926680f48932eaee51d0173ded2c6202c9ce3a9dcf125414950eab2150a3', 'eb1d80a5064d28386f32cb45232b2b741237ac96f57878a865dc8871d1b70ea9', 'df2977f794e9ef6f93d122db708204008507546077fc4b8f63a52a131b7c9161', '8aaf4308f9d29865ebc8d8cb0a97390ca35f044a94ca0ad9c3cf64e7e7ee2c87', '2ac50e36db7125805161151b544018e193eacbca3ae4c39e0f0af6f937022e39', 'c19de76189f96bb9a123a4f06c8966dfe51b6586181edc25506d81d5e34ccaf5']\", 'send:850779489', \"send:['b523cb1b70d67b8020d3380b84385b2e720fb6c53bf39e8c6e364ac4a7f15883', '54ba4f25f88644f0c764597a1274f54e69f77f62449f59bf83b7613ce29cfbf0', 'd033d1bb467b24ba802628fa366f090aeffd9696bf6f465ab5957925aa94dd4d', '5c736544881663005a8084a15ab793ea63112eb12ac537a9f2b3a9e125ad1935', '8c4bd63c867fe8b9e135dc8bf61ece6f914e0b0bc55bd221d6b8f3f0e04307f8', '1ec40be015f747b3bf8e3d23dd517fbf1f11898d65ceea5fa34e0de419416915', '5e094bd7fae1d1d286b8ad68928a2a980204e6e0988ab7fbfc714b60e131dd52']\", 'send:860933523', \"send:['807c1ff59bf9cd4d4c52ef79b5a6d3328b54f1b869007e5913c3c8690c692908', 'be6f3bd6224ec08fbd0502683313b77b597494bbf4d3c98ae55eee16bdc2dd09', '6e80b56d3273949917e48e7f9eed5c92f7aa1a62c4bca38c8df08e469501eb60', '06be6d597b0c9c681874534c30e2eb483dea7b662094421dc24e0649f468973a', '8344b4fa81c75fa04d6e057a68c75c3555acf43301cbcfe08e2a150cad62b9d3', '33e0418c55b9c7405b322a1cd88811fa897b3cc7119b10193d8fde88c095eab6']\", 'send:521809933', \"send:['6c1dc78d3332ff4ca579445e12ffd2b5490df5644f4fe3cb7dd2e665b6653eab', 'bdbbd47f9fad55d5b203e39828b4ae991c8b9fab102f560da6dfe53aca2b73f1', 'd972ff30631db6412af647e012454a65ddcee701b3b16193968aeb20c1cb632f', '8a1bea347f3bb6b836939ef15f3286ddea25525a68ea3183c91c0b794f256499', 'f00b47cf396aa7a89fb58385a7f117bde254d6a77a6248507abe2f6e0078fa31', 'a714b39d51744970abdf8e9899830ab3b8a4e3a7a64276dccf47329983af4298']\", 'send:-1512829865', \"send:['72f3295ced3055d9950c00da8df9858b177dcc46a5a354fb9542e76146b62dd7', 'a7d4c4d5da71d46b53be920b50590873e92cec022bfe3b489b5c725f21e7fd58', 'f112c3163ef7da99f2bff6e3378e32408256895831eb2dfdfbfc67eb456105e0', 'cace4c994aa947fac6f501e9493eda52b5cb5a337240cfc667d8471b22608778', '511c997c75d8235181d4e51f3c98becb90a0c26468281b8e9853af32feb06426']\", 'send:-594210881', \"send:['6ab10455b39e7edcbafd215a8c63224d3b09b1e4ab9bb91ee6c0613419c30c26', '9725f8e97085c1315e0a39bfd92432ce62bb87253b90d4564a1d599104348cde', 'c6321c851f4c5d87cb0bcd0bd21a95f1280a64136751f9a5875ec0f119375557', '621b96ebbfad97fe89604d7b9414e516952e4ef760514a92443cc5b66fe05c09', 'fa4a066e3154172babe0d5b06c8cee81c7bb4868b508d91179e1580e5cfc7071']\", 'send:-58534357', \"send:['ee2dd91c5cda82bfdb0190f314b1c82d1e93fd082b9f32a36fadef6b2c440f03', '6dd5ea673f1a421f90b23d068256ef13e9dd2085a2ce2a9ecf34df5088c5d053', 'b7793d42ecffb3f9c6cdacbc598c3d6bc14e2688aa771fc24b1d3a7177fab753', '2a589705fb9ff2ed2ef628c9102f0bb1618e5d92dc7280f5a001def125ac62d4']\", 'send:1309074444', \"send:['7650cf0494d240c75902851ba515ac4e0073f2e582f1721f84eecc3749603630', 'd38d43e6b113f4735e6a13c9801e2cc48d066cbb05241960259ae17544d3df0d', '92f4bf3a7b99b3692c2e93cb7db434023f95aece1660d578d322fb7147ac7025', '1c2ea16f22b883818d123c1499fc2b0ed03788656d2401751c41117cc7f3acd3']\", 'send:-908778102']\n",
      "Overall time: 0.34813618659973145s\n",
      "Uncompressed proof length in characters: 19178\n"
     ]
    }
   ],
   "source": [
    "def modelo_uno():\n",
    "    \n",
    "    start = time.time()\n",
    "    start_all = start\n",
    "    print(\"Generating the trace\")\n",
    "\n",
    "    # Tabla de Ejecucion\n",
    "    a = [FieldElement(2)]\n",
    "\n",
    "    # a_{n} = 2^{8^n}\n",
    "    while len(a) < 22:\n",
    "        a.append(a[0]**(8**(len(a))))\n",
    "\n",
    "    \n",
    "    # Siendo n el orden del subgrupo\n",
    "    # n*k = |𝔽×| , busco k tal que |𝔽×| = 3221225473\n",
    "    n = 32\n",
    "    mod_F = FieldElement.k_modulus\n",
    "    k = mod_F // n\n",
    "\n",
    "    g = FieldElement.generator() ** (k)  # Busco g^k\n",
    "    G = [g ** i for i in range(n)] # Genero el subgrupo de orden 32\n",
    "    \n",
    "\n",
    "    print(\"We blow up the trace (Extend the trace) 8 times bigger\")\n",
    "    \n",
    "    n = 8*32\n",
    "    mod_F = FieldElement.k_modulus\n",
    "    k = mod_F // n\n",
    "\n",
    "    w = FieldElement.generator()\n",
    "\n",
    "    h = w ** (k)  # Este es mi generador g^k para el nuevo dominio\n",
    "    H = [h ** i for i in range(n)] # Genero el subgrupo de orden 8*32\n",
    "\n",
    "    eval_domain = [w * x for x in H]\n",
    "\n",
    "    f = interpolate_poly(G[:len(a)], a)  ## Este polinomio pasa por todos los puntos que nos interes\n",
    "    f_eval = [f(d) for d in eval_domain] ## Busco la imagen en todos los elementos del dominio extendido\n",
    "\n",
    "\n",
    "    f_merkle = MerkleTree(f_eval) \n",
    "\n",
    "    channel = Channel()     # El channel nos dara datos que deberia darnos el verifier\n",
    "    channel.send(f_merkle.root)\n",
    "\n",
    "    print(f'{time.time() - start}s')\n",
    "    start = time.time()\n",
    "    print(\"Generating the composition polynomial and the FRI layers...\")\n",
    "\n",
    "    ## a0 = 2\n",
    "    numer0 = f - 2\n",
    "    denom0 = X - 1\n",
    "    p0 = numer0 / denom0\n",
    "\n",
    "\n",
    "    # a[n+1] = (an)^8 \n",
    "    numer1 = f(g* X) - f(X)**8\n",
    "\n",
    "    lst = [(X - g**i) for i in range(21)]\n",
    "    denom1 = prod(lst)\n",
    "    p1 = numer1 / denom1\n",
    "\n",
    "\n",
    "    cp = get_CP(channel,[p0,p1])\n",
    "    cp_eval = CP_eval(cp,eval_domain)\n",
    "    cp_merkle = MerkleTree(cp_eval)\n",
    "    channel.send(cp_merkle.root)\n",
    "\n",
    "    # FRI Folding Operator\n",
    "    fri_polys, fri_domains, fri_layers, fri_merkles = FriCommit(cp, eval_domain, cp_eval, cp_merkle, channel)\n",
    "\n",
    "    print(f'{time.time() - start}s')\n",
    "    start = time.time()\n",
    "    print(\"Generating queries and decommitments...\")\n",
    "\n",
    "    len_query = len(eval_domain) - 1\n",
    "    decommit_fri(channel, fri_layers, fri_merkles, f_eval, f_merkle, len_query)\n",
    "\n",
    "\n",
    "    # Verificamos\n",
    "    print(channel.proof)\n",
    "    print(f'Overall time: {time.time() - start_all}s')\n",
    "    print(f'Uncompressed proof length in characters: {len(str(channel.proof))}')\n",
    "\n",
    "    \n",
    "if __name__ == \"__main__\":\n",
    "    modelo_uno()"
   ]
  },
  {
   "cell_type": "markdown",
   "id": "045409a8",
   "metadata": {},
   "source": [
    "Vemos que tomamos\n",
    "- 0.01599 segundos para crear la traza de ejecucion y extender el dominio 8 veces su tamaño\n",
    "- 0.06235 segundos en generar el Composition Polynomial y hacer FRI layers\n",
    "- 0.3503 segundos en total\n",
    "\n",
    "Los tiempos suelen variar ligeramente entre compilaciones"
   ]
  },
  {
   "cell_type": "markdown",
   "id": "edc321b1",
   "metadata": {},
   "source": [
    "# Modelo 2\n",
    "\n",
    "Repetimos todo este analisis ahora con los siguientes modelos\n",
    "\n",
    "2. Considerar \n",
    "    * $a_0 = 2$ \n",
    "    * $a_{n+1} = a_n^2$\n",
    "    \n",
    "Sabieno que $2^{8^{20}} = 2^{{(2^3)}^{20}} = 2^{2^{60}}$\n",
    "\n",
    "|$f(g^i)$| $a_i$         | Valor     | \n",
    "|----    |--------------|-----------|\n",
    "|$f(g^0)$ | $a_0$        | $2$         |\n",
    "|$f(g^1)$ | $a_1$        | $2^{2^{1}}$ | \n",
    "|$f(g^2)$ | $a_2$        | $2^{2^{2}}$ |\n",
    "|$f(g^3)$ | $a_3$        | $2^{2^{3}}$ |\n",
    "| $...$   | $...$        | $...$ |\n",
    "|$f(g^{60})$ |$a_{60}$   |  $2^{2^{60}}$|\n",
    "\n",
    "La tabla de ejecucion tendra 61 elementos por lo que se tomara un subgrupo de orden 64.\n",
    "\n",
    "Los polinomios asociados son\n",
    "\n",
    " * $a_0 = 2$\n",
    " \n",
    "    1) $f(x) = 2$, para $x=g^0$\n",
    "    \n",
    "    2) $g^0$ es raiz de $f(x)-2$\n",
    "    \n",
    "    3) $p_0(x) = \\frac{f(x) - 2}{x-g^0}$\n",
    " \n",
    "\n",
    "* $a_{n+1} = a_n^2$\n",
    "\n",
    "   1) $f(g\\cdot x) = f(x)^2$\n",
    "    \n",
    "    2) $\\{g^i \\, , 0 \\leq i \\leq 59 \\}$ es raiz de $f(g\\cdot x)- f(x)^2$\n",
    "    \n",
    "    3) $p_1(x) = \\frac{f(g\\cdot x)-f(x)^2}{\\prod_{i=0}^{59}(x-g^i)}$\n",
    "\n"
   ]
  },
  {
   "cell_type": "code",
   "execution_count": 17,
   "id": "97ca76bf",
   "metadata": {},
   "outputs": [
    {
     "name": "stdout",
     "output_type": "stream",
     "text": [
      "Generating the trace\n",
      "We blow up the trace (Extend the trace) 8 times bigger\n"
     ]
    },
    {
     "name": "stderr",
     "output_type": "stream",
     "text": [
      "100%|████████████████████████████████████████████████████████████████████████████████████████████████████████████████████████████████████████████████████████████████████████████| 60/60 [00:00<00:00, 2313.80it/s]"
     ]
    },
    {
     "name": "stdout",
     "output_type": "stream",
     "text": [
      "0.07666134834289551s\n",
      "Generating the composition polynomial and the FRI layers...\n",
      "El polinomio CP es\n"
     ]
    },
    {
     "name": "stderr",
     "output_type": "stream",
     "text": [
      "\n"
     ]
    },
    {
     "data": {
      "text/latex": [
       "$ 391723145 + 1565261655x + 1572691246x^{2} + 386563218x^{3} - 890152011x^{4} - 231301105x^{5} + 1384308011x^{6} - 1186912603x^{7} - 1354498163x^{8} - 1143744077x^{9} + 906739194x^{10} - 595064662x^{11} - 430433891x^{12} - 1345581821x^{13} + 279163021x^{14} - 1425566820x^{15} - 1020784651x^{16} + 462105767x^{17} - 334102164x^{18} - 1556765650x^{19} + 918945450x^{20} + 3912124x^{21} + 636406130x^{22} - 1062864714x^{23} + 575904832x^{24} + 728955960x^{25} + 551225573x^{26} - 1313932705x^{27} - 335733081x^{28} - 1842720x^{29} + 1488800469x^{30} - 1214839106x^{31} + 518917643x^{32} + 1222680752x^{33} - 1490470729x^{34} - 1540708104x^{35} + 1508875928x^{36} + 453420972x^{37} - 840223246x^{38} + 148621766x^{39} - 519741707x^{40} - 1450095467x^{41} - 196430039x^{42} - 105285619x^{43} - 1452762334x^{44} + 1158238194x^{45} + 41510292x^{46} + 1399839914x^{47} + 1465489142x^{48} - 1056925561x^{49} - 1423497994x^{50} - 87182677x^{51} + 1388339077x^{52} - 74046106x^{53} + 1561329725x^{54} + 30474944x^{55} + 6245878x^{56} - 980979130x^{57} + 469021911x^{58} $"
      ],
      "text/plain": [
       "<polynomial.Polynomial at 0x7f1588180460>"
      ]
     },
     "metadata": {},
     "output_type": "display_data"
    },
    {
     "name": "stdout",
     "output_type": "stream",
     "text": [
      "0.08289265632629395s\n",
      "Generating queries and decommitments...\n",
      "['send:f34a7d52b1013bcb96d9ed083c1d247c53bc81cf2f1c1178118f2e2f32c2940f', 'receive_random_field_element:598333599', 'receive_random_field_element:129547673', 'send:1e247ab320415e2ded18932129325d01e387341f6dbffd039bb43dacb2e71d47', 'receive_random_field_element:2293590799', 'send:157a4707acb15cb84cdb35a2daa264da654bf00e0a3cd3e04d9938974440a9c2', 'receive_random_field_element:2168478102', 'send:4147203138cbfdef5c3e46392fd7f67c1ad90414e77024d301b715a2985cf149', 'receive_random_field_element:1728928168', 'send:fa12893bc11abdc5dfc773dd3f1cc90954be0914e857b4729ded1f47534ddc93', 'receive_random_field_element:1608258013', 'send:af9689b6d4060b04641591008553e08325f5ec387c578bf5662e61be1e6159d8', 'receive_random_field_element:1838309686', 'send:47ba4bbfbfb14f71550ce9fc35df4db6648b8888f38599a0a388c072d228d510', 'receive_random_field_element:29148827', 'send:4839936eab97c5bbe16f75cf3934e4777aad15d948f92cb146db6491abc0e4f6', 'send:1598091377', 'receive_random_int:269', 'send:-537857658', \"send:['30cd57ed8ebbbebdd99be8b66b1aa0d3d4266642ee9b6b6bb72fbd0231529c9d', '8ba47062ac3298cbbd5bd43b58dd4eeb84093168623fd553d886d0672bbb2803', 'cacf99d72626400ec1b646f4ff4d337132b64d511d0b95187fe177667e47a3b7', 'f58dcde29915b0d5366a9b5d1cd8bcfadd62b7e34c3e0f9c8b0c11f6f03ef0e4', '6d87b27ba2679ce1156821b17e1991df96374f358425591e2ae2517ff44235ee', 'f2e79ffc0f4e99b7b8d41f79825449e07af859d26f9d8cc813e5d6f8c6e63bd3', '3cd22f204be791bc6e95a964f9fd1542ea411240f810c3cdcbf8ff57c9cfb5c5', '15a448b5ebb965ccfefe98caef908ed16f180fbf79b137c777f7d0864a9d00c3', '6d18fb0c962f8b738649a26b2e526acebca8bce43a0c98b3da7b053fef02512a']\", 'send:-1165081476', \"send:['30cd57ed8ebbbebdd99be8b66b1aa0d3d4266642ee9b6b6bb72fbd0231529c9d', '8ba47062ac3298cbbd5bd43b58dd4eeb84093168623fd553d886d0672bbb2803', 'cacf99d72626400ec1b646f4ff4d337132b64d511d0b95187fe177667e47a3b7', 'f58dcde29915b0d5366a9b5d1cd8bcfadd62b7e34c3e0f9c8b0c11f6f03ef0e4', '055cdf837b59a9f227c445d12508d4154a233677e660574ac02e3a9f40be25e7', 'bd083b2ced700a39513f058ecb0307087628d8b0eb8185a99f7f563f0887a2e6', '7a13a55dcd07c90494865f52a30cd6831e65afb532d7677ff1bcbce8e95e7f47', 'e9c6a0380d6ccfdea998991e83ed6876727df896c1c8c4bcc2fe0a44a9eb7255', '318457317a00a23a84f04ea22ca2c374f3526c22d9057f59aab309eabf018d90']\", 'send:-394207510', \"send:['30cd57ed8ebbbebdd99be8b66b1aa0d3d4266642ee9b6b6bb72fbd0231529c9d', '8ba47062ac3298cbbd5bd43b58dd4eeb84093168623fd553d886d0672bbb2803', 'cacf99d72626400ec1b646f4ff4d337132b64d511d0b95187fe177667e47a3b7', 'f58dcde29915b0d5366a9b5d1cd8bcfadd62b7e34c3e0f9c8b0c11f6f03ef0e4', '055cdf837b59a9f227c445d12508d4154a233677e660574ac02e3a9f40be25e7', 'd26169842614dc52688621d40a3fcce7ab37e6801d80b5a079dd79839066d5ca', '336d4ce59cc482df68f68d8389ffd778aab14f58b5b7a5c1d42688028f025ed3', 'e103eef6aabd7901672040d8d553d0449128819ac62025d0fc491bf69a7d4b25', '798aef9348a7268c09ee01d4814fdd7dbad17435b40e14a08a2d0c9f1860ae9d']\", 'send:698134041', \"send:['64bac54a5ee3911c81ded4c9f9448e92553e22198583960b99426adddbea3656', 'f96fd8665e7d497f8861e6a488322b572bd051f024dd444641ed044a4a83a304', 'a140dd3063026526f370bc5df563f8e92fc37cebde13e5d163ac88fbce159eaa', '0e449a4a41fb3fbe13e56cbab64347b81d0d69669c32333abcbec5af6067fca7', '0165b6ff3564ee092166d1da6a4984d222890910c8833185def602f6510fbd12', '093453a55357b5ca33412f83d275b3cb0236c3e5bef3c1dec68aa11bcbc07777', '81fff975eca82e38657856157980fa29f2c0a79ad2004c4384974e6d2aed3587', '08983a100090e7c20c7dcf61c899f628ed830f256655d2ce2137dcaceda54caf', '808e41e9269c86b25b27210e408142302a62b2120e8a7a169b3ef51bb3bc7729']\", 'send:677481612', \"send:['9eabfa0f73b75ae479df3b5e0fd2b335ce728fd9a84051807d0c84904c995beb', '014fa626e59f838b9c56dc282a4c8c533e48dc410930a5dc694653b43765120e', '9743125ceeea432f733a449cca8d3ffeb05fb7fedcbe662d0874e9f5aff67924', '1a43651a449b701a0cb2bc6dda2018541821b932f25f056308179d67cddf11f2', 'c6f8d76bcdedd47e8e0a4137d1326b74df9cad90420ae4175a4ccf7d1584d1cc', 'c2219fb171f8dd91a89e468f6199bc53dc725ac33477034db991fe944286e180', '1dc2a280fc3f8f3239cffa9e6dc8b89854259515cf8b2cbd27b61d6a720ff4ea', '970b5f112e2bbe5a6c1b7210ff46c34b1acd83702465576cc703b240ca089444', '786a4ed0a49060d2076a7c4d728185a0a9f36ad3cbbb85d610830280c43e4837']\", 'send:-747576284', \"send:['6a6f2430226d832f742633663aebc5b8db651525aba16d60f12ecc514e464283', '14354a72c8831714bc363c33f46f2dc3fd4fa299574c63675a8ce99735d0dce7', '458aa348435fa7f754ec418a67239c8f58d0d83d6bbaa6e82a38e1089ee3f950', '522a8cb698aca3450a390ae3ba5df3d0de5f9b37dd0c459f06d07f375d84f9c4', '78f9f56c14d09bd90677fa505b397c8135af855e832bf617b62fd4fb69066019', 'fe0b986dfc26997bcfcc5e6b9f5888a7b3d3a3b1e31de4fd05851108b3c511bb', 'b4198717fc60c3517281c884c2737ae9b05965b8e858c74624c5db48ee75a4c8', 'a88e339ff22605da5ed981ec3ece694626872ed1f9eb19bff6415a39eb6c274a']\", 'send:-1212712489', \"send:['fab339d1b995cb2178cf77e63b36de449c3e6029e20e4112a807a568e11e26a8', 'cc75e6c99cb7959614eba9fae3457f94de768ba8c93dc25a58e8dc0193575067', 'dc5ebb6da815a0e459823cc50428b8a82430ea5c77b107d106dad8297da95085', 'dc262e8ea798e40aa97909c8115c4852eee40a6a913b67c49ed2e99a5767a7a3', '4fe1c48e524128c6b1ca4d8d24919d25143067e45cea874fce48a1b21bb9084b', '04e0740a69a5150d9366bd1ab1428d48c8a8f5fc13cf8d0d0778a60f49f4622f', '4e61719681fdf4ec0f7514e7d11e36ce509c6b9df492d14cbeb72c22cb0c7657', '812e4128d10added773a18d054116d4463099ccf1ad6a801de8c8d01593789b5']\", 'send:-559911193', \"send:['9420e2e4d5afe239c954e4e76bbd2d3fc0b351d8fdd3f2536525e336fdcb42e3', '47345088462c01f22eb793e29226b94d921f54f1a51f5e4dfa5cc3457ca65f96', 'c5055dda026ebb44a22c3473b02049869b86dae8467389c014fd0308f578b562', '63cc56ef8eed7bdef814a9f2e96e9ccbc3b669a3711f3a62c2a0812c51ae69d7', '0515277bc329af3237fce97558fc0c0e72efd06d6b74988aea32e26378e528af', '211fea85d7fd064f19d5edcc3d06b79c292fa63907aa4e26af397c2a9d6f9cf7', '42fda62d5ee1f144bab389658517f5f8a2d16846afd1ae733362e31fba5ce792']\", 'send:268546318', \"send:['9a726ffbebd0247215a23c9fa3200891b946e5cd7f2acfa61ae1483db67d672a', '25219bb052583afad793ad73f473fcd22cf786f93a1d5e0eecaa718489e0aadc', 'b7d50c88761bfc49c96042ce8f03af8c644aa8be4ef70f64cf921d79cc40e880', 'd5fc6c37d0d184f6290c388f83755d1c2bf2a14c98d4bf0be367b6c0075fbf2b', 'a91d401d8d4099d0bb504f97ca9fd92550a73cc9748021f6dfc0f43d3b278444', 'feb85780c87fa42189c504e0ad7c50eb20aa8a318e5c1a13d79b925548ad4142', '8efc7422c1e2e6eb081f577b56f0764c4220fb9ce492c3d6d12559215197d466']\", 'send:1014363080', \"send:['8c827a86db28a790c09aa6e54f2d95cd3c20c9adc3d28eccc61e23514a0772ee', '3de840467e0530d7f277b07b8f0462ea6bc23e23213a4dc54eb47f34994c2c9f', '24421148807ff2f7615b1a2abe91b29b44d4466b6feb25a03c4fc8846e2338a0', 'feec330c85b2174a7e54154a78782b69cf1727da93db3d4e5fec763e1bda466e', '8b17707d1d4a37da7c9d64824a64945a4af50d2cdd3ae7e41591c3aa11ec8dc3', 'a1e35c7d185b29d303bb5cbd51a45c79883406b4d5dfeee6d292d739e880d0f6']\", 'send:930928285', \"send:['51e2e0bba15e528d671ef038b8822383c7731d944ee674e175d53c5adea59120', 'ed6a856f7d641c4dde65603af2d278c6bf1954b56388aa658940e3dc326eb0bd', 'd9f3fe10366379b9d41931c814fe4d25899c3382627e48ff18803bd3703c2dc3', '1f70c10aba83378478e3572d5651bef9ba18505be783535f47709c2279db68f6', 'b41a57ef29cb2197057f1d24ff6173333657259e9d3d47d32056af00137901a5', '9aec17b67cf79b4977aaae7c7b29698bd25c28ba9173ae6e4efee19fb62b3f9a']\", 'send:-1238912254', \"send:['30122887a51658beeddf3e82486c887e73031e2d1bad958c89ce0e074fe8ccfc', '72695b06f5efda208c0d9ecb0c1685958420fcdfd4f78412f70120b405b80989', '891b8fafe5caeb1dea89b8b90c0a29df1299396434156befbeb8f0f81d8dbbf1', 'e3b2bb08b77e1de713512ad959de29e3d3e854789f67ce1fb982d7d58f2f1db0', 'c9adac59dfc7ab72b22d42fbc05f4b6f94a0b483e5301ee45ae7fe7d6eb34da8']\", 'send:-1042956025', \"send:['4c24b704673e2684edeccaeb95718251f7a490c16388ad508affac97321d5a2e', '40a4f7b04c49c69585999fa6bf62bd8d17a71295dd4370f0d834c1b1c0481e6e', '36a94a4ee06e4cdfe1eab574624dbb15e14689427b245f8008ce9f583160131f', '8a6e5a27b2ca11143368e8a026203561bd15831b179197600bd7e49618777f22', 'ea92f3f4cf4db3340bb35796f80ac6607e30a0554434c3e870cf4cfa5d94ea4c']\", 'send:645443881', \"send:['6f05f061b54a31b729020e44ec1ab7906325f6b5d8c815fd67876d1192c71cb3', '556a2d5fe9439815eb7e4df404c5e347e6b7d2bfab37973c08a604761bb7d51a', '0dbfeb1e13876c144451abcf146589cc6f8280a5809e596878745bda21f11cab', '74530071dcebc93ba8c56417e95ef4e5bad886c9f7ee3208ccc366b89fb86718']\", 'send:332794199', \"send:['48d6a0ea72387496f1d5b0514ae92b605991e480b5c7d116e576ccdd3808c476', '07bb8fc525327528b80e3c1fda28cdedd544ae5a5c5f1d54102113f916352c7d', '242124b97b34fb79656a903721859eb4299e67180e355dcc33773fc6cc118c26', '7643d8c8bb59ebfe6a091181ab45e926a69674a0e059f18c8b13bff72f5d9f03']\", 'send:1598091377', 'receive_random_int:129', 'send:549216776', \"send:['711d3d2385493eb604d5dea3c14cdf3f9030baf40ab10bed11fd99ff823740a1', 'fb217d97f0ec099f4826fb11f7bac443913756ab07e09d45ec5fa0afe3e58a24', 'ebf5376ebc57df0abd43c948cff2f5737f0ccc348bbfa0b55cd84bdaff9253c6', '57beab3d133eaa5471ff286909954306b33f2230f4ec8ab74e935600d66c07a6', '8027f53c8491a9e65d329d45556504dc981eeaf51abca433efe4ba8cd3747b69', 'f2d1769dd8d13f181daa969890143efb5d670ad373900a9a71f494a7bf419cec', 'e644a23a636a163019da4cb1ec5fdbebc81dd3f17eae7614bcaae79f33ca7de4', 'e3f96377583532ba43433a51d068cc9b0731739ff9b54b787f120450c7158226', '8aaac05c11f8728a1cf4efe6d73762fba9e29e17bd045628b2a9f026690a2dcd']\", 'send:-1547779623', \"send:['711d3d2385493eb604d5dea3c14cdf3f9030baf40ab10bed11fd99ff823740a1', 'fb217d97f0ec099f4826fb11f7bac443913756ab07e09d45ec5fa0afe3e58a24', 'ebf5376ebc57df0abd43c948cff2f5737f0ccc348bbfa0b55cd84bdaff9253c6', '57beab3d133eaa5471ff286909954306b33f2230f4ec8ab74e935600d66c07a6', '8027f53c8491a9e65d329d45556504dc981eeaf51abca433efe4ba8cd3747b69', '68311bd03b919cda89469419961651707eb4687e7c7738fbd7bbe30308bd9dae', '01c0c1381f0bbc17def6bd0d65d15469779338183f7ae1ee90049d580491ecaf', '3b6d38f23fb219157887cddc75f6d64feb112ea33f5ece04d68fae4973f838ab', '0d2e74b1af520b04d45f2dbe1a8c4e6ac23cf143d56a3eb4ce24f8545f5248bb']\", 'send:-894355318', \"send:['711d3d2385493eb604d5dea3c14cdf3f9030baf40ab10bed11fd99ff823740a1', 'fb217d97f0ec099f4826fb11f7bac443913756ab07e09d45ec5fa0afe3e58a24', 'ebf5376ebc57df0abd43c948cff2f5737f0ccc348bbfa0b55cd84bdaff9253c6', '57beab3d133eaa5471ff286909954306b33f2230f4ec8ab74e935600d66c07a6', '3c77c38a6191dd53dd2a615173d1316afc237c948eb3bc29628cedd10a6eb414', 'bfcec9fb79d90d03f3e19b24c48ec17220baadff363c88632265d1603475f889', 'f3e813832bcc2c97cf559280177b6082bd2776b411a573da2562c7776a4f8e3c', 'ebc3ed57c0b2b183b77a18fc89ea9c8b8bd6a944c72efe6177edc48c1815c544', '11e049184a63f265f9fef3effda6bfc7f05dc2c1df0e981e78cfbe49f42688ff']\", 'send:1217687362', \"send:['9eabfa0f73b75ae479df3b5e0fd2b335ce728fd9a84051807d0c84904c995beb', '7180b1aee8ec54777fe5da84366ba262824ec1384a85e10e18f76598522d3416', '122b73f6efd2b49a9903ad8b94b74aa9a0f78325193ef9f63332d6c3bb4a9a21', 'ec536eb3e97fd4d3efb0e6862c0a311e3ab979b9041c5e51618924acb78bc814', 'ac6f0a03ee161b99e897df0fc730a9ba640dcfa7b19cbdd78977e2aea820c99b', '3fc85cb353529c0371538397902874d8e7a304be625e18d41e7b4f355b19f23d', 'c5175f575af8a7bbe2d4a22ad755badbab45844d14e6942b2190844efc63b0ec', '50e66e4703c7255229e3c9d7e40727cf9c0764eac09e228fb5b807e3737c4bad', 'aee59f03579fab260908ac14b4230d11703ab0a44a921a92a45fe8c8c9d9c39a']\", 'send:-1564546449', \"send:['64bac54a5ee3911c81ded4c9f9448e92553e22198583960b99426adddbea3656', '39bf3fdbb139d58ce78d6f73af44150a475864fb1491deaa5bf25da1402d745c', 'bdcfa5ad2eec441b44b44e322249c0f307625a98d2d069f97d40173db08d3ccc', '04703483f95d2efeff30b77383d95cb629caee97b23ccd23cb6f581e298328c1', '0565fbd5eef425268c312322a1f6a966cd0a99f064abd3afaa81abecd422da90', '12f92d6d2a3c0e0f2f1e534d36cc13d19d520220006caf0ee2750f3f2c237249', '34b4536acd9d786ba9323626ec5fcb1f65eacab2403013fbd881bcb7f4c02ba6', 'd3ef8f1711bb0d5945ed554295bbec568da1865c296c0cb13d24c5d11cca507a', 'a443fa3c4447dc943957269b666ddaeda16389cc1b50b0b28190973c6a36e9d0']\", 'send:103956235', \"send:['fab339d1b995cb2178cf77e63b36de449c3e6029e20e4112a807a568e11e26a8', 'cc75e6c99cb7959614eba9fae3457f94de768ba8c93dc25a58e8dc0193575067', 'dc5ebb6da815a0e459823cc50428b8a82430ea5c77b107d106dad8297da95085', 'dc262e8ea798e40aa97909c8115c4852eee40a6a913b67c49ed2e99a5767a7a3', '28b356fd8cda0fc480c450acb186c759dc7a489241a7c0d52d85a95ad75af42f', 'fec64b16842f41b632dbfbbae42e30d321ed27aacde4bb7fb4a35729728c4cfe', '1f8673b1b4d1fceac38c349dd5fd0eeb170aef27eb3517ce06c127d12b1942af', '1523bbc1a9a71d8c7e91e6af235e4b2436f43a76704194823c3fb355efc0a6c5']\", 'send:-83495091', \"send:['6a6f2430226d832f742633663aebc5b8db651525aba16d60f12ecc514e464283', '14354a72c8831714bc363c33f46f2dc3fd4fa299574c63675a8ce99735d0dce7', '458aa348435fa7f754ec418a67239c8f58d0d83d6bbaa6e82a38e1089ee3f950', '522a8cb698aca3450a390ae3ba5df3d0de5f9b37dd0c459f06d07f375d84f9c4', 'b3450f8c276dee3c367b4b88bed3da2fe63128272033dcb181de7b2ede5fd730', 'db4989e64042c94e82ccc6aadd09bb462814d2b8e3398f67d30756704146da1d', '2414da1a09fd188d3a6eabb8ebba2520eeff1f281af2caf6bbc7c8078cd43704', 'f214c8a15da301309111bb388e93aa9607fdd1110fccb3fd783b63408940cd51']\", 'send:229250467', \"send:['9420e2e4d5afe239c954e4e76bbd2d3fc0b351d8fdd3f2536525e336fdcb42e3', '47345088462c01f22eb793e29226b94d921f54f1a51f5e4dfa5cc3457ca65f96', 'c5055dda026ebb44a22c3473b02049869b86dae8467389c014fd0308f578b562', '31cd949ac8d74fa0ce935a0b635e91fb7e1d832a54509a529721c1c7117721d2', 'bd38cb4e38998799250c8eb0dbc333d633b14a5ccb5163fb7a7cebc3fa36d5a7', '17963172610cc3d95bacffbf92aabe30816e1a7717e83667806ccbc6dd5fb92a', '21382a182476bd51d23c754194b679fc51a4a30ea8f9537f665cfefdacb11026']\", 'send:-131040358', \"send:['9a726ffbebd0247215a23c9fa3200891b946e5cd7f2acfa61ae1483db67d672a', '25219bb052583afad793ad73f473fcd22cf786f93a1d5e0eecaa718489e0aadc', 'b7d50c88761bfc49c96042ce8f03af8c644aa8be4ef70f64cf921d79cc40e880', '8f2ea14afea2ffdf7d131ed207d20089f7514c83805bb2f91ac6404469d9e4be', 'f6dd9fb58bf375a7219068ce8b689e3165311e509ba375a3d94bc6618a2fd18b', 'ab48464dcd9f49529fd1494ca2077c4fd82759b529e0c33bd72b31cc70f64b0e', 'a3179be92c3c9f1a0a7cb6f8d4f72e5bd3e843827c98d93c1d41a866d57be86d']\", 'send:-1172660180', \"send:['8c827a86db28a790c09aa6e54f2d95cd3c20c9adc3d28eccc61e23514a0772ee', '3de840467e0530d7f277b07b8f0462ea6bc23e23213a4dc54eb47f34994c2c9f', 'dcfcbd3919a2d03cb12012f4140a64cdeffc8386170198ea5f5b820bbc6eff28', '06b04e8963b730fd9e54f4bcc2661af27becc5a3b71ff39f72421c983e38ea9d', '798e7c44681136bcb84826864d16ec461f8585179f614f04d6cfde795957fe40', 'f400ee8d801532f48b82786b7b637b74d78513c655669799f21cba6e7cf8d013']\", 'send:263927645', \"send:['51e2e0bba15e528d671ef038b8822383c7731d944ee674e175d53c5adea59120', 'ed6a856f7d641c4dde65603af2d278c6bf1954b56388aa658940e3dc326eb0bd', 'c3742b970b0ece2f55b20ec6e206320b4b2c7257798b5565b81a359f74966551', 'a99ebdeb92ef882d07cb39367f367351859e5fe24353c8ffc91aad24dd722567', '63e2e6c967c6465cbfd0ce6343464f2ed5778a1b007c6d9d585e2bb0b72ea278', '7871dc76be8aeee8a3f4d20d802c9f40335d9de0d725ee96885d24da5b20d963']\", 'send:-702644082', \"send:['30122887a51658beeddf3e82486c887e73031e2d1bad958c89ce0e074fe8ccfc', 'aaff2b29542366f0fbbbe43f7ab40685456e02356b4ca7f8817c3ecc64e46de6', '02531b8e249fb0ad8eb9af339a2b79c7fb96513d720231b4b51e915c4eca1201', '32a1d4796fff528372b34abaa2336593fc442ba239c26497b84f61a1b91da11e', '80125d234647122ca9cc629c187e5e255bce17b19d09a179e106e40bef00a851']\", 'send:-1401887781', \"send:['4c24b704673e2684edeccaeb95718251f7a490c16388ad508affac97321d5a2e', 'a4692ab90895e5f39eeb9bb48b33c41a23f772f7e5d9d2fe93cd0746d5ed44ac', '0e035610474517027580fb6901b97927a6131497a39d7aebce344defe2fcefe2', '1294619b322e58196ce469b3012bd669ade1d92422fa598c847559f66c0dd9ca', '746e3e237f6b977593ba5e15f8b27903adbcf065ad20a8c81d4a7919265cb788']\", 'send:743785124', \"send:['48d6a0ea72387496f1d5b0514ae92b605991e480b5c7d116e576ccdd3808c476', '13f602164a3974f8472fdadfe6fbaca118fe19fb07c2108fb884da8cfd22ae40', 'b9a14ca57abc0c4f978b0f5fad9281cab1337353efcd84815e07c4b6134aef44', '8874bac8d1ec0639d808c31b035fc637b28e5267495d3d6211a1057907934eef']\", 'send:234452956', \"send:['6f05f061b54a31b729020e44ec1ab7906325f6b5d8c815fd67876d1192c71cb3', '607382001976413b0b9d666a142fab8eacd6b1294b5f7b45dd663fa1dc60cd53', 'ce98bb0b16739b1b4323871d10a5bd83f34788b999dd5fd2d9103b733e25fe4c', 'a12ab83fa33559fe460a9065722403aca80e44083f856f93e7627c4f70df3e77']\", 'send:1598091377', 'receive_random_int:356', 'send:280030381', \"send:['30cd57ed8ebbbebdd99be8b66b1aa0d3d4266642ee9b6b6bb72fbd0231529c9d', '8ba47062ac3298cbbd5bd43b58dd4eeb84093168623fd553d886d0672bbb2803', 'e3cf285b7f2fad1e770c2656d0f94912a2e72488c1d6d5a1b8508d1341f0ac27', 'aa385341418dde31e90374805e8e578016b2a49b0d08880093f1ad8151809546', '9a2f30e72cdc93451d1a8089b59932bba6747b0a300badb4f8222c60dda0fae1', '0b128ce23378c31ce6e4fad7c96dea9a16cbb832822564c95461de8e4afc5fa8', '90328e7142d21588feab8a71ceecd5316a5a4401d02fc0e216c4ea47655e7641', '7eb78368f2564d38b551ae3ad3917636180332ed816e33d4faf7e3b3faa1d31e', 'e19aa40af9696f15f267e375b72e295d0ff9bdba69607f24aa498636ad3cf79d']\", 'send:-217827010', \"send:['30cd57ed8ebbbebdd99be8b66b1aa0d3d4266642ee9b6b6bb72fbd0231529c9d', '8ba47062ac3298cbbd5bd43b58dd4eeb84093168623fd553d886d0672bbb2803', 'e3cf285b7f2fad1e770c2656d0f94912a2e72488c1d6d5a1b8508d1341f0ac27', 'aa385341418dde31e90374805e8e578016b2a49b0d08880093f1ad8151809546', '9a2f30e72cdc93451d1a8089b59932bba6747b0a300badb4f8222c60dda0fae1', '37469344b6afe862cd78d0d975025774b84cb57bcbf83ec6d55db56ba4fa4bb4', '5d1520e0c7162395eae77b926c41ccf6d3625fa87654f0489ba45ab37ad0c0ed', '6fae5de357075c612d47b2a45e8572feccb2f6c704ca98119262ae0bb82852f0', '847ff02bd80332349660e0d1108e740ba9465dbfbf686f7d1b4ab4447820da84']\", 'send:1242797354', \"send:['30cd57ed8ebbbebdd99be8b66b1aa0d3d4266642ee9b6b6bb72fbd0231529c9d', '8ba47062ac3298cbbd5bd43b58dd4eeb84093168623fd553d886d0672bbb2803', 'e3cf285b7f2fad1e770c2656d0f94912a2e72488c1d6d5a1b8508d1341f0ac27', 'aa385341418dde31e90374805e8e578016b2a49b0d08880093f1ad8151809546', '28a3a0dff34b9a03567c7d2ce7baec1f1ead65fc09ce1cbf12274d5a961b5978', '0de6065def40330f4599feff778d7c795ae204f4fd1ebb152bae85b2b25edc41', '2233b1667451b41555e11893ccb3e2895b407f7e0cd842fd78bfabe9bbd8244d', 'd44ab0c52e25de71f3baf1a492aa0807000dd1f37d8aada7ce32b186339c7ca9', 'bdedb5a9922ec25a7496cf8dab25f66c1ffb9ec0b4b19be637ffbd3959bb9a18']\", 'send:138721325', \"send:['64bac54a5ee3911c81ded4c9f9448e92553e22198583960b99426adddbea3656', 'f96fd8665e7d497f8861e6a488322b572bd051f024dd444641ed044a4a83a304', 'f7a192bdb4e9de338d23f03be416d59db73671d73eb2ad6d9c84d9f3d1a1953a', '00c7aecde4a5f2b18e2ed8694cb39def3ddaa92e1b6101f2e74a4dc222e6e2d4', '4a582ca53a8a0e61d4a37ec62cd007454ed5db8b2ce22e1ea5f9e91d59524f31', 'fd6a0702133234fa7c6830bf89171d70966ed061a46e38e37b8b2b8d8e80f1c3', 'c1024bc09c63effb8c18c21ccf4033488df25e701c0be9749667eebf54bc5c1f', 'b83f3f409bc9f9acbff0b6d9fd6e7cda269fb58acfe341e73965978f42731120', '29e148c78fe850d1c8b9c11333f6cb06268d7f94f6056158deaffba3ca519d35']\", 'send:543603413', \"send:['9eabfa0f73b75ae479df3b5e0fd2b335ce728fd9a84051807d0c84904c995beb', '014fa626e59f838b9c56dc282a4c8c533e48dc410930a5dc694653b43765120e', '292cd9a8a47b5992e7f7144403c65ba3ef9bee2681ae138603717b15cd3af944', 'd66d5ca8cf08b336fa491300abecbf102a64b6bc5a2acc67220787609404ea8e', '6fa1da76da58fe0af281d11419b2952822588d9c442a47796cca508894347918', '6a3883947431abb37dd00e60f865d67358128d213d81c83c4b7bc4384b0ea2a6', 'e69e7a95ced30a14558d7c9516a6413832f24222b6558849643a08aef27ea17a', '77426da02b62143da81ba0cfd8cd5000208d5d890004328d6e0b02c28e0bcfe5', '3b7b05933a93fb1f51d0b39622bacc1bd0e7a838b916b36fd26410689d0ff282']\", 'send:-1175504074', \"send:['6a6f2430226d832f742633663aebc5b8db651525aba16d60f12ecc514e464283', '0b5ff556439784db4a13f8f5a063f79030bb7daf0b09fd866fe68380fbe7978a', '9a4120aa18612b413342ba32b8e174492da42c352c36ce121908773a0362dbf9', 'd4bda3dde8abcd1f53420c379e27171a1e3e246312dadc66731510b19340f01e', '8185d567b8994114acd61cab6cbab465027295d1c7c20070fa6afa77542666e9', 'cca2f0079c9f688caddaff910cc4fe49eefe6a4da8073dd969da4c9019be7729', 'ae9f68fb20e2114e696768b2289a829129941ae0bd2f9812bb57c769e6ec3d1d', '05cc4a32f5831be0570799e968108fb2826f78e850c457d03db8d2ae89142d5e']\", 'send:-1119814468', \"send:['fab339d1b995cb2178cf77e63b36de449c3e6029e20e4112a807a568e11e26a8', '26ba7a2fe7cbf7aa8f8e43f06b5521c571a9f00daf0854511f7818f1716f38f6', 'f7ce9a5d1ce0fa6fb79b8ac9e7e930a0d51cc20657777cd1bb537c108eeb7fc0', '59d3bec5b77367cb3e742c26210ba447435259ecf7f5728060de18e665d12d54', 'c9ee0f5eff117cd341c7836309134ad82c4b9962a420803a0d4fad4fff922734', 'a2704b081fa1832385fc4b443a4c55db15d4e52e5b4c95765920c7e7579561ed', '52ab321f23e8b322bb00ad51b89caec648dbe4aaf809e15e5fdc56a663c63477', '863706b88c6030f4c109b38a72fb45d6c45e94702d6fdd2fc1b0f69eb29e98d4']\", 'send:1549970054', \"send:['9a726ffbebd0247215a23c9fa3200891b946e5cd7f2acfa61ae1483db67d672a', '618290a9a7ed195d71169a2b036aec43297a4a28a8d7b5189b5abc518c09cd4e', '2b2d002f2fd31de4de3b695b82924421e70bcc0ea9272225e6fc5da1639cbfa0', '3e2cc44a81bbf5fbf64a18f34b7f2010b8766661e8c84953813a49fdabb4ca7f', 'deb1d3426c135aba343db84a693a67d92494a2d686290f7a7024a696fc93b195', 'd0ca1753cbd72bfd61c6a1ba66d2af99647486e8a54e5b707d0a8999f8b5a096', '3d553798375ff0cede0d6e78ca8838122f558bdb2bcd0fbb97d895cbb454b1d2']\", 'send:186650887', \"send:['9420e2e4d5afe239c954e4e76bbd2d3fc0b351d8fdd3f2536525e336fdcb42e3', '2c5b3622d2a7712ca2965e7c3f30018e20fe855d64e3b3e7fff8c72d6c4cb82c', '8f87d517d9458ff6c2e586fce36740cef2d57b344de6d8475d0012c6d320ebf8', '7671fd55db106125a8d61b5e96a2d548078eb72bac75b26cfae54277d4d8d393', '05491fbfc082d968ee7cb0a73268fe256324130a2a7305b58b08f07678849912', '82be4e71dcfa73375577e774075876d9fa5d5322147d02497d854597f76682b0', '6f4057212486464475c6df7969bc8ef920bcf2e9ee90089a1794ba2ec7c2d8a3']\", 'send:66660397', \"send:['51e2e0bba15e528d671ef038b8822383c7731d944ee674e175d53c5adea59120', 'ed6a856f7d641c4dde65603af2d278c6bf1954b56388aa658940e3dc326eb0bd', 'c3742b970b0ece2f55b20ec6e206320b4b2c7257798b5565b81a359f74966551', '118894b695261e964608e3c139ca946161f80e1cfe6f7446e65af1fd6759ab78', '3fb01bc53c6d769308aee471a6f7c2d1291ffc73f94c6fea709d94e594e17df0', '101d5a0a3444cfa029fe4b60cacda14e0f070cdb71f6630abb860ef02f32c5f0']\", 'send:-365530675', \"send:['8c827a86db28a790c09aa6e54f2d95cd3c20c9adc3d28eccc61e23514a0772ee', '3de840467e0530d7f277b07b8f0462ea6bc23e23213a4dc54eb47f34994c2c9f', 'dcfcbd3919a2d03cb12012f4140a64cdeffc8386170198ea5f5b820bbc6eff28', '561a1d0d73f9e8a8a62b6e983f1694204cb20a4524648264e700fbe7149d9f9c', '6b80b4834f0c96d7589953559cd0c3b0fbac6c49cfebc446a5b3bae2048fce35', 'af6499e6ecbdcf4541964534ec0f789362088df29e1006c0a3c6e9d7fea29f18']\", 'send:-668938332', \"send:['30122887a51658beeddf3e82486c887e73031e2d1bad958c89ce0e074fe8ccfc', 'aaff2b29542366f0fbbbe43f7ab40685456e02356b4ca7f8817c3ecc64e46de6', 'f8996f703236451e8b2ffd027814e78ed43fc9d52048b1337de0dc29c20e4e50', '80f2084e5e6d730294d359079bccf211eb91bbd8888ac67666226bf6830e9464', '8df417ec91cd0ca495dd912e6a148bb25af69f7ca37e16fdfd735990f2d7995d']\", 'send:-1452778439', \"send:['4c24b704673e2684edeccaeb95718251f7a490c16388ad508affac97321d5a2e', 'a4692ab90895e5f39eeb9bb48b33c41a23f772f7e5d9d2fe93cd0746d5ed44ac', '28c1d11ec9fc6a4303ead0a48029ddc0e25af445fff7c2ba402d29a407e7bbe8', 'e4d00a69c80d1d494edf82996371d5801a233976f85e0ff8ec85bda2c9a54752', '491d315c3e75c1154622da185b66b8638aefdb7974a5c6f13a352b28d6fd082a']\", 'send:418147914', \"send:['48d6a0ea72387496f1d5b0514ae92b605991e480b5c7d116e576ccdd3808c476', '07bb8fc525327528b80e3c1fda28cdedd544ae5a5c5f1d54102113f916352c7d', '242124b97b34fb79656a903721859eb4299e67180e355dcc33773fc6cc118c26', 'df925d85ec965c9606677126952759e5c0d3cd3d6b6f4a5be12e653a9ca913d6']\", 'send:560090166', \"send:['6f05f061b54a31b729020e44ec1ab7906325f6b5d8c815fd67876d1192c71cb3', '556a2d5fe9439815eb7e4df404c5e347e6b7d2bfab37973c08a604761bb7d51a', '0dbfeb1e13876c144451abcf146589cc6f8280a5809e596878745bda21f11cab', 'c391b705712ce6475e9e511699bf94bf11982c70d1474ac383740a7f87c754be']\", 'send:1598091377']\n",
      "Overall time: 0.4682168960571289s\n",
      "Uncompressed proof length in characters: 23748\n"
     ]
    }
   ],
   "source": [
    "def modelo_dos():\n",
    "    \n",
    "    start = time.time()\n",
    "    start_all = start\n",
    "    print(\"Generating the trace\")\n",
    "\n",
    "    # Tabla de Ejecucion\n",
    "    a = [FieldElement(2)]\n",
    "\n",
    "    # a_{n} = 2^{8^n}\n",
    "    while len(a) < 60:\n",
    "        a.append(a[0]**(2**(len(a))))\n",
    "\n",
    "    \n",
    "    # Siendo n el orden del subgrupo\n",
    "    # n*k = |𝔽×| , busco k tal que |𝔽×| = 3221225473\n",
    "    n = 64\n",
    "    mod_F = FieldElement.k_modulus\n",
    "    k = mod_F // n\n",
    "\n",
    "    g = FieldElement.generator() ** (k)  # Busco g^k\n",
    "    G = [g ** i for i in range(n)] # Genero el subgrupo de orden 64\n",
    "    \n",
    "\n",
    "    print(\"We blow up the trace (Extend the trace) 8 times bigger\")\n",
    "    \n",
    "    n = 8*64\n",
    "    mod_F = FieldElement.k_modulus\n",
    "    k = mod_F // n\n",
    "\n",
    "    w = FieldElement.generator()\n",
    "\n",
    "    h = w ** (k)  # Este es mi generador g^k para el nuevo dominio\n",
    "    H = [h ** i for i in range(n)] # Genero el subgrupo de orden 8*64\n",
    "\n",
    "    eval_domain = [w * x for x in H]\n",
    "\n",
    "    f = interpolate_poly(G[:len(a)], a)  ## Este polinomio pasa por todos los puntos que nos interes\n",
    "    f_eval = [f(d) for d in eval_domain] ## Busco la imagen en todos los elementos del dominio extendido\n",
    "\n",
    "\n",
    "    f_merkle = MerkleTree(f_eval) \n",
    "\n",
    "    channel = Channel()     # El channel nos dara datos que deberia darnos el verifier\n",
    "    channel.send(f_merkle.root)\n",
    "\n",
    "    print(f'{time.time() - start}s')\n",
    "    start = time.time()\n",
    "    print(\"Generating the composition polynomial and the FRI layers...\")\n",
    "\n",
    "    ## a0 = 2\n",
    "    numer0 = f - 2\n",
    "    denom0 = X - 1\n",
    "    p0 = numer0 / denom0\n",
    "\n",
    "\n",
    "    # a[n+1] = (an)^2\n",
    "    numer1 = f(g* X) - f(X)**2\n",
    "\n",
    "    lst = [(X - g**i) for i in range(59)]\n",
    "    denom1 = prod(lst)\n",
    "    p1 = numer1 / denom1\n",
    "\n",
    "\n",
    "    cp = get_CP(channel,[p0,p1])\n",
    "    cp_eval = CP_eval(cp,eval_domain)\n",
    "    cp_merkle = MerkleTree(cp_eval)\n",
    "    channel.send(cp_merkle.root)\n",
    "    \n",
    "    print(\"El polinomio CP es\")\n",
    "    display(cp)\n",
    "    \n",
    "    # FRI Folding Operator\n",
    "    fri_polys, fri_domains, fri_layers, fri_merkles = FriCommit(cp, eval_domain, cp_eval, cp_merkle, channel)\n",
    "\n",
    "    print(f'{time.time() - start}s')\n",
    "    start = time.time()\n",
    "    print(\"Generating queries and decommitments...\")\n",
    "\n",
    "    len_query = len(eval_domain) - 1\n",
    "    decommit_fri(channel, fri_layers, fri_merkles, f_eval, f_merkle, len_query)\n",
    "\n",
    "\n",
    "    # Verificamos\n",
    "    print(channel.proof)\n",
    "    print(f'Overall time: {time.time() - start_all}s')\n",
    "    print(f'Uncompressed proof length in characters: {len(str(channel.proof))}')\n",
    "\n",
    "    \n",
    "if __name__ == \"__main__\":\n",
    "    modelo_dos()"
   ]
  },
  {
   "cell_type": "code",
   "execution_count": 18,
   "id": "490ef00b",
   "metadata": {},
   "outputs": [
    {
     "data": {
      "text/latex": [
       "$ -647886875 + 1362158443x - 1078660777x^{2} - 1477358176x^{3} - 631676183x^{4} + 521918703x^{5} - 943276213x^{6} - 419908593x^{7} - 1281726382x^{8} - 869002545x^{9} - 1242786061x^{10} + 469692959x^{11} + 622955062x^{12} - 1430796083x^{13} - 906767116x^{14} - 159080115x^{15} + 510786498x^{16} - 661882185x^{17} - 560955316x^{18} + 361154998x^{19} - 1092509114x^{20} $"
      ],
      "text/plain": [
       "<polynomial.Polynomial at 0x7f1588362e20>"
      ]
     },
     "execution_count": 18,
     "metadata": {},
     "output_type": "execute_result"
    }
   ],
   "source": [
    "cp"
   ]
  },
  {
   "cell_type": "markdown",
   "id": "cb4f3389",
   "metadata": {},
   "source": [
    "Obtenermos al final Uncompressed proof length in characters: 23748\n",
    "\n",
    "Vemos que tomamos\n",
    "- 0.075175 segundos para crear la traza de ejecucion y extender el dominio 8 veces su tamaño\n",
    "- 0.077137 segundos en generar el Composition Polynomial y hacer FRI layers\n",
    "- 0.442337 segundos en total\n",
    "\n",
    "Observamos que tiene un desempeño peor que el modelo anterior. Esto se debe a que al ser la tabla de ejecucion mas larga entonces el problema es mas largo en general ya que el polinomio asociado va a ser de grado mayor."
   ]
  },
  {
   "cell_type": "markdown",
   "id": "975fd0b5",
   "metadata": {},
   "source": [
    "# Modelo 3\n",
    "\n",
    "2. Considerar \n",
    "    * $a_0 = 2$ \n",
    "    * $a_{2n+1}=a_{2n}^2$ \n",
    "    * $a_{2n}=a_{2n-1}^4$.\n",
    "    \n",
    "Sabieno que $2^{8^{20}}$\n",
    "\n",
    "|$f(g^i)$| $a_i$         | Valor     \n",
    "| :----:    | :--------------: |:------------\n",
    "|$f(g^0)$ | $a_0$        | $2$ |\n",
    "|$f(g^1)$ | $a_1$        | $2^{2}$ | \n",
    "|$f(g^2)$ | $a_2$        | $2^{8}$ |\n",
    "|$f(g^3)$ | $a_3$        | $2^{8*2}$ |\n",
    "|$f(g^4)$ | $a_4$        | $2^{8^2}$ |\n",
    "|$f(g^5)$ | $a_5$        | $2^{8^2*2}$ |\n",
    "|$f(g^6)$ | $a_6$        | $2^{8^{3}}$ |\n",
    "|$f(g^7)$ | $a_7$        | $2^{8^{3}*2}$ |\n",
    "|$f(g^8)$ | $a_8$        | $2^{8^{4}}$ |\n",
    "| $...$   | $...$        | $...$ |\n",
    "|$f(g^{40})$ |$a_{40}$   |  $2^{2^{8^{20}}}$|\n",
    "\n",
    "Observo el patron \n",
    "\n",
    "* $a_{2n+1}=2^{8^n \\cdot 2}$\n",
    "\n",
    "* $a_{2n}=2^{8^n}$\n",
    "\n",
    "De ahi es inmediato que $2^{8^n} = 2^{8^{20}} \\rightarrow n=40$ Por ende $a_{40} = 2^{8^{20}}$\n",
    "\n",
    "\n",
    "La tabla de ejecucion tendra 41 elementos por lo que se tomara un subgrupo de orden 64.\n",
    "\n",
    "Los polinomios asociados son\n",
    "\n",
    " * $a_0 = 2$\n",
    " \n",
    "    1) $f(x) = 2$, para $x=g^0$\n",
    "    \n",
    "    2) $g^0$ es raiz de $f(x)-2$\n",
    "    \n",
    "    3) $p_0(x) = \\frac{f(x) - 2}{x-g^0}$\n",
    " \n",
    "\n",
    "* $a_{2n+1}=a_{2n}^2$ \n",
    "\n",
    "* $a_{2n}=a_{2n-1}^4$.\n",
    "\n",
    "Nos encontramos con que la restriccion 2) se aplica para los n par y la restriccion 3) solo para n impar. \n",
    "\n",
    "Tenemos que usar [trucos matematicos](https://blog.lambdaclass.com/periodic-constraints-and-recursion-in-zk-starks/) para llegar una expresion que nos sirva\n",
    "\n",
    "### Terminar este punto"
   ]
  },
  {
   "cell_type": "code",
   "execution_count": 20,
   "id": "05e087b8",
   "metadata": {},
   "outputs": [
    {
     "name": "stdout",
     "output_type": "stream",
     "text": [
      "Generating the trace\n",
      "We blow up the trace (Extend the trace) 8 times bigger\n"
     ]
    },
    {
     "name": "stderr",
     "output_type": "stream",
     "text": [
      "100%|████████████████████████████████████████████████████████████████████████████████████████████████████████████████████████████████████████████████████████████████████████████| 41/41 [00:00<00:00, 3134.30it/s]"
     ]
    },
    {
     "name": "stdout",
     "output_type": "stream",
     "text": [
      "0.03607034683227539s\n",
      "Generating the composition polynomial and the FRI layers...\n"
     ]
    },
    {
     "name": "stderr",
     "output_type": "stream",
     "text": [
      "\n"
     ]
    },
    {
     "ename": "AssertionError",
     "evalue": "Polynomials are not divisible.",
     "output_type": "error",
     "traceback": [
      "\u001b[0;31m---------------------------------------------------------------------------\u001b[0m",
      "\u001b[0;31mAssertionError\u001b[0m                            Traceback (most recent call last)",
      "Input \u001b[0;32mIn [20]\u001b[0m, in \u001b[0;36m<cell line: 99>\u001b[0;34m()\u001b[0m\n\u001b[1;32m     96\u001b[0m     \u001b[38;5;28mprint\u001b[39m(\u001b[38;5;124mf\u001b[39m\u001b[38;5;124m'\u001b[39m\u001b[38;5;124mUncompressed proof length in characters: \u001b[39m\u001b[38;5;132;01m{\u001b[39;00m\u001b[38;5;28mlen\u001b[39m(\u001b[38;5;28mstr\u001b[39m(channel\u001b[38;5;241m.\u001b[39mproof))\u001b[38;5;132;01m}\u001b[39;00m\u001b[38;5;124m'\u001b[39m)\n\u001b[1;32m     99\u001b[0m \u001b[38;5;28;01mif\u001b[39;00m \u001b[38;5;18m__name__\u001b[39m \u001b[38;5;241m==\u001b[39m \u001b[38;5;124m\"\u001b[39m\u001b[38;5;124m__main__\u001b[39m\u001b[38;5;124m\"\u001b[39m:\n\u001b[0;32m--> 100\u001b[0m     \u001b[43mmodelo_tres\u001b[49m\u001b[43m(\u001b[49m\u001b[43m)\u001b[49m\n",
      "Input \u001b[0;32mIn [20]\u001b[0m, in \u001b[0;36mmodelo_tres\u001b[0;34m()\u001b[0m\n\u001b[1;32m     60\u001b[0m lst \u001b[38;5;241m=\u001b[39m [(X \u001b[38;5;241m-\u001b[39m g\u001b[38;5;241m*\u001b[39m\u001b[38;5;241m*\u001b[39mi) \u001b[38;5;28;01mfor\u001b[39;00m i \u001b[38;5;129;01min\u001b[39;00m \u001b[38;5;28mrange\u001b[39m(\u001b[38;5;241m41\u001b[39m)]\n\u001b[1;32m     61\u001b[0m denom1 \u001b[38;5;241m=\u001b[39m prod(lst)\n\u001b[0;32m---> 62\u001b[0m p1 \u001b[38;5;241m=\u001b[39m \u001b[43mnumer1\u001b[49m\u001b[43m \u001b[49m\u001b[38;5;241;43m/\u001b[39;49m\u001b[43m \u001b[49m\u001b[43mdenom1\u001b[49m\n\u001b[1;32m     65\u001b[0m \u001b[38;5;66;03m# 𝑎[2𝑛]=𝑎[2𝑛−1]^4\u001b[39;00m\n\u001b[1;32m     66\u001b[0m numer2 \u001b[38;5;241m=\u001b[39m f(g\u001b[38;5;241m*\u001b[39m X) \u001b[38;5;241m-\u001b[39m f(X)\u001b[38;5;241m*\u001b[39m\u001b[38;5;241m*\u001b[39m\u001b[38;5;241m2\u001b[39m  \u001b[38;5;66;03m# TODO\u001b[39;00m\n",
      "File \u001b[0;32m~/Documents/cripto_block/talleres/TP2/stark101/STARK/polynomial.py:208\u001b[0m, in \u001b[0;36mPolynomial.__truediv__\u001b[0;34m(self, other)\u001b[0m\n\u001b[1;32m    206\u001b[0m \u001b[38;5;28;01mdef\u001b[39;00m \u001b[38;5;21m__truediv__\u001b[39m(\u001b[38;5;28mself\u001b[39m, other):\n\u001b[1;32m    207\u001b[0m     div, mod \u001b[38;5;241m=\u001b[39m \u001b[38;5;28mself\u001b[39m\u001b[38;5;241m.\u001b[39mqdiv(other)\n\u001b[0;32m--> 208\u001b[0m     \u001b[38;5;28;01massert\u001b[39;00m mod \u001b[38;5;241m==\u001b[39m \u001b[38;5;241m0\u001b[39m, \u001b[38;5;124m'\u001b[39m\u001b[38;5;124mPolynomials are not divisible.\u001b[39m\u001b[38;5;124m'\u001b[39m\n\u001b[1;32m    209\u001b[0m     \u001b[38;5;28;01mreturn\u001b[39;00m div\n",
      "\u001b[0;31mAssertionError\u001b[0m: Polynomials are not divisible."
     ]
    }
   ],
   "source": [
    "def modelo_tres():\n",
    "    \n",
    "    start = time.time()\n",
    "    start_all = start\n",
    "    print(\"Generating the trace\")\n",
    "\n",
    "   # Tabla de Ejecucion\n",
    "    a = [FieldElement(2)] # a0 = 2\n",
    "\n",
    "    # a_{n} = 2^{8^n}\n",
    "    while len(a) < 41:\n",
    "        a.append(a[-1]**2) # 𝑎_{2𝑛+1}=𝑎_{2𝑛}^2\n",
    "        a.append(a[-1]**4) # 𝑎_{2𝑛}=𝑎_{2𝑛−1}^4\n",
    "    \n",
    "    # Siendo n el orden del subgrupo\n",
    "    # n*k = |𝔽×| , busco k tal que |𝔽×| = 3221225473\n",
    "    n = 64\n",
    "    mod_F = FieldElement.k_modulus\n",
    "    k = mod_F // n\n",
    "\n",
    "    g = FieldElement.generator() ** (k)  # Busco g^k\n",
    "    G = [g ** i for i in range(n)] # Genero el subgrupo de orden 64\n",
    "    \n",
    "\n",
    "    print(\"We blow up the trace (Extend the trace) 8 times bigger\")\n",
    "    \n",
    "    n = 8*64\n",
    "    mod_F = FieldElement.k_modulus\n",
    "    k = mod_F // n\n",
    "\n",
    "    w = FieldElement.generator()\n",
    "\n",
    "    h = w ** (k)  # Este es mi generador g^k para el nuevo dominio\n",
    "    H = [h ** i for i in range(n)] # Genero el subgrupo de orden 8*64\n",
    "\n",
    "    eval_domain = [w * x for x in H]\n",
    "\n",
    "    f = interpolate_poly(G[:len(a)], a)  ## Este polinomio pasa por todos los puntos que nos interes\n",
    "    f_eval = [f(d) for d in eval_domain] ## Busco la imagen en todos los elementos del dominio extendido\n",
    "\n",
    "\n",
    "    f_merkle = MerkleTree(f_eval) \n",
    "\n",
    "    channel = Channel()     # El channel nos dara datos que deberia darnos el verifier\n",
    "    channel.send(f_merkle.root)\n",
    "\n",
    "    print(f'{time.time() - start}s')\n",
    "    start = time.time()\n",
    "    print(\"Generating the composition polynomial and the FRI layers...\")\n",
    "\n",
    "    ## a0 = 2\n",
    "    numer0 = f - 2\n",
    "    denom0 = X - 1\n",
    "    p0 = numer0 / denom0\n",
    "\n",
    "    \n",
    "    ##### TODO\n",
    "\n",
    "    # 𝑎[2𝑛+1]=𝑎[2𝑛]^2\n",
    "    numer1 = f(g* X) - f(X)**2\n",
    "\n",
    "    lst = [(X - g**i) for i in range(41)]\n",
    "    denom1 = prod(lst)\n",
    "    p1 = numer1 / denom1\n",
    "        \n",
    "    ##### TODO\n",
    "    \n",
    "    # 𝑎[2𝑛]=𝑎[2𝑛−1]^4\n",
    "    numer2 = f(g* X) - f(X)**2  # TODO\n",
    "\n",
    "    lst = [(X - g**i) for i in range(41)]\n",
    "    denom2 = prod(lst)\n",
    "    \n",
    "    p2 = numer2 / denom2\n",
    "\n",
    "    cp = get_CP(channel,[p0,p1,p2])\n",
    "    cp_eval = CP_eval(cp,eval_domain)\n",
    "    cp_merkle = MerkleTree(cp_eval)\n",
    "    channel.send(cp_merkle.root)\n",
    "    \n",
    "    \n",
    "    print(\"El polinomio CP es\")\n",
    "    display(cp)\n",
    "\n",
    "    # FRI Folding Operator\n",
    "    fri_polys, fri_domains, fri_layers, fri_merkles = FriCommit(cp, eval_domain, cp_eval, cp_merkle, channel)\n",
    "\n",
    "    print(f'{time.time() - start}s')\n",
    "    start = time.time()\n",
    "    print(\"Generating queries and decommitments...\")\n",
    "\n",
    "    len_query = len(eval_domain) - 1\n",
    "    decommit_fri(channel, fri_layers, fri_merkles, f_eval, f_merkle, len_query)\n",
    "\n",
    "\n",
    "    # Verificamos\n",
    "    print(channel.proof)\n",
    "    print(f'Overall time: {time.time() - start_all}s')\n",
    "    print(f'Uncompressed proof length in characters: {len(str(channel.proof))}')\n",
    "\n",
    "    \n",
    "if __name__ == \"__main__\":\n",
    "    modelo_tres()"
   ]
  },
  {
   "cell_type": "code",
   "execution_count": null,
   "id": "42762c74",
   "metadata": {},
   "outputs": [],
   "source": []
  },
  {
   "cell_type": "markdown",
   "id": "66e30e18",
   "metadata": {},
   "source": [
    "# Modelo 4 (To-Do)\n",
    "\n",
    "Usando 2 columnas.\n",
    "\n",
    "En lugar de tener todos los valores en una lista, tenerla en dos. Podés tener dos columnas a y b, donde b(x)=a(x)^2 y a(gx)=b(x)^4"
   ]
  },
  {
   "cell_type": "code",
   "execution_count": null,
   "id": "4e42fafb",
   "metadata": {},
   "outputs": [],
   "source": [
    "def modelo_cuatro():\n",
    "    \n",
    "    start = time.time()\n",
    "    start_all = start\n",
    "    print(\"Generating the trace\")\n",
    "\n",
    "   # Tabla de Ejecucion\n",
    "    a = [FieldElement(2)] # a0 = 2\n",
    "\n",
    "    # a_{n} = 2^{8^n}\n",
    "    while len(a) < 41:\n",
    "        a.append(a[-1]**2) # 𝑎_{2𝑛+1}=𝑎_{2𝑛}^2\n",
    "        a.append(a[-1]**4) # 𝑎_{2𝑛}=𝑎_{2𝑛−1}^4\n",
    "    \n",
    "    # Siendo n el orden del subgrupo\n",
    "    # n*k = |𝔽×| , busco k tal que |𝔽×| = 3221225473\n",
    "    n = 64\n",
    "    mod_F = FieldElement.k_modulus\n",
    "    k = mod_F // n\n",
    "\n",
    "    g = FieldElement.generator() ** (k)  # Busco g^k\n",
    "    G = [g ** i for i in range(n)] # Genero el subgrupo de orden 64\n",
    "    \n",
    "\n",
    "    print(\"We blow up the trace (Extend the trace) 8 times bigger\")\n",
    "    \n",
    "    n = 8*64\n",
    "    mod_F = FieldElement.k_modulus\n",
    "    k = mod_F // n\n",
    "\n",
    "    w = FieldElement.generator()\n",
    "\n",
    "    h = w ** (k)  # Este es mi generador g^k para el nuevo dominio\n",
    "    H = [h ** i for i in range(n)] # Genero el subgrupo de orden 8*64\n",
    "\n",
    "    eval_domain = [w * x for x in H]\n",
    "\n",
    "    f = interpolate_poly(G[:len(a)], a)  ## Este polinomio pasa por todos los puntos que nos interes\n",
    "    f_eval = [f(d) for d in eval_domain] ## Busco la imagen en todos los elementos del dominio extendido\n",
    "\n",
    "\n",
    "    f_merkle = MerkleTree(f_eval) \n",
    "\n",
    "    channel = Channel()     # El channel nos dara datos que deberia darnos el verifier\n",
    "    channel.send(f_merkle.root)\n",
    "\n",
    "    print(f'{time.time() - start}s')\n",
    "    start = time.time()\n",
    "    print(\"Generating the composition polynomial and the FRI layers...\")\n",
    "\n",
    "    ## a0 = 2\n",
    "    numer0 = f - 2\n",
    "    denom0 = X - 1\n",
    "    p0 = numer0 / denom0\n",
    "\n",
    "\n",
    "    # 𝑎[2𝑛+1]=𝑎[2𝑛]^2\n",
    "    numer1 = f(g* X) - f(X)**2  # TODO\n",
    "\n",
    "    lst = [(X - g**i) for i in range(41)]\n",
    "    denom1 = prod(lst)\n",
    "    p1 = numer1 / denom1\n",
    "    \n",
    "    \n",
    "    # 𝑎[2𝑛]=𝑎[2𝑛−1]^4\n",
    "    numer2 = f(g* X) - f(X)**2  # TODO\n",
    "\n",
    "    lst = [(X - g**i) for i in range(41)]\n",
    "    denom2 = prod(lst)\n",
    "    \n",
    "    p2 = numer2 / denom2\n",
    "\n",
    "    cp = get_CP(channel,[p0,p1,p2])\n",
    "    cp_eval = CP_eval(cp,eval_domain)\n",
    "    cp_merkle = MerkleTree(cp_eval)\n",
    "    channel.send(cp_merkle.root)\n",
    "    \n",
    "    \n",
    "    print(\"El polinomio CP es\")\n",
    "    display(cp)\n",
    "\n",
    "    # FRI Folding Operator\n",
    "    fri_polys, fri_domains, fri_layers, fri_merkles = FriCommit(cp, eval_domain, cp_eval, cp_merkle, channel)\n",
    "\n",
    "    print(f'{time.time() - start}s')\n",
    "    start = time.time()\n",
    "    print(\"Generating queries and decommitments...\")\n",
    "\n",
    "    len_query = len(eval_domain) - 1\n",
    "    decommit_fri(channel, fri_layers, fri_merkles, f_eval, f_merkle, len_query)\n",
    "\n",
    "\n",
    "    # Verificamos\n",
    "    print(channel.proof)\n",
    "    print(f'Overall time: {time.time() - start_all}s')\n",
    "    print(f'Uncompressed proof length in characters: {len(str(channel.proof))}')\n",
    "\n",
    "    \n",
    "if __name__ == \"__main__\":\n",
    "    modelo_cuatro()"
   ]
  },
  {
   "cell_type": "code",
   "execution_count": null,
   "id": "038097c7",
   "metadata": {},
   "outputs": [],
   "source": []
  },
  {
   "cell_type": "code",
   "execution_count": null,
   "id": "dc624823",
   "metadata": {},
   "outputs": [],
   "source": []
  },
  {
   "cell_type": "code",
   "execution_count": null,
   "id": "9f891629",
   "metadata": {},
   "outputs": [],
   "source": []
  },
  {
   "cell_type": "markdown",
   "id": "2e286234",
   "metadata": {},
   "source": [
    "# Conclusion\n",
    "\n",
    "El protocolo STARK es una protocolo que nos permite demostrar o validar el trabajo hecho sin tener que hacerlo de vuelta o entregar datos personales que demuestren lo que afirmamos.\n",
    "\n",
    "Con las pruebas de validez podemos probar que un cómputo se ha realizado correctamente en un tiempo bastante menor que la verificación trivial, es decir, que el cómputo sea corrido de manera independiente por el verificador. \n",
    "\n",
    "Ignorando un momento toda la matematica de trasfondo, el protocolo actua casi como magia y el hecho de que no requiera de interaccion externa le da una seguridad enorme. \n",
    "\n",
    "Sin embargo, con estas soluciones tambien creamos nuevos problemas. Como dependemos fuertemente del channel es critico que su aleatoridad sea absoluta y en el mundo real esto es algo que no podemos afirmar a ciegas. Si algun dia se descubre una manera de predecir los valores que nos da entonces todo el protocolo se romperia. \n",
    "\n",
    "Pero como todo en criptografia, el protocolo funciona bien hasta que inevitablemente alguien lo rompa. Por el momento, STARK parece ser muy prometedor para el futuro de la criptografia y ya hay planes para incorporarlo como una mejora de su protocolo hermano SNARK."
   ]
  },
  {
   "cell_type": "code",
   "execution_count": null,
   "id": "05352e8d",
   "metadata": {},
   "outputs": [],
   "source": []
  }
 ],
 "metadata": {
  "kernelspec": {
   "display_name": "Python 3 (ipykernel)",
   "language": "python",
   "name": "python3"
  },
  "language_info": {
   "codemirror_mode": {
    "name": "ipython",
    "version": 3
   },
   "file_extension": ".py",
   "mimetype": "text/x-python",
   "name": "python",
   "nbconvert_exporter": "python",
   "pygments_lexer": "ipython3",
   "version": "3.9.12"
  }
 },
 "nbformat": 4,
 "nbformat_minor": 5
}
