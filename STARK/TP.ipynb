{
 "cells": [
  {
   "cell_type": "markdown",
   "id": "b75827f3",
   "metadata": {},
   "source": [
    "# Trabajo Práctico 2: Pruebas de validez\n",
    "\n",
    "Integrantes: \n",
    "\n",
    "Luis Paredes 104851"
   ]
  },
  {
   "cell_type": "markdown",
   "id": "eae1fc84",
   "metadata": {},
   "source": [
    "# Enunciado\n",
    "\n",
    "El objetivo consiste en probar la validez de un programa que calcula $2^{8^{20}}$ módulo\n",
    "p, utilizando diferentes estrategias y viendo el perfil de costos (tanto en términos de\n",
    "longitud de la prueba como de tiempo de generación). \n",
    "\n",
    "1. Considerar \n",
    "    * $a_0 = 2$ \n",
    "    * $a_{n+1}=a_n^8$.\n",
    "2. Considerar \n",
    "    * $a_0 = 2$ \n",
    "    * $a_{n+1} = a_n^2$\n",
    "3. Considerar \n",
    "    * $a_0 = 2$ \n",
    "    * $a_{2n+1}=a_{2n}^2$ \n",
    "    * $a_{2n}=a_{2n-1}^4$.\n",
    "4. Usando 2 columnas.\n",
    "\n",
    "Tener en cuenta que, dado el grado de las restricciones, se requiere usar un factor de\n",
    "expansión (blowup) por lo menos tan grande como el grado de las restricciones."
   ]
  },
  {
   "cell_type": "code",
   "execution_count": 1,
   "id": "a46a58da",
   "metadata": {},
   "outputs": [],
   "source": [
    "import channel, field, list_utils, merkle, polynomial\n",
    "\n",
    "import time\n",
    "from field import FieldElement # Cuerpo Finito\n",
    "from polynomial import X # Polinomios\n",
    "from polynomial import interpolate_poly # Interpolacion de Lagrange\n",
    "from polynomial import prod # Producto de polinomios\n",
    "from merkle import MerkleTree # Merkle Tree\n",
    "from channel import Channel # Implements Fiat-Shamir Heuristic\n",
    "\n",
    "from CP import CP_eval, get_CP # Returns a list of images from the CP\n",
    "from FRI import FriCommit # Next domain for the FRI operator\n",
    "from decommitment import decommit_fri # proof algorithm"
   ]
  },
  {
   "cell_type": "markdown",
   "id": "67886cf9",
   "metadata": {},
   "source": [
    "Para todo el trabajo usaremos\n",
    "* El primo $p = 3 \\cdot 2^{30} + 1 = 3221225473$\n",
    "* Espacio Finitamente generado $F _{3 \\cdot 2^{30} + 1}= F_{3221225473}$"
   ]
  },
  {
   "cell_type": "markdown",
   "id": "e5a54e5d",
   "metadata": {},
   "source": [
    "# Afirmacion a probar\n",
    "\n",
    "Quiero probar que conozco el valor de $2^{8^{20}}$ módulo p\n",
    "\n",
    " * $a_0 = 2$ \n",
    " * $a_{n+1}=a_n^8$."
   ]
  },
  {
   "cell_type": "markdown",
   "id": "f6ba0734",
   "metadata": {},
   "source": [
    "# 1. Genero la traza de ejecucion\n",
    "\n",
    "Generamos unos cuantos valores de la tabla para tener una idea de como se ve\n",
    "\n",
    "| a_i         | Valor     | \n",
    "|--------------|-----------|\n",
    "| $a_0$ | 2      | 2        |\n",
    "| $a_1$ | $2^8$ |\n",
    "| $a_2$      | $2^{64}$ | \n",
    "| $a_3$      | $2^{512}$ |\n",
    "\n",
    "Observamos que $a_1 = 2^{8^1}$ , $a_2 = 2^{8^2}$, $a_3 = 2^{8^3}$ por ende reescribo la ecuacion como\n",
    "\n",
    "$$a_{n} = a_o^{8^n} = 2^{8^n}, n>0$$\n",
    "\n",
    "por ende la tabla se vera asi\n",
    "\n",
    "| $a_i$         | Valor     | \n",
    "|--------------|-----------|\n",
    "| $a_0$        | $2$         |\n",
    "| $a_1$        | $2^{8^{1}}$ | \n",
    "| $a_2$        | $2^{8^{2}}$ |\n",
    "| $a_3$        | $2^{8^{3}}$ |\n",
    "| $...$        | $...$ |\n",
    "|$a_{21}$      |  $2^{8^{20}}$  |\n",
    "\n",
    "Genero la tabla de ejecucion para los 22 elementos que necesito"
   ]
  },
  {
   "cell_type": "code",
   "execution_count": 2,
   "id": "01985117",
   "metadata": {},
   "outputs": [
    {
     "name": "stdout",
     "output_type": "stream",
     "text": [
      "Generating the trace\n"
     ]
    }
   ],
   "source": [
    "print(\"Generating the trace\")\n",
    "\n",
    "# Tabla de Ejecucion\n",
    "a = [FieldElement(2)]\n",
    "\n",
    "# a_{n} = 2^{8^n}\n",
    "while len(a) < 22:\n",
    "    a.append(a[0]**(8**(len(a))))"
   ]
  },
  {
   "cell_type": "markdown",
   "id": "f8daedc3",
   "metadata": {},
   "source": [
    "# 2. Busco un espacio finitamente generado   \n",
    "\n",
    "Busco elemento generador $g$ tal que el subgrupo sea de orden n y genere el subgrupo \n",
    "$G = {g,g^1, g^2, ... , g^n}$, $G[i] = g^i$\n",
    "\n",
    "Hint: When 𝑘 divides |𝔽×|, $𝑔^𝑘$ generates a group of size |𝔽×| / 𝑘, \n",
    "and the n-th power of some FieldElement 𝑥 can be computed by calling x ** n.\n",
    "\n",
    "---\n",
    "\n",
    "Queremos que el orden del subgrupo G sea de 32 porque es la potencia de 2 mas pequeña que excede a la traza.\n",
    "\n",
    "|𝔽×| / 𝑘 = 32\n",
    "\n",
    "Sabiendo que |𝔽×| = 3221225473\n",
    "\n",
    "Tomando $k = 100663296$\n",
    "\n",
    "\n",
    "Tal que \n",
    "\n",
    "|𝔽×| / 𝑘 $\\approx 32$."
   ]
  },
  {
   "cell_type": "code",
   "execution_count": 3,
   "id": "36c06043",
   "metadata": {},
   "outputs": [],
   "source": [
    "# Nuestro grupo es de orden 32\n",
    "\n",
    "# Siendo n el orden del subgrupo\n",
    "# n*k = |𝔽×| , busco k tal que |𝔽×| = 3221225473\n",
    "n = 32\n",
    "mod_F = FieldElement.k_modulus\n",
    "k = mod_F // n\n",
    "\n",
    "g = FieldElement.generator() ** (k)  # Busco g^k\n",
    "G = [g ** i for i in range(n)] # Genero el subgrupo de orden 32"
   ]
  },
  {
   "cell_type": "markdown",
   "id": "0f484a09",
   "metadata": {},
   "source": [
    "# 3. Busco un polinomio asociado a la traza y hago interpolacion extendiendo la traza\n",
    "\n",
    "Ahora con el polinomio asociado, cada elemento de la traza lo veo como una evaluacion hecha del polinomio $f$ sobre\n",
    "elementos $g$ (del espacio generador). Esto se llama Reed-Solomon error correction code.\n",
    "\n",
    "Ahora la traza se ve asi\n",
    "\n",
    "|$f(g^i)$| $a_i$         | Valor     | \n",
    "|----    |--------------|-----------|\n",
    "|$f(g^0)$ | $a_0$        | $2$         |\n",
    "|$f(g^1)$ | $a_1$        | $2^{8^{1}}$ | \n",
    "|$f(g^2)$ | $a_2$        | $2^{8^{2}}$ |\n",
    "|$f(g^3)$ | $a_3$        | $2^{8^{3}}$ |\n",
    "| $...$   | $...$        | $...$ |\n",
    "|$f(g^{21})$ |$a_{21}$      |  $2^{8^{20}}$  |\n",
    "\n"
   ]
  },
  {
   "cell_type": "markdown",
   "id": "27cd5aa8",
   "metadata": {},
   "source": [
    "Evaluamos en un dominio mucho mas grande que G. Tomamos un dominio H que es 8 veces mas grande\n",
    "\n",
    " n = 8*32\n",
    "\n",
    " |𝔽×| = 3221225473\n",
    " \n",
    " $k \\approx 12582912$"
   ]
  },
  {
   "cell_type": "code",
   "execution_count": 4,
   "id": "3b42d0b0",
   "metadata": {},
   "outputs": [
    {
     "name": "stdout",
     "output_type": "stream",
     "text": [
      "We blow up the trace (Extend the trace) 8 times bigger\n"
     ]
    }
   ],
   "source": [
    "print(\"We blow up the trace (Extend the trace) 8 times bigger\")\n",
    "\n",
    "n = 8*32\n",
    "mod_F = FieldElement.k_modulus\n",
    "k = mod_F // n\n",
    "\n",
    "w = FieldElement.generator()\n",
    "\n",
    "h = w ** (k)  # Este es mi generador g^k para el nuevo dominio\n",
    "H = [h ** i for i in range(n)] # Genero el subgrupo de orden 8*32\n",
    "\n",
    "eval_domain = [w * x for x in H]"
   ]
  },
  {
   "cell_type": "markdown",
   "id": "90fc75e4",
   "metadata": {},
   "source": [
    "# 4. Busco un polinomio asociado y hago interpolacion"
   ]
  },
  {
   "cell_type": "code",
   "execution_count": 5,
   "id": "51637edf",
   "metadata": {},
   "outputs": [
    {
     "name": "stderr",
     "output_type": "stream",
     "text": [
      "100%|████████████████████████████████████████████████████████████████████████████████████████████████████████████████████████████████████████████████████████████████████████████| 21/21 [00:00<00:00, 5959.83it/s]\n"
     ]
    }
   ],
   "source": [
    "f = interpolate_poly(G[:len(a)], a)  ## Este polinomio pasa por todos los puntos que nos interes\n",
    "f_eval = [f(d) for d in eval_domain] ## Busco la imagen en todos los elementos del dominio extendido"
   ]
  },
  {
   "cell_type": "markdown",
   "id": "0b5fe37e",
   "metadata": {},
   "source": [
    "# 5. Commitment \n",
    "\n",
    "Con la traza extendida, ahora creo las hojas del merkle tree a partir de estos "
   ]
  },
  {
   "cell_type": "code",
   "execution_count": 6,
   "id": "2fc79929",
   "metadata": {},
   "outputs": [],
   "source": [
    "f_merkle = MerkleTree(f_eval) "
   ]
  },
  {
   "cell_type": "markdown",
   "id": "5ec503cc",
   "metadata": {},
   "source": [
    "# 6. Channels\n",
    "\n",
    "Teoricamente el protocolo STARK requiere que dos personas (prover y verifier) interactuen entre si.\n",
    "\n",
    "En la practica convertimos este protocolo interactivo a uno no interactivo haciendo uso de la heuristica de Fiat-Shamir."
   ]
  },
  {
   "cell_type": "code",
   "execution_count": 7,
   "id": "efbc5cde",
   "metadata": {},
   "outputs": [],
   "source": [
    "channel = Channel()     # El channel nos dara datos que deberia darnos el verifier\n",
    "channel.send(f_merkle.root)"
   ]
  },
  {
   "cell_type": "markdown",
   "id": "78a201e0",
   "metadata": {},
   "source": [
    "El channel va a actuar como nuestro verificador de ahora en adelante. Nos va a proveer con cualquier dato requerido de parte del mismo."
   ]
  },
  {
   "cell_type": "markdown",
   "id": "91192f9b",
   "metadata": {},
   "source": [
    "# 7. Generamos CP y FRI layers\n",
    "\n",
    "Convierto todas las restricciones originales a rational functions.\n",
    "\n",
    "* $a_0 = 2$\n",
    "\n",
    "    1) $f(x) = 2$, para $x=g^0$\n",
    "    \n",
    "    2) $g^0$ es raiz de $f(x)-2$\n",
    "    \n",
    "    3) $p_o(x) = \\frac{f(x) - 2}{x-g^0}$"
   ]
  },
  {
   "cell_type": "code",
   "execution_count": 8,
   "id": "a744ded5",
   "metadata": {},
   "outputs": [],
   "source": [
    "## a0 = 2\n",
    "numer0 = f - 2\n",
    "denom0 = X - 1\n",
    "p0 = numer0 / denom0"
   ]
  },
  {
   "cell_type": "markdown",
   "id": "65d97633",
   "metadata": {},
   "source": [
    "* $a_{n+1}=a_n^8$\n",
    "\n",
    "    1) $f(g\\cdot x) = f(x)^8$\n",
    "    \n",
    "    2) $\\{g^i \\, , 0 \\leq i \\leq 20 \\}$ es raiz de $f(g\\cdot x)- f(x)^8$\n",
    "    \n",
    "    3) $p_1(x) = \\frac{f(g\\cdot x)-f(x)^8}{\\prod_{i=0}^{20}(x-g^i)}$"
   ]
  },
  {
   "cell_type": "code",
   "execution_count": 10,
   "id": "26e0167e",
   "metadata": {},
   "outputs": [],
   "source": [
    "# a[n+1] = (an)^8 \n",
    "\n",
    "numer1 = f(g* X) - f(X)**8\n",
    " \n",
    "\n",
    "lst = [(X - g**i) for i in range(21)]\n",
    "denom1 = prod(lst)\n",
    "\n",
    "p1 = numer1 / denom1"
   ]
  },
  {
   "cell_type": "markdown",
   "id": "6f235322",
   "metadata": {},
   "source": [
    "Genero el Composition Polynomial como combinacion lineal de estos polinomios.\n",
    "\n",
    "Los coeficientes del mismo me los provee el channel ya que toma el roll de verificador"
   ]
  },
  {
   "cell_type": "code",
   "execution_count": 11,
   "id": "b21eba42",
   "metadata": {},
   "outputs": [],
   "source": [
    "cp = get_CP(channel,[p0,p1])\n",
    "cp_eval = CP_eval(cp,eval_domain)\n",
    "cp_merkle = MerkleTree(cp_eval)\n",
    "channel.send(cp_merkle.root)"
   ]
  },
  {
   "cell_type": "markdown",
   "id": "4ca07a3a",
   "metadata": {},
   "source": [
    "FRI Folding Operator"
   ]
  },
  {
   "cell_type": "code",
   "execution_count": 12,
   "id": "f7a32c29",
   "metadata": {},
   "outputs": [],
   "source": [
    "fri_polys, fri_domains, fri_layers, fri_merkles = FriCommit(cp, eval_domain, cp_eval, cp_merkle, channel)"
   ]
  },
  {
   "cell_type": "markdown",
   "id": "e0de6f31",
   "metadata": {},
   "source": [
    "# 8. Genero queries y decommitments"
   ]
  },
  {
   "cell_type": "code",
   "execution_count": 13,
   "id": "42b8b176",
   "metadata": {},
   "outputs": [],
   "source": [
    "len_query = len(eval_domain) - 1\n",
    "decommit_fri(channel, fri_layers, fri_merkles, f_eval, f_merkle, len_query)"
   ]
  },
  {
   "cell_type": "markdown",
   "id": "f46db04a",
   "metadata": {},
   "source": [
    "# 9. Vemos la prueba"
   ]
  },
  {
   "cell_type": "code",
   "execution_count": 14,
   "id": "5ee59cda",
   "metadata": {},
   "outputs": [
    {
     "name": "stdout",
     "output_type": "stream",
     "text": [
      "['send:8bc5d357865faf1f6cc4f21dcfde6012074ada5b899b0e21893ab4bbbfa3e037', 'receive_random_field_element:2934728597', 'receive_random_field_element:1063968342', 'send:2cc554ed6360bd397754815c199367f538b54dae482c1037d63f355064002f4b', 'receive_random_field_element:939738386', 'send:6e96042c0dab68e08619227a338b3b0965541ac4c2dc9b9a41a29cdb477b215a', 'receive_random_field_element:2516983789', 'send:e47ff6a529fc94d30b16641b1cc54c686e7c4181721d7914cde0e8bc0d615578', 'receive_random_field_element:1591322635', 'send:8a38db01c0fdc00d2fd6c371cf15ac45f2d7484b291192810abed763ff661fa4', 'receive_random_field_element:221227579', 'send:83921e52712932d8a4afb31f5729bdbf2edd99496169008dbc07286b8981002f', 'receive_random_field_element:181381405', 'send:7f2938df004427eaf2307ac625c9886cec0d47276fec5dc1535746f5eec7cc92', 'send:-284756853', 'receive_random_int:130', 'send:-1355327771', \"send:['633662b2ff311702bb9263d76ed2373498c06d9b6c69abce3663b7eeba38a356', '41df99704195120edbb05baa1460664d8d7ad0c30fcdd7120da1fb59954797b2', '7bc9671968a209a6a57c9ba43095f613f1e2b03d12d6229f21ef71a4e6f7478d', 'c0ebcf03d0664fce759a8a28f121d09618b0e230fab8e20746696fe3db8f0dac', 'd35f5ebbe2033dcc67126b30c816054a0d7b827c94ae92d993a85276b8ce1ea1', '85f9ac23e4ffe61a4bc77aa7cea0fa1fd3cb52a95f12359bd66d865eca39c0f8', '018fe5573a95e306d314a6b877b77075f46b3544609a73b429350add997a1536', 'd1deb3d9697c2f7ef0c42f8faaa93c8b43f1880882461d8f79d5c4f4f3cd4a4f']\", 'send:390813716', \"send:['633662b2ff311702bb9263d76ed2373498c06d9b6c69abce3663b7eeba38a356', '41df99704195120edbb05baa1460664d8d7ad0c30fcdd7120da1fb59954797b2', '7bc9671968a209a6a57c9ba43095f613f1e2b03d12d6229f21ef71a4e6f7478d', 'c0ebcf03d0664fce759a8a28f121d09618b0e230fab8e20746696fe3db8f0dac', 'a5412de8b391868fd55f196f4078d88d3a6844806f25e2d1f024e16e9b66d4c7', '3ed2010165b3f183841327a4ec2cd882941a4006e9cee163222793e20058cd5a', '0ee58caac87dbe9f7e8444c131fcbbea44fb8cf285fb096547d21f20e4122103', 'ba8c64386483c622ed09d651b96d3769b856c2be847a9eea62b7ec18a5984037']\", 'send:-487739032', \"send:['633662b2ff311702bb9263d76ed2373498c06d9b6c69abce3663b7eeba38a356', '41df99704195120edbb05baa1460664d8d7ad0c30fcdd7120da1fb59954797b2', '7bc9671968a209a6a57c9ba43095f613f1e2b03d12d6229f21ef71a4e6f7478d', 'f9471e676850fd19a00977ab6791dcca4f15e21dfdd5ec90b2a3033ad9af12a7', 'e3db7af7bd11c3ac4380978f51b2e5777e88258bdcb2d1aecce6d9ba0e48f2a0', 'b5a2dc215912bd0643a3a6b53fbecb952f1346dbd0ef887af5a250bc0f938372', 'e663eafc361762b266e90e929e461240dcaa847a89e62f50dea5224384788cec', 'f74ded1dedccf723059ed1605615717702ca791c2ad5cdd0a5f0d13231e89a78']\", 'send:1053711515', \"send:['8b1e6390b06176a81ed33bb8776907abe632cad15ffb538a1571c0e20acbc9cf', '49fec92e21ac3a584d775e8f68d3edecc8847862c9056889047d974968d72942', '3a0c85cfd71828cd5e5980dcb0855d8b90dc05644eef464c78804402756ca2f5', 'ecf82436094bab35c9f51c62c7af6c6db811889584b3a54b2bc50fd9a0df4cdc', 'e18aec9dfb96e88ee70044e7aa3883844522fa51e5ad7646a616b2e164e46971', '94d6e2596f812147db264b796c515412005723735521c4aa61c1cd34c858de2e', '90ceed2d105d155c4e6fa46eaf70f5607c32dfd5eeccb7393d2d7bf42182c0f6', '79d9a81cb7367b900f8541295002bf80b44132e969f6254ed6c87b35871a63f7']\", 'send:-616318848', \"send:['211c1589576a0d8bf40e0937daa4ae67a13f5664a23254dbb7670675c8ef2ca4', '15001c0b5d5ab9e930005118a04a902b865d40ebd49af7c4dbc7bb5215e683ad', '267063f11055feaac8268b46f54349b1d8d1b828654dd1ebf2733ffc7ae0257b', '1e4db4e18d19421d405d5c9662beecb81467cf3779ecf93f3f1f04d0d8af3c2c', '293de38ad3b1ccd3e4895a9d889cf456e07e17557025e4005e9f4e4b785c0376', 'c99d054e3512d70c3799437f9642980e811e816813b76d2abb16c0f013e97195', '6217a3d553fb69354e11d967023ea1966fb7799b89da78927f5a0bd4f2f407ca', 'c53916820ff6fec4838d22cdb744074ab787cd39643582f42112311d2fb67beb']\", 'send:500397214', \"send:['14ffb421d0a8bc626b4fd4a88cf2effe0fc9528fb3630b28355af7668e8d887b', 'b7ccbb7dac7b639db4c9763dd9bcf8cacd108e606fa64a7d5a7d4e0448b070f8', 'a4d4171589a8ec9743feff39a43d1206209c6b39937e7c72a50630849b0f6dd8', '55551171cf4387b9e44aa63b576066635d0238b36b1039a7d3b67a10630c9839', 'ece42f6babbd2fe3e8f1579cb7dfe4f90ee19544bb13522e855148a1d106d3f5', '8fe157542082ed6da9a8d5433e93d31c4f4db2f7a782c8f9e92261ff3f2d218a', 'ae19625ca60f85ff709926d1cc43a8f48c8e86dd2388a3bad69fac008c026a7e']\", 'send:12541200', \"send:['c48e4b0afd6aa4b963366666ff484aa225ff1cde23468996e0ee3d0a7208a9df', 'dc9f8d8f829d45d8633e0aa04d4914e6404a7ebc499bce46b2ba8d4a2f6effd3', '2c920b4bbe2f7ad08fc2890c420989d9fb14a1db76dfc6c79b1053130dda1499', 'fea375bb2ccd0fff72802c2c2892846f949cf0248eb63f296fc470c6422fe1ca', '6582595c58b64126fa1c3a5ce8bc2de210896fe77a85f3acd9625d507b56a96c', '034067551cb332086fc36899b7be228bad315978612f6b50097cf05e2379e8b9', '81e183676784e879d08faa1c0bb2e5852adfc52b584170d622d4f8f303ae9038']\", 'send:1256401366', \"send:['6ab18b9fb7c28aef997ffa8bd2f3c605bacc5c5e0387c6b19236512276b4742f', '46062d6573f42b4cba9106d047b2d493c4882c39b0d91f62b4ca05a0e5e1c33a', '2599a68c34521ccc76887261dcd1cfba8132fd4665d6dcd3c75547d4d4ed0aa5', '20c7ae5301132790ddedaf4cd0c21d070022b8b39b3e419c8dafce40d80f2538', 'e2d485f642f3fb7be7e97e9fc6a05f5ed4c099ef99972231fc1dcff805206bd4', '708b54375698789b7e74e5e1020d2ec2e4d49aee6aae973b8dd9ec24cce0675b']\", 'send:280539976', \"send:['5014662591afbed724f8ec40bbeb886010184e44ee7dc2033ba428c67f91a357', '3c4ff6d28ca2eae9bb524a7c828c6cd9cef0c550a32349f89ed5a2cf5ffa4b3e', '24d1ba31b3461e734c106dc73608548d45bb218271a1932688c42a70b5b47319', '8269c9ac67e3ab5ea96e31a26d48300c1fbbb2f1042d141e04336f354d39407b', '239c60541794204d5c043eb76014f1ff2f6a8f109242f448606a6b997a410507', 'f0e9535406625617ead5f8f5ff88110406886cd64a621c1a6486bafedc117ea8']\", 'send:-1054300625', \"send:['8188cf0d042d06a4cea6ed1a50a075104a264d340c7122e64c4352ec22419290', '7f3387486aee9ff6169dbe42962f9e052de55113c1e56e0da0a50d6769627f9c', '88b54c27b1c20a028c9c66ab0d0f1ea3506f53c3f80cf44b440da3d58e33fc81', '97027b41dccc6769f0c72c308c72ac266d5cb8f678ea54cf5e56c079a8d4fd01', 'bea5a922adec08ca35a7c0027023a3a59fe6eda4cb6a199735d320023416ba34']\", 'send:114642446', \"send:['307cb19012cbb8de162f40b87052fc14bf968e25e3ae5753edf00c07be33702a', 'ee1442c13894ebb6639e8ac3b7f2298cc434b54302d8850f785aeb2af0463f26', '9f2d371c72e17ff6c4c1165f930916b31c9adc421ab6f126f03803f919ab1363', 'a2873794d075499ae17d33827f1026dd237dc75eb3eef1db86d46888f67b6b8c', 'dfa488bab8c087b53bd43442a65940ec0b0faa252be835270df0c0803c599008']\", 'send:1365550699', \"send:['c8814645fe349f9450126f57a2ba27ff5109ba058759d8f38823e0165e48d18c', 'de057a655aea1b81ad26e2f82fee5a4fba48e9bced16071784419cad47138549', '3fdebedffb3150246155c171316749a8376a1831617c79684d58c5b1dea14754', 'c71e21e80d3f8191c99477db2ef4f1485450523fda79f445ccab85f412ba952d']\", 'send:1538575487', \"send:['3e078c000166b81c75e3abdbbb6c322bfef33a75a0cc5366adfed30e75854e28', '616f716af828ce37124c566cce24db9fa485b07cb3afd01123185ee33393907c', '92cd08a7d62ca5c789cbee5eb030fbc590746eac948ceffe81406cb20bfb5dad', 'fbdec9436ca21ee0c156c9db87225e24676fdf341458cbb5242468fd50353f53']\", 'send:-284756853', 'receive_random_int:44', 'send:1435739072', \"send:['5467b28df1bf4b89d3de2007aafc9e5766b4fbc88e4add82a7abbf109cce1682', '0d6ac8742bdca7a8c54c8b67e8656187e171fc1893bfe74569035f5e35a27c76', 'e55ea99fac2ab8a8b3468e378c160709da9ca772b7f4e8706e8e66720aaa7e25', '727a9d1c72c062e0238593794c462c27f4dc0cc6bcb6d301ec6f690f486414bf', 'b9ad6349239b01f042f3671f0ecd6de7102d63d963e4d56b8d0387d6ef442d91', 'c1f6a8b0f1ce62f267d813a811991b6b0dc6d695d1d2d4b6171d7e94278994be', '22e6b26e4fd3793f53ed1254770e4bf6a119b2a97d9860d7b39ceed380d60345', 'd053e3e7a1f0d5d4ae452c21e5c05b6d6cfe1851ef62a6d80939584de72a3f40']\", 'send:-1219783193', \"send:['5467b28df1bf4b89d3de2007aafc9e5766b4fbc88e4add82a7abbf109cce1682', '0d6ac8742bdca7a8c54c8b67e8656187e171fc1893bfe74569035f5e35a27c76', 'e55ea99fac2ab8a8b3468e378c160709da9ca772b7f4e8706e8e66720aaa7e25', '10b3a18874629d905b51704e2bc0cc14f96f4223b42df078c1037f9cc030f561', '5b5764848abb8871a11f5f0396845b75fc5e4c85bfe8c60a7db87e44cd178678', 'd787e2940a01b10993ca75a1c38897c11abdb128b481280e87a27b494ac6961b', 'be826afade4d6d2fe28e9a9da0c07cc46827bb2c7b316c6b4a4e1f33c46975d0', 'c2c7467409e071bb5911d8caf53d60dc738ede4bd94864fa1cbd2768d50ffa80']\", 'send:-617287569', \"send:['5467b28df1bf4b89d3de2007aafc9e5766b4fbc88e4add82a7abbf109cce1682', '0d6ac8742bdca7a8c54c8b67e8656187e171fc1893bfe74569035f5e35a27c76', 'e55ea99fac2ab8a8b3468e378c160709da9ca772b7f4e8706e8e66720aaa7e25', '10b3a18874629d905b51704e2bc0cc14f96f4223b42df078c1037f9cc030f561', 'd758094562bbc6e99c15939ffe5a5f171d9e7515b63c43fa25ec5a452c4e1db8', '8e767efa541cc5e35a60179d4d41f9b9d0cb0d1e264dd737a6a037c2c440df6a', '1e08b07c0d90c5969a91cd89d189d4efb0a1f41c1315349dbdc1e3bf5a5e85f8', '03c45a240fcc582fc5cd00994257226ce20933b53864d992dc2204f8c3df12f8']\", 'send:-670426646', \"send:['211c1589576a0d8bf40e0937daa4ae67a13f5664a23254dbb7670675c8ef2ca4', '15001c0b5d5ab9e930005118a04a902b865d40ebd49af7c4dbc7bb5215e683ad', 'db762e8a59a10ab48efd7e759a59ef27274a52c0aef38f10cb72c29295a82ea4', '482afd78f3b3eb5e46fddb975e6d5e75495d5116c85e7819c6716ff707378cee', 'f2bf574e7ac399ce0f42fe956ab0449736be2598fa84b3f605ba54a6f4da9e6e', 'b1cbd24d40f5a9935722ae943d737d4b62026cb4e0b5c51038322c2b814df0c6', 'f1466ca53b63ed3b8292cf069e3cd733457f731c72cdda2218dcae58fdd823db', 'cb525d0a3b83d1799ee657af0a1a3826bf023801d130650e9f245dceb50e66e0']\", 'send:818168546', \"send:['8b1e6390b06176a81ed33bb8776907abe632cad15ffb538a1571c0e20acbc9cf', '49fec92e21ac3a584d775e8f68d3edecc8847862c9056889047d974968d72942', 'a1225bc079af8ef5849168be4055424bdc999328cf1343770582d5a7abc95aa4', '04f757ba3c265892879d6c77909314167e804b033baa40b58a31fe8b3bbb0a20', 'e12b22a2b0afc427e4c83dfaf6e1c23f11003dc0f9a0573924c51fd6c461a05b', 'c7c25646ef89c853987648827c749464b0938474eccea859560c32f5da9b6953', '26c9b7817dada0c8f690aa7890eb028f5da2ffb60a7b4b8203659b71f3d6e927', '59e55ae035bd25ab1fd1987769504d5bf4fc3951a68445d3be27263ae1aaf1d2']\", 'send:358242696', \"send:['14ffb421d0a8bc626b4fd4a88cf2effe0fc9528fb3630b28355af7668e8d887b', 'e302115030eb642166baa7160e1dd00f51dcc0fb73457f4b459542f1d454828e', '3db4dba6974226adf3f59ebc0b1f2f418a7706583d26fc9d82dd007ab0ffb36f', '33a1fda66b616fa36307337a40614d433a64065861dafc99d507f9988f860b52', '36d058acbc539afc3723cbf26d1fc9a85b3f92b3d78d57b1be0daf0a2670e04c', '288057ef19a9cc21bc64d88e50e60a47b1d3989ff26ffb6b818cccc7216eafd8', '63a4ef4b90259d23e408488b55a107e3011cf6d948c3f5ff84222a22b464f30f']\", 'send:-1034258506', \"send:['c48e4b0afd6aa4b963366666ff484aa225ff1cde23468996e0ee3d0a7208a9df', 'ecff7a9c24566f627fe015d70b0501faa58722dcea040f1f39d1ba6ef4a89aa9', '4851095bdef7b469a64f53e4cfc0f8ef83f5fb15021428cf0f30975e17aaebfa', '567625c5e5d53107fbffb7410ff4fede3ba5b9a96adf42238053f904cb207cdc', '073b5f462bad4001cf7868934e9b39132ad525322a8ddf94cf976d0cf63101c4', '63d047451e8d423af1e394a1fd86036ed9dfcbdae0153345d81f52de32aefe3d', '09b00791c9c4fb79f587033fd8819e72911738b6748d2a10369368dae53995a9']\", 'send:-854621834', \"send:['5014662591afbed724f8ec40bbeb886010184e44ee7dc2033ba428c67f91a357', '3c4ff6d28ca2eae9bb524a7c828c6cd9cef0c550a32349f89ed5a2cf5ffa4b3e', 'aea77ce3123cdee2436fa008d6c772c1df9d0951d6af5f1eb4b454467a6b34dd', 'b7f61e4feffeb595b84f8ed1141a41ff44d91b62e50015da982b6ac686f096e6', '41d3cef3120a29ce80888d6e1ad12591cf182bbfb573ac596010cdba15a4aa99', '1b86cab8f1631cc2fa01ac25b02ebfd887359f5a9df58275746dbcf0c779f68a']\", 'send:507841500', \"send:['6ab18b9fb7c28aef997ffa8bd2f3c605bacc5c5e0387c6b19236512276b4742f', '46062d6573f42b4cba9106d047b2d493c4882c39b0d91f62b4ca05a0e5e1c33a', '059b759920cb2a2215f005b538d02edc5be0c830362752ea9ae8349411024ecf', '80f7cff4aa9b94b2148e86fc4700745ae8ff7a64c571b93d672090726b55d995', 'b306ff6f9b6eba915bf7917c1f9c9496046f69b1720f83c0d8a65ad60ec73161', '9a8c58a53c92f5f2e8b969296f744dedc210df6a5b8fe5633e854e20c4626d13']\", 'send:961072606', \"send:['8188cf0d042d06a4cea6ed1a50a075104a264d340c7122e64c4352ec22419290', 'cf2558777cd7e18758f6575e20e724fff00f0e7f2283f13c641fd6ec9dfef793', 'df4a3e0216f612b20d999afbb88860a3a73930c6b0e9b51ad702b310f1e85fbb', '7666eefcb71a88c6d9ded6b3186d80cf5a53b1b61e48e664b764e94d7cb185fa', '451f88c9d646135ea1959b50754d732dcaae26537fc21ef54a66ad878dc28fd0']\", 'send:-887535037', \"send:['307cb19012cbb8de162f40b87052fc14bf968e25e3ae5753edf00c07be33702a', '244b5d5d6b86510dc55e55da16f2acb87fc89d6ebec22f95c60360070bd8abe7', 'c34369a39665d8fbd624ff7c351b3fc92054d3431128b75cad559779843aba03', '3363393fd5b69060ed5b4c482f3ca2f3c7f37f0269591d5b7ea0a9ad26d34df3', '9fd8ad056cf45452c5998e940df33a7a586a0f15842afc187a2d20d09dd16719']\", 'send:-1349076900', \"send:['3e078c000166b81c75e3abdbbb6c322bfef33a75a0cc5366adfed30e75854e28', 'bc4b3ba51c28f8e1f8157e49c5bb0946c4f0cb49dab39c455e02981a91082df8', '15d3f618a0b674c65072f79911fbb0f743bf7787531e7720cf06ccb2ae14600f', '3219ac3e5b90f5e2dfc769c1da1558c7dc7e04009c9dd077eb06e6b87f16483d']\", 'send:1031977613', \"send:['c8814645fe349f9450126f57a2ba27ff5109ba058759d8f38823e0165e48d18c', 'ca84cb41cbbb2e9a60e799ddb45e390d33fdb69206c3f9c394cda5ca3967649e', 'd896852107de5fe58c4f35ac4d0f1fee3471056d632b3b8fc12b1c2f5d235785', '2f5ab3f9812c616a0e142a060421c979ee804cfc7818f76a616914a147f8b320']\", 'send:-284756853', 'receive_random_int:126', 'send:130654279', \"send:['5467b28df1bf4b89d3de2007aafc9e5766b4fbc88e4add82a7abbf109cce1682', 'a72ad2625509b48731e3a7521e1be0b15bb7f515ce1b2d2f1415c942478b564a', 'b68d08d8082964472e2d82aa20070d64c71077c804738f5364e497b9ada406b0', 'f0c0f02d1e1b6e060bb17deab45ba9f50c0ef98df9d5732758cbeae98bf8997a', 'd9e7d5e5d849bb2a36bc5125e020cac30914c6a7c40737665042a728daac519d', '25df6f4e116be004d3361b9cbada1d3ca7a48fa673bbd217723964adf15856a5', 'ae7e2ea00e27a38bb1b9d61be8a41524836bdbdd8397e8cf9dd8f2f0f3fcad7a', '3af38bf1ec0429aa5662d44b9619a80cefba39b8c2d6aabf458983a31772d371']\", 'send:-95260181', \"send:['633662b2ff311702bb9263d76ed2373498c06d9b6c69abce3663b7eeba38a356', '41df99704195120edbb05baa1460664d8d7ad0c30fcdd7120da1fb59954797b2', '7bc9671968a209a6a57c9ba43095f613f1e2b03d12d6229f21ef71a4e6f7478d', 'c0ebcf03d0664fce759a8a28f121d09618b0e230fab8e20746696fe3db8f0dac', 'd35f5ebbe2033dcc67126b30c816054a0d7b827c94ae92d993a85276b8ce1ea1', '0a635e90e92cbda6b3f38a4d23e6ad7d30aba0c0ca5eb0f248a7f871454ae17e', '02ef69a0f77cb25d1da076d0d23cc2f9a3b2c2632a8be0cac10d17cc67884478', 'dc00050c56ddc6444d5d589e4ef30277542286643107f07c93b64d9b30ae8008']\", 'send:1080687650', \"send:['633662b2ff311702bb9263d76ed2373498c06d9b6c69abce3663b7eeba38a356', '41df99704195120edbb05baa1460664d8d7ad0c30fcdd7120da1fb59954797b2', '7bc9671968a209a6a57c9ba43095f613f1e2b03d12d6229f21ef71a4e6f7478d', 'c0ebcf03d0664fce759a8a28f121d09618b0e230fab8e20746696fe3db8f0dac', 'a5412de8b391868fd55f196f4078d88d3a6844806f25e2d1f024e16e9b66d4c7', '14a054380b3b3f73f29f9dd81362b73581fd70fd60d0f0054736dabb1c4e1398', 'b705da7d9718ae6e73b397df730b7aead53fd98c731175c917b223c8bb141f38', 'e7dff21b322e129732a40bc486a690312555a2746a7db201c5ee3b6203486a0a']\", 'send:-1260903008', \"send:['211c1589576a0d8bf40e0937daa4ae67a13f5664a23254dbb7670675c8ef2ca4', 'd731f9e764f212df4c6a7f314aac9560d26eb74752c16b2b1be7e1ce06946fa6', '3b6411c03f6c5788565e7b51f0297bc15bedf2e46e4f7da8c46002beffd5e313', '7df2f12136e61500baf2fd7e3ec7a2b52883b6c2f2db4269ea22a4ee8f274dc9', '3ede81a94ee9a708672989547f8343b2dd09b41a8e9801a0f78ed9034041cf89', 'f551c6c0a669c59c1616fb31e5d4d14f7d8cc275daf3d7b6ff0aa78abcc7cf84', '1619e000f8f0ba2707c77cda54ec8397ecc7a2c9863fb8a12d0ab15d486d8a27', 'b840cf15ffc8457b43688b7838a2753ffdae416e5b55fe1bc2a9edbafc62f75a']\", 'send:319178040', \"send:['8b1e6390b06176a81ed33bb8776907abe632cad15ffb538a1571c0e20acbc9cf', 'cf1c41e16e06de2e8fe4d4168838880a710fdcd80ec4f13b1fe2392d2ebe49eb', '0195cd521e3e91b24c61ec8edb00044e5d53920bbab38b2f222af9d19651f634', 'cba7ed5681ed036784f48299db038eea0d988eba1e10c4a07035e279c947b17b', '0d2697306f2c7a21aca67b65ae011e19088b71542c2a50c000099e2877e2478e', '93fa51a2b7827446ecda2275807a6bd8abc7f1d6b03bdba0189dfbaaa5e6ebe7', '8445cdc926e15b128641f938cb90907a24c696d277e5e9cbc9d50b4cf459f92b', 'aa82259507f15ad6fd740ace60f12b77fa041c9f16bdcde19f76b0d8479d8b10']\", 'send:-718934856', \"send:['c48e4b0afd6aa4b963366666ff484aa225ff1cde23468996e0ee3d0a7208a9df', 'ecff7a9c24566f627fe015d70b0501faa58722dcea040f1f39d1ba6ef4a89aa9', '8e194411a09fa705ec4c3d4b193a178f051514a3f7886e61eb3976caf9667aeb', '1d480b2cb2a6e99cae10db6650722a9a651474c45e8a003ffe431b36ae3c89a3', '75af1a9178be5703cf61272fe37a212aa920b390d69cd27e6802739009963a58', '283544e2d5afad8c892cf6ece0074fc077846a2ebf9d3a4791aa32f49e6ed36f', '0b306915418e72168d35f8cf02b1876e2bcf8d1c044ba20f4acd6de60c585958']\", 'send:771345909', \"send:['14ffb421d0a8bc626b4fd4a88cf2effe0fc9528fb3630b28355af7668e8d887b', 'e302115030eb642166baa7160e1dd00f51dcc0fb73457f4b459542f1d454828e', 'da91399c5431832a5426a6d2e62916666e0512452a4d8a6b971bb1f59f6ac832', '032a112d78564b7bd547075df04108ea983003d6afd9fe5ff585cf956149cf5a', '6f0efd2c1a69a7dee97f408509d3abddc5ea0936ac59ef47deb88f8eff6245db', '70f2e8a5027b7b6345a2e0995e636e765feba6f6568759a7de89635f33b5b40d', '4d436d42ade1e908cc2cdbb9f8908eab0f719ea11bce0da43d35d1b39fc166c5']\", 'send:-804505643', \"send:['5014662591afbed724f8ec40bbeb886010184e44ee7dc2033ba428c67f91a357', '95188e2966504c2d5a38aeb86446d0ff29303fda820d1c94ced0185446e245bc', '53b2dcdb56d220ce922c4e707fecab5be629b01b8e7d4cef336bb01dab35fe08', '93c7cf639ab8ced05d2bb063c9270df925c0f8e782dcb95e8034776aac26b0fe', 'ac2beb198035e8d77bafbfc507f5ec83a34cdfaeef271f7d180226ee629266ce', 'e78bb2411d15071044d08703c84b9b4f10e73485804a98da516d24b12ab08215']\", 'send:167769834', \"send:['6ab18b9fb7c28aef997ffa8bd2f3c605bacc5c5e0387c6b19236512276b4742f', '78d2113c89c72bd61f1e77675168e12a9d70c931a5a5d96b2c82629a5c76d891', '99244931b0bf91ed5bcc0ec14e65efdc2f493fa5baaea2c0ff1e61a71b10a56e', 'd78d5fcadf9d8c4217011d7163cf6b20a823d2ecc92e041af1c4fc1503d0e475', '9743029959f687de60eaf0007165f83e49aa4a8730ef202f09902c5db5df270a', '14cb9e7f58970d5285567838408dd8a42f5d96071dc0c658344e699efd874736']\", 'send:1125965802', \"send:['307cb19012cbb8de162f40b87052fc14bf968e25e3ae5753edf00c07be33702a', '244b5d5d6b86510dc55e55da16f2acb87fc89d6ebec22f95c60360070bd8abe7', 'c34369a39665d8fbd624ff7c351b3fc92054d3431128b75cad559779843aba03', '34e5b3106df1e80d1c5b213ba60728449f6226f59336d51317ef5e674f18073b', '0fd86ed5ccc5eb9faf4dfcde36b12636be16545cdb58728b03ae62a3db1c8ee9']\", 'send:-839216473', \"send:['8188cf0d042d06a4cea6ed1a50a075104a264d340c7122e64c4352ec22419290', 'cf2558777cd7e18758f6575e20e724fff00f0e7f2283f13c641fd6ec9dfef793', 'df4a3e0216f612b20d999afbb88860a3a73930c6b0e9b51ad702b310f1e85fbb', 'c48687dc16e7a7adb012b49862c9a571ee52ac740d973a043dd5291ae27b2ee8', '4b4e31969d87657e1b5ce3f413e824dec661e90c63737cbe3e7f275f4c06483d']\", 'send:-1242471020', \"send:['3e078c000166b81c75e3abdbbb6c322bfef33a75a0cc5366adfed30e75854e28', 'bc4b3ba51c28f8e1f8157e49c5bb0946c4f0cb49dab39c455e02981a91082df8', 'acd22eeeb5499167051e1f715ed2b8e3672845e429042b078cc023297e5b9997', 'd5d19ccf7259c8deb0670126eb119eabd7a64efbae9fe445fc150e4e0a8d44b4']\", 'send:925371733', \"send:['c8814645fe349f9450126f57a2ba27ff5109ba058759d8f38823e0165e48d18c', 'ca84cb41cbbb2e9a60e799ddb45e390d33fdb69206c3f9c394cda5ca3967649e', 'cba732988815b86f81a3e27dd49621cec2ae414e4c19015c3f503fc7c2fa7916', 'b57855e607a184be24e0c03dcc11eaf468cf3eb2a87ff8b32bf84068a27b23f7']\", 'send:-284756853']\n",
      "Uncompressed proof length in characters: 19181\n"
     ]
    }
   ],
   "source": [
    "print(channel.proof)\n",
    "print(f'Uncompressed proof length in characters: {len(str(channel.proof))}')"
   ]
  },
  {
   "cell_type": "markdown",
   "id": "441987e3",
   "metadata": {},
   "source": [
    "Uncompressed proof length in characters: 19178"
   ]
  },
  {
   "cell_type": "markdown",
   "id": "d319e02d",
   "metadata": {},
   "source": [
    "# Tiempos\n",
    "\n",
    "Vuelvo a correr toda la prueba e imprimo en pantalla el tiempo que toma correr cada parte"
   ]
  },
  {
   "cell_type": "code",
   "execution_count": null,
   "id": "d94df249",
   "metadata": {},
   "outputs": [],
   "source": [
    "def modelo_uno():\n",
    "    \n",
    "    start = time.time()\n",
    "    start_all = start\n",
    "    print(\"Generating the trace\")\n",
    "\n",
    "    # Tabla de Ejecucion\n",
    "    a = [FieldElement(2)]\n",
    "\n",
    "    # a_{n} = 2^{8^n}\n",
    "    while len(a) < 22:\n",
    "        a.append(a[0]**(8**(len(a))))\n",
    "\n",
    "    \n",
    "    # Siendo n el orden del subgrupo\n",
    "    # n*k = |𝔽×| , busco k tal que |𝔽×| = 3221225473\n",
    "    n = 32\n",
    "    mod_F = FieldElement.k_modulus\n",
    "    k = mod_F // n\n",
    "\n",
    "    g = FieldElement.generator() ** (k)  # Busco g^k\n",
    "    G = [g ** i for i in range(n)] # Genero el subgrupo de orden 32\n",
    "    \n",
    "\n",
    "    print(\"We blow up the trace (Extend the trace) 8 times bigger\")\n",
    "    \n",
    "    n = 8*32\n",
    "    mod_F = FieldElement.k_modulus\n",
    "    k = mod_F // n\n",
    "\n",
    "    w = FieldElement.generator()\n",
    "\n",
    "    h = w ** (k)  # Este es mi generador g^k para el nuevo dominio\n",
    "    H = [h ** i for i in range(n)] # Genero el subgrupo de orden 8*32\n",
    "\n",
    "    eval_domain = [w * x for x in H]\n",
    "\n",
    "    f = interpolate_poly(G[:len(a)], a)  ## Este polinomio pasa por todos los puntos que nos interes\n",
    "    f_eval = [f(d) for d in eval_domain] ## Busco la imagen en todos los elementos del dominio extendido\n",
    "\n",
    "\n",
    "    f_merkle = MerkleTree(f_eval) \n",
    "\n",
    "    channel = Channel()     # El channel nos dara datos que deberia darnos el verifier\n",
    "    channel.send(f_merkle.root)\n",
    "\n",
    "    print(f'{time.time() - start}s')\n",
    "    start = time.time()\n",
    "    print(\"Generating the composition polynomial and the FRI layers...\")\n",
    "\n",
    "    ## a0 = 2\n",
    "    numer0 = f - 2\n",
    "    denom0 = X - 1\n",
    "    p0 = numer0 / denom0\n",
    "\n",
    "\n",
    "    # a[n+1] = (an)^8 \n",
    "    numer1 = f(g* X) - f(X)**8\n",
    "\n",
    "    lst = [(X - g**i) for i in range(21)]\n",
    "    denom1 = prod(lst)\n",
    "    p1 = numer1 / denom1\n",
    "\n",
    "\n",
    "    cp = get_CP(channel,[p0,p1])\n",
    "    cp_eval = CP_eval(cp,eval_domain)\n",
    "    cp_merkle = MerkleTree(cp_eval)\n",
    "    channel.send(cp_merkle.root)\n",
    "\n",
    "    # FRI Folding Operator\n",
    "    fri_polys, fri_domains, fri_layers, fri_merkles = FriCommit(cp, eval_domain, cp_eval, cp_merkle, channel)\n",
    "\n",
    "    print(f'{time.time() - start}s')\n",
    "    start = time.time()\n",
    "    print(\"Generating queries and decommitments...\")\n",
    "\n",
    "    len_query = len(eval_domain) - 1\n",
    "    decommit_fri(channel, fri_layers, fri_merkles, f_eval, f_merkle, len_query)\n",
    "\n",
    "\n",
    "    # Verificamos\n",
    "    print(channel.proof)\n",
    "    print(f'Overall time: {time.time() - start_all}s')\n",
    "    print(f'Uncompressed proof length in characters: {len(str(channel.proof))}')\n",
    "\n",
    "    \n",
    "if __name__ == \"__main__\":\n",
    "    modelo_uno()"
   ]
  },
  {
   "cell_type": "markdown",
   "id": "045409a8",
   "metadata": {},
   "source": [
    "Vemos que tomamos\n",
    "- 0.01599 segundos para crear la traza de ejecucion y extender el dominio 8 veces su tamaño\n",
    "- 0.06235 segundos en generar el Composition Polynomial y hacer FRI layers\n",
    "- 0.3503 segundos en total\n",
    "\n",
    "Los tiempos suelen variar ligeramente entre compilaciones"
   ]
  },
  {
   "cell_type": "markdown",
   "id": "2e286234",
   "metadata": {},
   "source": [
    "# Conclusion\n",
    "\n",
    "El protocolo STARK es una protocolo que nos permite demostrar o validar el trabajo hecho sin tener que hacerlo de vuelta o entregar datos personales que demuestren lo que afirmamos.\n",
    "\n",
    "Con las pruebas de validez podemos probar que un cómputo se ha realizado correctamente en un tiempo bastante menor que la verificación trivial, es decir, que el cómputo sea corrido de manera independiente por el verificador. \n",
    "\n",
    "Ignorando un momento toda la matematica de trasfondo, el protocolo actua casi como magia y el hecho de que no requiera de interaccion externa le da una seguridad enorme. \n",
    "\n",
    "Sin embargo, con estas soluciones tambien creamos nuevos problemas. Como dependemos fuertemente del channel es critico que su aleatoridad sea absoluta y en el mundo real esto es algo que no podemos afirmar a ciegas. Si algun dia se descubre una manera de predecir los valores que nos da entonces todo el protocolo se romperia. \n",
    "\n",
    "Pero como todo en criptografia, el protocolo funciona bien hasta que inevitablemente alguien lo rompa. Por el momento, STARK parece ser muy prometedor para el futuro de la criptografia y ya hay planes para incorporarlo como una mejora de su protocolo hermano SNARK."
   ]
  },
  {
   "cell_type": "code",
   "execution_count": null,
   "id": "6e78bc33",
   "metadata": {},
   "outputs": [],
   "source": []
  }
 ],
 "metadata": {
  "kernelspec": {
   "display_name": "Python 3 (ipykernel)",
   "language": "python",
   "name": "python3"
  },
  "language_info": {
   "codemirror_mode": {
    "name": "ipython",
    "version": 3
   },
   "file_extension": ".py",
   "mimetype": "text/x-python",
   "name": "python",
   "nbconvert_exporter": "python",
   "pygments_lexer": "ipython3",
   "version": "3.9.12"
  }
 },
 "nbformat": 4,
 "nbformat_minor": 5
}
