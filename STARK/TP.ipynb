{
 "cells": [
  {
   "cell_type": "markdown",
   "id": "b75827f3",
   "metadata": {},
   "source": [
    "# Trabajo Práctico 2: Pruebas de validez\n",
    "\n",
    "Integrantes: \n",
    "\n",
    "Luis Paredes 104851"
   ]
  },
  {
   "cell_type": "markdown",
   "id": "eae1fc84",
   "metadata": {},
   "source": [
    "# Enunciado\n",
    "\n",
    "El objetivo consiste en probar la validez de un programa que calcula $2^{8^{20}}$ módulo\n",
    "p, utilizando diferentes estrategias y viendo el perfil de costos (tanto en términos de\n",
    "longitud de la prueba como de tiempo de generación). \n",
    "\n",
    "1. Considerar \n",
    "    * $a_0 = 2$ \n",
    "    * $a_{n+1}=a_n^8$.\n",
    "2. Considerar \n",
    "    * $a_0 = 2$ \n",
    "    * $a_{n+1} = a_n^2$\n",
    "3. Considerar \n",
    "    * $a_0 = 2$ \n",
    "    * $a_{2n+1}=a_{2n}^2$ \n",
    "    * $a_{2n}=a_{2n-1}^4$.\n",
    "4. Usando 2 columnas.\n",
    "\n",
    "Tener en cuenta que, dado el grado de las restricciones, se requiere usar un factor de\n",
    "expansión (blowup) por lo menos tan grande como el grado de las restricciones."
   ]
  },
  {
   "cell_type": "code",
   "execution_count": 1,
   "id": "a46a58da",
   "metadata": {},
   "outputs": [],
   "source": [
    "import channel, field, list_utils, merkle, polynomial\n",
    "\n",
    "import time\n",
    "from field import FieldElement # Cuerpo Finito\n",
    "from polynomial import X # Polinomios\n",
    "from polynomial import interpolate_poly # Interpolacion de Lagrange\n",
    "from polynomial import prod # Producto de polinomios\n",
    "from merkle import MerkleTree # Merkle Tree\n",
    "from channel import Channel # Implements Fiat-Shamir Heuristic\n",
    "\n",
    "from CP import CP_eval, get_CP # Returns a list of images from the CP\n",
    "from FRI import FriCommit # Next domain for the FRI operator\n",
    "from decommitment import decommit_fri # proof algorithm"
   ]
  },
  {
   "cell_type": "markdown",
   "id": "67886cf9",
   "metadata": {},
   "source": [
    "Para todo el trabajo usaremos\n",
    "* El primo $p = 3 \\cdot 2^{30} + 1 = 3221225473$\n",
    "* Espacio Finitamente generado $F _{3 \\cdot 2^{30} + 1}= F_{3221225473}$"
   ]
  },
  {
   "cell_type": "markdown",
   "id": "e5a54e5d",
   "metadata": {},
   "source": [
    "# Afirmacion a probar\n",
    "\n",
    "Quiero probar que conozco el valor de $2^{8^{20}}$ módulo p\n",
    "\n",
    " * $a_0 = 2$ \n",
    " * $a_{n+1}=a_n^8$."
   ]
  },
  {
   "cell_type": "markdown",
   "id": "f6ba0734",
   "metadata": {},
   "source": [
    "# 1. Genero la traza de ejecucion\n",
    "\n",
    "Generamos unos cuantos valores de la tabla para tener una idea de como se ve\n",
    "\n",
    "| a_i         | Valor     | \n",
    "|--------------|-----------|\n",
    "| $a_0$ | 2      | 2        |\n",
    "| $a_1$ | $2^8$ |\n",
    "| $a_2$      | $2^{64}$ | \n",
    "| $a_3$      | $2^{512}$ |\n",
    "\n",
    "Observamos que $a_1 = 2^{8^1}$ , $a_2 = 2^{8^2}$, $a_3 = 2^{8^3}$ por ende reescribo la ecuacion como\n",
    "\n",
    "$$a_{n} = a_o^{8^n} = 2^{8^n}, n>0$$\n",
    "\n",
    "por ende la tabla se vera asi\n",
    "\n",
    "| $a_i$         | Valor     | \n",
    "|--------------|-----------|\n",
    "| $a_0$        | $2^{8^{0}}$         |\n",
    "| $a_1$        | $2^{8^{1}}$ | \n",
    "| $a_2$        | $2^{8^{2}}$ |\n",
    "| $a_3$        | $2^{8^{3}}$ |\n",
    "| $...$        | $...$ |\n",
    "|$a_{21}$      |  $2^{8^{20}}$  |\n",
    "\n",
    "Genero la tabla de ejecucion para los 21 elementos que necesito"
   ]
  },
  {
   "cell_type": "code",
   "execution_count": 2,
   "id": "01985117",
   "metadata": {},
   "outputs": [
    {
     "name": "stdout",
     "output_type": "stream",
     "text": [
      "Generating the trace\n"
     ]
    }
   ],
   "source": [
    "print(\"Generating the trace\")\n",
    "\n",
    "# Tabla de Ejecucion\n",
    "a = [FieldElement(2)]\n",
    "\n",
    "# a_{n} = 2^{8^n}\n",
    "while len(a) < 21:\n",
    "    a.append(a[0]**(8**(len(a))))"
   ]
  },
  {
   "cell_type": "markdown",
   "id": "f8daedc3",
   "metadata": {},
   "source": [
    "# 2. Busco un espacio finitamente generado   \n",
    "\n",
    "Busco elemento generador $g$ tal que el subgrupo sea de orden n y genere el subgrupo \n",
    "$G = {g,g^1, g^2, ... , g^n}$, $G[i] = g^i$\n",
    "\n",
    "Hint: When 𝑘 divides |𝔽×|, $𝑔^𝑘$ generates a group of size |𝔽×| / 𝑘, \n",
    "and the n-th power of some FieldElement 𝑥 can be computed by calling x ** n.\n",
    "\n",
    "---\n",
    "\n",
    "Queremos que el orden del subgrupo G sea de 32 porque es la potencia de 2 mas pequeña que excede a la traza.\n",
    "\n",
    "|𝔽×| / 𝑘 = 32\n",
    "\n",
    "Sabiendo que |𝔽×| = 3221225473\n",
    "\n",
    "Tomando $k = 100663296$\n",
    "\n",
    "\n",
    "Tal que \n",
    "\n",
    "|𝔽×| / 𝑘 $\\approx 32$."
   ]
  },
  {
   "cell_type": "code",
   "execution_count": 3,
   "id": "36c06043",
   "metadata": {},
   "outputs": [],
   "source": [
    "# Nuestro grupo es de orden 32\n",
    "\n",
    "# Siendo n el orden del subgrupo\n",
    "# n*k = |𝔽×| , busco k tal que |𝔽×| = 3221225473\n",
    "n = 32\n",
    "mod_F = FieldElement.k_modulus\n",
    "k = mod_F // n\n",
    "\n",
    "g = FieldElement.generator() ** (k)  # Busco g^k\n",
    "G = [g ** i for i in range(n)] # Genero el subgrupo de orden 32"
   ]
  },
  {
   "cell_type": "markdown",
   "id": "0f484a09",
   "metadata": {},
   "source": [
    "# 3. Busco un polinomio asociado a la traza y hago interpolacion extendiendo la traza\n",
    "\n",
    "Ahora con el polinomio asociado, cada elemento de la traza lo veo como una evaluacion hecha del polinomio $f$ sobre\n",
    "elementos $g$ (del espacio generador). Esto se llama Reed-Solomon error correction code.\n",
    "\n",
    "Ahora la traza se ve asi\n",
    "\n",
    "|$f(g^i)$| $a_i$         | Valor     | \n",
    "|----    |--------------|-----------|\n",
    "|$f(g^0)$ | $a_0$        | $2^{8^{0}}$         |\n",
    "|$f(g^1)$ | $a_1$        | $2^{8^{1}}$ | \n",
    "|$f(g^2)$ | $a_2$        | $2^{8^{2}}$ |\n",
    "|$f(g^3)$ | $a_3$        | $2^{8^{3}}$ |\n",
    "| $...$   | $...$        | $...$ |\n",
    "|$f(g^{21})$ |$a_{21}$      |  $2^{8^{20}}$  |"
   ]
  },
  {
   "cell_type": "markdown",
   "id": "27cd5aa8",
   "metadata": {},
   "source": [
    "Evaluamos en un dominio mucho mas grande que G. Tomamos un dominio H que es 8 veces mas grande\n",
    "\n",
    " n = 8*32\n",
    "\n",
    " |𝔽×| = 3221225473\n",
    " \n",
    " $k \\approx 12582912$"
   ]
  },
  {
   "cell_type": "code",
   "execution_count": 4,
   "id": "3b42d0b0",
   "metadata": {},
   "outputs": [
    {
     "name": "stdout",
     "output_type": "stream",
     "text": [
      "We blow up the trace (Extend the trace) 8 times bigger\n"
     ]
    }
   ],
   "source": [
    "print(\"We blow up the trace (Extend the trace) 8 times bigger\")\n",
    "\n",
    "n = 8*32\n",
    "mod_F = FieldElement.k_modulus\n",
    "k = mod_F // n\n",
    "\n",
    "w = FieldElement.generator()\n",
    "\n",
    "h = w ** (k)  # Este es mi generador g^k para el nuevo dominio\n",
    "H = [h ** i for i in range(n)] # Genero el subgrupo de orden 8*32\n",
    "\n",
    "eval_domain = [w * x for x in H]"
   ]
  },
  {
   "cell_type": "markdown",
   "id": "90fc75e4",
   "metadata": {},
   "source": [
    "# 4. Busco un polinomio asociado y hago interpolacion"
   ]
  },
  {
   "cell_type": "code",
   "execution_count": 5,
   "id": "51637edf",
   "metadata": {},
   "outputs": [
    {
     "name": "stderr",
     "output_type": "stream",
     "text": [
      "100%|████████████████████████████████████████████████████████████████████████████████████████████████████████████████████████████████████████████████████████████████████████████| 21/21 [00:00<00:00, 5938.54it/s]\n"
     ]
    }
   ],
   "source": [
    "f = interpolate_poly(G[:len(a)], a)  ## Este polinomio pasa por todos los puntos que nos interes\n",
    "f_eval = [f(d) for d in eval_domain] ## Busco la imagen en todos los elementos del dominio extendido"
   ]
  },
  {
   "cell_type": "markdown",
   "id": "0b5fe37e",
   "metadata": {},
   "source": [
    "# 5. Commitment \n",
    "\n",
    "Con la traza extendida, ahora creo las hojas del merkle tree a partir de estos "
   ]
  },
  {
   "cell_type": "code",
   "execution_count": 6,
   "id": "2fc79929",
   "metadata": {},
   "outputs": [],
   "source": [
    "f_merkle = MerkleTree(f_eval) "
   ]
  },
  {
   "cell_type": "markdown",
   "id": "5ec503cc",
   "metadata": {},
   "source": [
    "# 6. Channels\n",
    "\n",
    "Teoricamente el protocolo STARK requiere que dos personas (prover y verifier) interactuen entre si.\n",
    "\n",
    "En la practica convertimos este protocolo interactivo a uno no interactivo haciendo uso de la heuristica de Fiat-Shamir."
   ]
  },
  {
   "cell_type": "code",
   "execution_count": 7,
   "id": "efbc5cde",
   "metadata": {},
   "outputs": [],
   "source": [
    "channel = Channel()     # El channel nos dara datos que deberia darnos el verifier\n",
    "channel.send(f_merkle.root)"
   ]
  },
  {
   "cell_type": "markdown",
   "id": "78a201e0",
   "metadata": {},
   "source": [
    "El channel va a actuar como nuestro verificador de ahora en adelante. Nos va a proveer con cualquier dato requerido de parte del mismo."
   ]
  },
  {
   "cell_type": "markdown",
   "id": "91192f9b",
   "metadata": {},
   "source": [
    "# 7. Generamos CP y FRI layers\n",
    "\n",
    "Convierto todas las restricciones originales a rational functions.\n",
    "\n",
    "* $a_0 = 2$\n",
    "\n",
    "    1) $f(x) = 2$, para $x=g^0$\n",
    "    \n",
    "    2) $g^0$ es raiz de $f(x)-2$\n",
    "    \n",
    "    3) $$p_o(x) = \\frac{f(x) - 2}{x-g^0}$$"
   ]
  },
  {
   "cell_type": "code",
   "execution_count": 8,
   "id": "a744ded5",
   "metadata": {},
   "outputs": [],
   "source": [
    "## a0 = 2\n",
    "numer0 = f - 2\n",
    "denom0 = X - 1\n",
    "p0 = numer0 / denom0"
   ]
  },
  {
   "cell_type": "markdown",
   "id": "e2e4159f",
   "metadata": {},
   "source": [
    "* $a_{21} = 2^{8^{20}}$\n",
    " \n",
    "    1) $f(x) = 2^{8^{20}}$, para $x=g^{21}$\n",
    "    \n",
    "    2) $g^{21}$ es raiz de $f(x)-2^{8^{20}}$\n",
    "    \n",
    "    3) $$p_2(x) = \\frac{f(x) - 2^{8^{20}}}{x-g^{21}}$$"
   ]
  },
  {
   "cell_type": "code",
   "execution_count": 9,
   "id": "8a1f4a86",
   "metadata": {},
   "outputs": [],
   "source": [
    "# a[21] = (a)^{8^20} \n",
    "numer1 = f - FieldElement(2)**(8**20)\n",
    "denom1 = X - g**20\n",
    "p1 = numer1 / denom1"
   ]
  },
  {
   "cell_type": "markdown",
   "id": "65d97633",
   "metadata": {},
   "source": [
    "* $a_{n+1}=a_n^8$\n",
    "\n",
    "    1) $f(g\\cdot x) = f(x)^8$\n",
    "    \n",
    "    2) $\\{g^i \\, , 0 \\leq i \\leq 20 \\}$ es raiz de $f(g\\cdot x)- f(x)^8$\n",
    "    \n",
    "    3) $$p_1(x) = \\frac{f(g\\cdot x)-f(x)^8}{\\prod_{i=0}^{20}(x-g^i)}$$"
   ]
  },
  {
   "cell_type": "code",
   "execution_count": 10,
   "id": "26e0167e",
   "metadata": {},
   "outputs": [],
   "source": [
    "# a[n+1] = (an)^8 \n",
    "\n",
    "numer2 = f(g* X) - f(X)**8\n",
    " \n",
    "\n",
    "lst = [(X - g**i) for i in range(20)]\n",
    "denom2 = prod(lst)\n",
    "\n",
    "p2 = numer2 / denom2"
   ]
  },
  {
   "cell_type": "markdown",
   "id": "6f235322",
   "metadata": {},
   "source": [
    "Genero el Composition Polynomial como combinacion lineal de estos polinomios.\n",
    "\n",
    "Los coeficientes del mismo me los provee el channel ya que toma el roll de verificador"
   ]
  },
  {
   "cell_type": "code",
   "execution_count": 11,
   "id": "b21eba42",
   "metadata": {},
   "outputs": [],
   "source": [
    "cp = get_CP(channel,[p0,p1])\n",
    "cp_eval = CP_eval(cp,eval_domain)\n",
    "cp_merkle = MerkleTree(cp_eval)\n",
    "channel.send(cp_merkle.root)"
   ]
  },
  {
   "cell_type": "code",
   "execution_count": 12,
   "id": "5f23cd49",
   "metadata": {},
   "outputs": [
    {
     "data": {
      "text/latex": [
       "$ -177979865 + 1187029047x - 766253866x^{2} + 1220769009x^{3} - 1389978059x^{4} - 150566615x^{5} - 740142673x^{6} - 521548130x^{7} - 1133217099x^{8} + 414516506x^{9} - 594890030x^{10} - 1363447821x^{11} + 1044424693x^{12} + 1014425620x^{13} + 718649172x^{14} + 151382316x^{15} - 902258988x^{16} + 849043449x^{17} - 933663794x^{18} - 1528001251x^{19} $"
      ],
      "text/plain": [
       "<polynomial.Polynomial at 0x7fee14389e50>"
      ]
     },
     "execution_count": 12,
     "metadata": {},
     "output_type": "execute_result"
    }
   ],
   "source": [
    "cp"
   ]
  },
  {
   "cell_type": "markdown",
   "id": "4ca07a3a",
   "metadata": {},
   "source": [
    "FRI Folding Operator"
   ]
  },
  {
   "cell_type": "code",
   "execution_count": 13,
   "id": "f7a32c29",
   "metadata": {},
   "outputs": [],
   "source": [
    "fri_polys, fri_domains, fri_layers, fri_merkles = FriCommit(cp, eval_domain, cp_eval, cp_merkle, channel)"
   ]
  },
  {
   "cell_type": "markdown",
   "id": "e0de6f31",
   "metadata": {},
   "source": [
    "# 8. Genero queries y decommitments"
   ]
  },
  {
   "cell_type": "code",
   "execution_count": 14,
   "id": "42b8b176",
   "metadata": {},
   "outputs": [],
   "source": [
    "len_query = len(eval_domain) - 1\n",
    "decommit_fri(channel, fri_layers, fri_merkles, f_eval, f_merkle, len_query)"
   ]
  },
  {
   "cell_type": "markdown",
   "id": "f46db04a",
   "metadata": {},
   "source": [
    "# 9. Vemos la prueba"
   ]
  },
  {
   "cell_type": "code",
   "execution_count": 15,
   "id": "5ee59cda",
   "metadata": {},
   "outputs": [
    {
     "name": "stdout",
     "output_type": "stream",
     "text": [
      "['send:8bc5d357865faf1f6cc4f21dcfde6012074ada5b899b0e21893ab4bbbfa3e037', 'receive_random_field_element:2934728597', 'receive_random_field_element:1063968342', 'send:2cc554ed6360bd397754815c199367f538b54dae482c1037d63f355064002f4b', 'receive_random_field_element:939738386', 'send:6e96042c0dab68e08619227a338b3b0965541ac4c2dc9b9a41a29cdb477b215a', 'receive_random_field_element:2516983789', 'send:e47ff6a529fc94d30b16641b1cc54c686e7c4181721d7914cde0e8bc0d615578', 'receive_random_field_element:1591322635', 'send:8a38db01c0fdc00d2fd6c371cf15ac45f2d7484b291192810abed763ff661fa4', 'receive_random_field_element:221227579', 'send:83921e52712932d8a4afb31f5729bdbf2edd99496169008dbc07286b8981002f', 'receive_random_field_element:181381405', 'send:7f2938df004427eaf2307ac625c9886cec0d47276fec5dc1535746f5eec7cc92', 'send:-284756853', 'receive_random_int:130', 'send:-1355327771', \"send:['633662b2ff311702bb9263d76ed2373498c06d9b6c69abce3663b7eeba38a356', '41df99704195120edbb05baa1460664d8d7ad0c30fcdd7120da1fb59954797b2', '7bc9671968a209a6a57c9ba43095f613f1e2b03d12d6229f21ef71a4e6f7478d', 'c0ebcf03d0664fce759a8a28f121d09618b0e230fab8e20746696fe3db8f0dac', 'd35f5ebbe2033dcc67126b30c816054a0d7b827c94ae92d993a85276b8ce1ea1', '85f9ac23e4ffe61a4bc77aa7cea0fa1fd3cb52a95f12359bd66d865eca39c0f8', '018fe5573a95e306d314a6b877b77075f46b3544609a73b429350add997a1536', 'd1deb3d9697c2f7ef0c42f8faaa93c8b43f1880882461d8f79d5c4f4f3cd4a4f']\", 'send:390813716', \"send:['633662b2ff311702bb9263d76ed2373498c06d9b6c69abce3663b7eeba38a356', '41df99704195120edbb05baa1460664d8d7ad0c30fcdd7120da1fb59954797b2', '7bc9671968a209a6a57c9ba43095f613f1e2b03d12d6229f21ef71a4e6f7478d', 'c0ebcf03d0664fce759a8a28f121d09618b0e230fab8e20746696fe3db8f0dac', 'a5412de8b391868fd55f196f4078d88d3a6844806f25e2d1f024e16e9b66d4c7', '3ed2010165b3f183841327a4ec2cd882941a4006e9cee163222793e20058cd5a', '0ee58caac87dbe9f7e8444c131fcbbea44fb8cf285fb096547d21f20e4122103', 'ba8c64386483c622ed09d651b96d3769b856c2be847a9eea62b7ec18a5984037']\", 'send:-487739032', \"send:['633662b2ff311702bb9263d76ed2373498c06d9b6c69abce3663b7eeba38a356', '41df99704195120edbb05baa1460664d8d7ad0c30fcdd7120da1fb59954797b2', '7bc9671968a209a6a57c9ba43095f613f1e2b03d12d6229f21ef71a4e6f7478d', 'f9471e676850fd19a00977ab6791dcca4f15e21dfdd5ec90b2a3033ad9af12a7', 'e3db7af7bd11c3ac4380978f51b2e5777e88258bdcb2d1aecce6d9ba0e48f2a0', 'b5a2dc215912bd0643a3a6b53fbecb952f1346dbd0ef887af5a250bc0f938372', 'e663eafc361762b266e90e929e461240dcaa847a89e62f50dea5224384788cec', 'f74ded1dedccf723059ed1605615717702ca791c2ad5cdd0a5f0d13231e89a78']\", 'send:1053711515', \"send:['8b1e6390b06176a81ed33bb8776907abe632cad15ffb538a1571c0e20acbc9cf', '49fec92e21ac3a584d775e8f68d3edecc8847862c9056889047d974968d72942', '3a0c85cfd71828cd5e5980dcb0855d8b90dc05644eef464c78804402756ca2f5', 'ecf82436094bab35c9f51c62c7af6c6db811889584b3a54b2bc50fd9a0df4cdc', 'e18aec9dfb96e88ee70044e7aa3883844522fa51e5ad7646a616b2e164e46971', '94d6e2596f812147db264b796c515412005723735521c4aa61c1cd34c858de2e', '90ceed2d105d155c4e6fa46eaf70f5607c32dfd5eeccb7393d2d7bf42182c0f6', '79d9a81cb7367b900f8541295002bf80b44132e969f6254ed6c87b35871a63f7']\", 'send:-616318848', \"send:['211c1589576a0d8bf40e0937daa4ae67a13f5664a23254dbb7670675c8ef2ca4', '15001c0b5d5ab9e930005118a04a902b865d40ebd49af7c4dbc7bb5215e683ad', '267063f11055feaac8268b46f54349b1d8d1b828654dd1ebf2733ffc7ae0257b', '1e4db4e18d19421d405d5c9662beecb81467cf3779ecf93f3f1f04d0d8af3c2c', '293de38ad3b1ccd3e4895a9d889cf456e07e17557025e4005e9f4e4b785c0376', 'c99d054e3512d70c3799437f9642980e811e816813b76d2abb16c0f013e97195', '6217a3d553fb69354e11d967023ea1966fb7799b89da78927f5a0bd4f2f407ca', 'c53916820ff6fec4838d22cdb744074ab787cd39643582f42112311d2fb67beb']\", 'send:500397214', \"send:['14ffb421d0a8bc626b4fd4a88cf2effe0fc9528fb3630b28355af7668e8d887b', 'b7ccbb7dac7b639db4c9763dd9bcf8cacd108e606fa64a7d5a7d4e0448b070f8', 'a4d4171589a8ec9743feff39a43d1206209c6b39937e7c72a50630849b0f6dd8', '55551171cf4387b9e44aa63b576066635d0238b36b1039a7d3b67a10630c9839', 'ece42f6babbd2fe3e8f1579cb7dfe4f90ee19544bb13522e855148a1d106d3f5', '8fe157542082ed6da9a8d5433e93d31c4f4db2f7a782c8f9e92261ff3f2d218a', 'ae19625ca60f85ff709926d1cc43a8f48c8e86dd2388a3bad69fac008c026a7e']\", 'send:12541200', \"send:['c48e4b0afd6aa4b963366666ff484aa225ff1cde23468996e0ee3d0a7208a9df', 'dc9f8d8f829d45d8633e0aa04d4914e6404a7ebc499bce46b2ba8d4a2f6effd3', '2c920b4bbe2f7ad08fc2890c420989d9fb14a1db76dfc6c79b1053130dda1499', 'fea375bb2ccd0fff72802c2c2892846f949cf0248eb63f296fc470c6422fe1ca', '6582595c58b64126fa1c3a5ce8bc2de210896fe77a85f3acd9625d507b56a96c', '034067551cb332086fc36899b7be228bad315978612f6b50097cf05e2379e8b9', '81e183676784e879d08faa1c0bb2e5852adfc52b584170d622d4f8f303ae9038']\", 'send:1256401366', \"send:['6ab18b9fb7c28aef997ffa8bd2f3c605bacc5c5e0387c6b19236512276b4742f', '46062d6573f42b4cba9106d047b2d493c4882c39b0d91f62b4ca05a0e5e1c33a', '2599a68c34521ccc76887261dcd1cfba8132fd4665d6dcd3c75547d4d4ed0aa5', '20c7ae5301132790ddedaf4cd0c21d070022b8b39b3e419c8dafce40d80f2538', 'e2d485f642f3fb7be7e97e9fc6a05f5ed4c099ef99972231fc1dcff805206bd4', '708b54375698789b7e74e5e1020d2ec2e4d49aee6aae973b8dd9ec24cce0675b']\", 'send:280539976', \"send:['5014662591afbed724f8ec40bbeb886010184e44ee7dc2033ba428c67f91a357', '3c4ff6d28ca2eae9bb524a7c828c6cd9cef0c550a32349f89ed5a2cf5ffa4b3e', '24d1ba31b3461e734c106dc73608548d45bb218271a1932688c42a70b5b47319', '8269c9ac67e3ab5ea96e31a26d48300c1fbbb2f1042d141e04336f354d39407b', '239c60541794204d5c043eb76014f1ff2f6a8f109242f448606a6b997a410507', 'f0e9535406625617ead5f8f5ff88110406886cd64a621c1a6486bafedc117ea8']\", 'send:-1054300625', \"send:['8188cf0d042d06a4cea6ed1a50a075104a264d340c7122e64c4352ec22419290', '7f3387486aee9ff6169dbe42962f9e052de55113c1e56e0da0a50d6769627f9c', '88b54c27b1c20a028c9c66ab0d0f1ea3506f53c3f80cf44b440da3d58e33fc81', '97027b41dccc6769f0c72c308c72ac266d5cb8f678ea54cf5e56c079a8d4fd01', 'bea5a922adec08ca35a7c0027023a3a59fe6eda4cb6a199735d320023416ba34']\", 'send:114642446', \"send:['307cb19012cbb8de162f40b87052fc14bf968e25e3ae5753edf00c07be33702a', 'ee1442c13894ebb6639e8ac3b7f2298cc434b54302d8850f785aeb2af0463f26', '9f2d371c72e17ff6c4c1165f930916b31c9adc421ab6f126f03803f919ab1363', 'a2873794d075499ae17d33827f1026dd237dc75eb3eef1db86d46888f67b6b8c', 'dfa488bab8c087b53bd43442a65940ec0b0faa252be835270df0c0803c599008']\", 'send:1365550699', \"send:['c8814645fe349f9450126f57a2ba27ff5109ba058759d8f38823e0165e48d18c', 'de057a655aea1b81ad26e2f82fee5a4fba48e9bced16071784419cad47138549', '3fdebedffb3150246155c171316749a8376a1831617c79684d58c5b1dea14754', 'c71e21e80d3f8191c99477db2ef4f1485450523fda79f445ccab85f412ba952d']\", 'send:1538575487', \"send:['3e078c000166b81c75e3abdbbb6c322bfef33a75a0cc5366adfed30e75854e28', '616f716af828ce37124c566cce24db9fa485b07cb3afd01123185ee33393907c', '92cd08a7d62ca5c789cbee5eb030fbc590746eac948ceffe81406cb20bfb5dad', 'fbdec9436ca21ee0c156c9db87225e24676fdf341458cbb5242468fd50353f53']\", 'send:-284756853', 'receive_random_int:44', 'send:1435739072', \"send:['5467b28df1bf4b89d3de2007aafc9e5766b4fbc88e4add82a7abbf109cce1682', '0d6ac8742bdca7a8c54c8b67e8656187e171fc1893bfe74569035f5e35a27c76', 'e55ea99fac2ab8a8b3468e378c160709da9ca772b7f4e8706e8e66720aaa7e25', '727a9d1c72c062e0238593794c462c27f4dc0cc6bcb6d301ec6f690f486414bf', 'b9ad6349239b01f042f3671f0ecd6de7102d63d963e4d56b8d0387d6ef442d91', 'c1f6a8b0f1ce62f267d813a811991b6b0dc6d695d1d2d4b6171d7e94278994be', '22e6b26e4fd3793f53ed1254770e4bf6a119b2a97d9860d7b39ceed380d60345', 'd053e3e7a1f0d5d4ae452c21e5c05b6d6cfe1851ef62a6d80939584de72a3f40']\", 'send:-1219783193', \"send:['5467b28df1bf4b89d3de2007aafc9e5766b4fbc88e4add82a7abbf109cce1682', '0d6ac8742bdca7a8c54c8b67e8656187e171fc1893bfe74569035f5e35a27c76', 'e55ea99fac2ab8a8b3468e378c160709da9ca772b7f4e8706e8e66720aaa7e25', '10b3a18874629d905b51704e2bc0cc14f96f4223b42df078c1037f9cc030f561', '5b5764848abb8871a11f5f0396845b75fc5e4c85bfe8c60a7db87e44cd178678', 'd787e2940a01b10993ca75a1c38897c11abdb128b481280e87a27b494ac6961b', 'be826afade4d6d2fe28e9a9da0c07cc46827bb2c7b316c6b4a4e1f33c46975d0', 'c2c7467409e071bb5911d8caf53d60dc738ede4bd94864fa1cbd2768d50ffa80']\", 'send:-617287569', \"send:['5467b28df1bf4b89d3de2007aafc9e5766b4fbc88e4add82a7abbf109cce1682', '0d6ac8742bdca7a8c54c8b67e8656187e171fc1893bfe74569035f5e35a27c76', 'e55ea99fac2ab8a8b3468e378c160709da9ca772b7f4e8706e8e66720aaa7e25', '10b3a18874629d905b51704e2bc0cc14f96f4223b42df078c1037f9cc030f561', 'd758094562bbc6e99c15939ffe5a5f171d9e7515b63c43fa25ec5a452c4e1db8', '8e767efa541cc5e35a60179d4d41f9b9d0cb0d1e264dd737a6a037c2c440df6a', '1e08b07c0d90c5969a91cd89d189d4efb0a1f41c1315349dbdc1e3bf5a5e85f8', '03c45a240fcc582fc5cd00994257226ce20933b53864d992dc2204f8c3df12f8']\", 'send:-670426646', \"send:['211c1589576a0d8bf40e0937daa4ae67a13f5664a23254dbb7670675c8ef2ca4', '15001c0b5d5ab9e930005118a04a902b865d40ebd49af7c4dbc7bb5215e683ad', 'db762e8a59a10ab48efd7e759a59ef27274a52c0aef38f10cb72c29295a82ea4', '482afd78f3b3eb5e46fddb975e6d5e75495d5116c85e7819c6716ff707378cee', 'f2bf574e7ac399ce0f42fe956ab0449736be2598fa84b3f605ba54a6f4da9e6e', 'b1cbd24d40f5a9935722ae943d737d4b62026cb4e0b5c51038322c2b814df0c6', 'f1466ca53b63ed3b8292cf069e3cd733457f731c72cdda2218dcae58fdd823db', 'cb525d0a3b83d1799ee657af0a1a3826bf023801d130650e9f245dceb50e66e0']\", 'send:818168546', \"send:['8b1e6390b06176a81ed33bb8776907abe632cad15ffb538a1571c0e20acbc9cf', '49fec92e21ac3a584d775e8f68d3edecc8847862c9056889047d974968d72942', 'a1225bc079af8ef5849168be4055424bdc999328cf1343770582d5a7abc95aa4', '04f757ba3c265892879d6c77909314167e804b033baa40b58a31fe8b3bbb0a20', 'e12b22a2b0afc427e4c83dfaf6e1c23f11003dc0f9a0573924c51fd6c461a05b', 'c7c25646ef89c853987648827c749464b0938474eccea859560c32f5da9b6953', '26c9b7817dada0c8f690aa7890eb028f5da2ffb60a7b4b8203659b71f3d6e927', '59e55ae035bd25ab1fd1987769504d5bf4fc3951a68445d3be27263ae1aaf1d2']\", 'send:358242696', \"send:['14ffb421d0a8bc626b4fd4a88cf2effe0fc9528fb3630b28355af7668e8d887b', 'e302115030eb642166baa7160e1dd00f51dcc0fb73457f4b459542f1d454828e', '3db4dba6974226adf3f59ebc0b1f2f418a7706583d26fc9d82dd007ab0ffb36f', '33a1fda66b616fa36307337a40614d433a64065861dafc99d507f9988f860b52', '36d058acbc539afc3723cbf26d1fc9a85b3f92b3d78d57b1be0daf0a2670e04c', '288057ef19a9cc21bc64d88e50e60a47b1d3989ff26ffb6b818cccc7216eafd8', '63a4ef4b90259d23e408488b55a107e3011cf6d948c3f5ff84222a22b464f30f']\", 'send:-1034258506', \"send:['c48e4b0afd6aa4b963366666ff484aa225ff1cde23468996e0ee3d0a7208a9df', 'ecff7a9c24566f627fe015d70b0501faa58722dcea040f1f39d1ba6ef4a89aa9', '4851095bdef7b469a64f53e4cfc0f8ef83f5fb15021428cf0f30975e17aaebfa', '567625c5e5d53107fbffb7410ff4fede3ba5b9a96adf42238053f904cb207cdc', '073b5f462bad4001cf7868934e9b39132ad525322a8ddf94cf976d0cf63101c4', '63d047451e8d423af1e394a1fd86036ed9dfcbdae0153345d81f52de32aefe3d', '09b00791c9c4fb79f587033fd8819e72911738b6748d2a10369368dae53995a9']\", 'send:-854621834', \"send:['5014662591afbed724f8ec40bbeb886010184e44ee7dc2033ba428c67f91a357', '3c4ff6d28ca2eae9bb524a7c828c6cd9cef0c550a32349f89ed5a2cf5ffa4b3e', 'aea77ce3123cdee2436fa008d6c772c1df9d0951d6af5f1eb4b454467a6b34dd', 'b7f61e4feffeb595b84f8ed1141a41ff44d91b62e50015da982b6ac686f096e6', '41d3cef3120a29ce80888d6e1ad12591cf182bbfb573ac596010cdba15a4aa99', '1b86cab8f1631cc2fa01ac25b02ebfd887359f5a9df58275746dbcf0c779f68a']\", 'send:507841500', \"send:['6ab18b9fb7c28aef997ffa8bd2f3c605bacc5c5e0387c6b19236512276b4742f', '46062d6573f42b4cba9106d047b2d493c4882c39b0d91f62b4ca05a0e5e1c33a', '059b759920cb2a2215f005b538d02edc5be0c830362752ea9ae8349411024ecf', '80f7cff4aa9b94b2148e86fc4700745ae8ff7a64c571b93d672090726b55d995', 'b306ff6f9b6eba915bf7917c1f9c9496046f69b1720f83c0d8a65ad60ec73161', '9a8c58a53c92f5f2e8b969296f744dedc210df6a5b8fe5633e854e20c4626d13']\", 'send:961072606', \"send:['8188cf0d042d06a4cea6ed1a50a075104a264d340c7122e64c4352ec22419290', 'cf2558777cd7e18758f6575e20e724fff00f0e7f2283f13c641fd6ec9dfef793', 'df4a3e0216f612b20d999afbb88860a3a73930c6b0e9b51ad702b310f1e85fbb', '7666eefcb71a88c6d9ded6b3186d80cf5a53b1b61e48e664b764e94d7cb185fa', '451f88c9d646135ea1959b50754d732dcaae26537fc21ef54a66ad878dc28fd0']\", 'send:-887535037', \"send:['307cb19012cbb8de162f40b87052fc14bf968e25e3ae5753edf00c07be33702a', '244b5d5d6b86510dc55e55da16f2acb87fc89d6ebec22f95c60360070bd8abe7', 'c34369a39665d8fbd624ff7c351b3fc92054d3431128b75cad559779843aba03', '3363393fd5b69060ed5b4c482f3ca2f3c7f37f0269591d5b7ea0a9ad26d34df3', '9fd8ad056cf45452c5998e940df33a7a586a0f15842afc187a2d20d09dd16719']\", 'send:-1349076900', \"send:['3e078c000166b81c75e3abdbbb6c322bfef33a75a0cc5366adfed30e75854e28', 'bc4b3ba51c28f8e1f8157e49c5bb0946c4f0cb49dab39c455e02981a91082df8', '15d3f618a0b674c65072f79911fbb0f743bf7787531e7720cf06ccb2ae14600f', '3219ac3e5b90f5e2dfc769c1da1558c7dc7e04009c9dd077eb06e6b87f16483d']\", 'send:1031977613', \"send:['c8814645fe349f9450126f57a2ba27ff5109ba058759d8f38823e0165e48d18c', 'ca84cb41cbbb2e9a60e799ddb45e390d33fdb69206c3f9c394cda5ca3967649e', 'd896852107de5fe58c4f35ac4d0f1fee3471056d632b3b8fc12b1c2f5d235785', '2f5ab3f9812c616a0e142a060421c979ee804cfc7818f76a616914a147f8b320']\", 'send:-284756853', 'receive_random_int:126', 'send:130654279', \"send:['5467b28df1bf4b89d3de2007aafc9e5766b4fbc88e4add82a7abbf109cce1682', 'a72ad2625509b48731e3a7521e1be0b15bb7f515ce1b2d2f1415c942478b564a', 'b68d08d8082964472e2d82aa20070d64c71077c804738f5364e497b9ada406b0', 'f0c0f02d1e1b6e060bb17deab45ba9f50c0ef98df9d5732758cbeae98bf8997a', 'd9e7d5e5d849bb2a36bc5125e020cac30914c6a7c40737665042a728daac519d', '25df6f4e116be004d3361b9cbada1d3ca7a48fa673bbd217723964adf15856a5', 'ae7e2ea00e27a38bb1b9d61be8a41524836bdbdd8397e8cf9dd8f2f0f3fcad7a', '3af38bf1ec0429aa5662d44b9619a80cefba39b8c2d6aabf458983a31772d371']\", 'send:-95260181', \"send:['633662b2ff311702bb9263d76ed2373498c06d9b6c69abce3663b7eeba38a356', '41df99704195120edbb05baa1460664d8d7ad0c30fcdd7120da1fb59954797b2', '7bc9671968a209a6a57c9ba43095f613f1e2b03d12d6229f21ef71a4e6f7478d', 'c0ebcf03d0664fce759a8a28f121d09618b0e230fab8e20746696fe3db8f0dac', 'd35f5ebbe2033dcc67126b30c816054a0d7b827c94ae92d993a85276b8ce1ea1', '0a635e90e92cbda6b3f38a4d23e6ad7d30aba0c0ca5eb0f248a7f871454ae17e', '02ef69a0f77cb25d1da076d0d23cc2f9a3b2c2632a8be0cac10d17cc67884478', 'dc00050c56ddc6444d5d589e4ef30277542286643107f07c93b64d9b30ae8008']\", 'send:1080687650', \"send:['633662b2ff311702bb9263d76ed2373498c06d9b6c69abce3663b7eeba38a356', '41df99704195120edbb05baa1460664d8d7ad0c30fcdd7120da1fb59954797b2', '7bc9671968a209a6a57c9ba43095f613f1e2b03d12d6229f21ef71a4e6f7478d', 'c0ebcf03d0664fce759a8a28f121d09618b0e230fab8e20746696fe3db8f0dac', 'a5412de8b391868fd55f196f4078d88d3a6844806f25e2d1f024e16e9b66d4c7', '14a054380b3b3f73f29f9dd81362b73581fd70fd60d0f0054736dabb1c4e1398', 'b705da7d9718ae6e73b397df730b7aead53fd98c731175c917b223c8bb141f38', 'e7dff21b322e129732a40bc486a690312555a2746a7db201c5ee3b6203486a0a']\", 'send:-1260903008', \"send:['211c1589576a0d8bf40e0937daa4ae67a13f5664a23254dbb7670675c8ef2ca4', 'd731f9e764f212df4c6a7f314aac9560d26eb74752c16b2b1be7e1ce06946fa6', '3b6411c03f6c5788565e7b51f0297bc15bedf2e46e4f7da8c46002beffd5e313', '7df2f12136e61500baf2fd7e3ec7a2b52883b6c2f2db4269ea22a4ee8f274dc9', '3ede81a94ee9a708672989547f8343b2dd09b41a8e9801a0f78ed9034041cf89', 'f551c6c0a669c59c1616fb31e5d4d14f7d8cc275daf3d7b6ff0aa78abcc7cf84', '1619e000f8f0ba2707c77cda54ec8397ecc7a2c9863fb8a12d0ab15d486d8a27', 'b840cf15ffc8457b43688b7838a2753ffdae416e5b55fe1bc2a9edbafc62f75a']\", 'send:319178040', \"send:['8b1e6390b06176a81ed33bb8776907abe632cad15ffb538a1571c0e20acbc9cf', 'cf1c41e16e06de2e8fe4d4168838880a710fdcd80ec4f13b1fe2392d2ebe49eb', '0195cd521e3e91b24c61ec8edb00044e5d53920bbab38b2f222af9d19651f634', 'cba7ed5681ed036784f48299db038eea0d988eba1e10c4a07035e279c947b17b', '0d2697306f2c7a21aca67b65ae011e19088b71542c2a50c000099e2877e2478e', '93fa51a2b7827446ecda2275807a6bd8abc7f1d6b03bdba0189dfbaaa5e6ebe7', '8445cdc926e15b128641f938cb90907a24c696d277e5e9cbc9d50b4cf459f92b', 'aa82259507f15ad6fd740ace60f12b77fa041c9f16bdcde19f76b0d8479d8b10']\", 'send:-718934856', \"send:['c48e4b0afd6aa4b963366666ff484aa225ff1cde23468996e0ee3d0a7208a9df', 'ecff7a9c24566f627fe015d70b0501faa58722dcea040f1f39d1ba6ef4a89aa9', '8e194411a09fa705ec4c3d4b193a178f051514a3f7886e61eb3976caf9667aeb', '1d480b2cb2a6e99cae10db6650722a9a651474c45e8a003ffe431b36ae3c89a3', '75af1a9178be5703cf61272fe37a212aa920b390d69cd27e6802739009963a58', '283544e2d5afad8c892cf6ece0074fc077846a2ebf9d3a4791aa32f49e6ed36f', '0b306915418e72168d35f8cf02b1876e2bcf8d1c044ba20f4acd6de60c585958']\", 'send:771345909', \"send:['14ffb421d0a8bc626b4fd4a88cf2effe0fc9528fb3630b28355af7668e8d887b', 'e302115030eb642166baa7160e1dd00f51dcc0fb73457f4b459542f1d454828e', 'da91399c5431832a5426a6d2e62916666e0512452a4d8a6b971bb1f59f6ac832', '032a112d78564b7bd547075df04108ea983003d6afd9fe5ff585cf956149cf5a', '6f0efd2c1a69a7dee97f408509d3abddc5ea0936ac59ef47deb88f8eff6245db', '70f2e8a5027b7b6345a2e0995e636e765feba6f6568759a7de89635f33b5b40d', '4d436d42ade1e908cc2cdbb9f8908eab0f719ea11bce0da43d35d1b39fc166c5']\", 'send:-804505643', \"send:['5014662591afbed724f8ec40bbeb886010184e44ee7dc2033ba428c67f91a357', '95188e2966504c2d5a38aeb86446d0ff29303fda820d1c94ced0185446e245bc', '53b2dcdb56d220ce922c4e707fecab5be629b01b8e7d4cef336bb01dab35fe08', '93c7cf639ab8ced05d2bb063c9270df925c0f8e782dcb95e8034776aac26b0fe', 'ac2beb198035e8d77bafbfc507f5ec83a34cdfaeef271f7d180226ee629266ce', 'e78bb2411d15071044d08703c84b9b4f10e73485804a98da516d24b12ab08215']\", 'send:167769834', \"send:['6ab18b9fb7c28aef997ffa8bd2f3c605bacc5c5e0387c6b19236512276b4742f', '78d2113c89c72bd61f1e77675168e12a9d70c931a5a5d96b2c82629a5c76d891', '99244931b0bf91ed5bcc0ec14e65efdc2f493fa5baaea2c0ff1e61a71b10a56e', 'd78d5fcadf9d8c4217011d7163cf6b20a823d2ecc92e041af1c4fc1503d0e475', '9743029959f687de60eaf0007165f83e49aa4a8730ef202f09902c5db5df270a', '14cb9e7f58970d5285567838408dd8a42f5d96071dc0c658344e699efd874736']\", 'send:1125965802', \"send:['307cb19012cbb8de162f40b87052fc14bf968e25e3ae5753edf00c07be33702a', '244b5d5d6b86510dc55e55da16f2acb87fc89d6ebec22f95c60360070bd8abe7', 'c34369a39665d8fbd624ff7c351b3fc92054d3431128b75cad559779843aba03', '34e5b3106df1e80d1c5b213ba60728449f6226f59336d51317ef5e674f18073b', '0fd86ed5ccc5eb9faf4dfcde36b12636be16545cdb58728b03ae62a3db1c8ee9']\", 'send:-839216473', \"send:['8188cf0d042d06a4cea6ed1a50a075104a264d340c7122e64c4352ec22419290', 'cf2558777cd7e18758f6575e20e724fff00f0e7f2283f13c641fd6ec9dfef793', 'df4a3e0216f612b20d999afbb88860a3a73930c6b0e9b51ad702b310f1e85fbb', 'c48687dc16e7a7adb012b49862c9a571ee52ac740d973a043dd5291ae27b2ee8', '4b4e31969d87657e1b5ce3f413e824dec661e90c63737cbe3e7f275f4c06483d']\", 'send:-1242471020', \"send:['3e078c000166b81c75e3abdbbb6c322bfef33a75a0cc5366adfed30e75854e28', 'bc4b3ba51c28f8e1f8157e49c5bb0946c4f0cb49dab39c455e02981a91082df8', 'acd22eeeb5499167051e1f715ed2b8e3672845e429042b078cc023297e5b9997', 'd5d19ccf7259c8deb0670126eb119eabd7a64efbae9fe445fc150e4e0a8d44b4']\", 'send:925371733', \"send:['c8814645fe349f9450126f57a2ba27ff5109ba058759d8f38823e0165e48d18c', 'ca84cb41cbbb2e9a60e799ddb45e390d33fdb69206c3f9c394cda5ca3967649e', 'cba732988815b86f81a3e27dd49621cec2ae414e4c19015c3f503fc7c2fa7916', 'b57855e607a184be24e0c03dcc11eaf468cf3eb2a87ff8b32bf84068a27b23f7']\", 'send:-284756853']\n",
      "Uncompressed proof length in characters: 19181\n"
     ]
    }
   ],
   "source": [
    "print(channel.proof)\n",
    "print(f'Uncompressed proof length in characters: {len(str(channel.proof))}')"
   ]
  },
  {
   "cell_type": "markdown",
   "id": "fd0a7856",
   "metadata": {},
   "source": [
    "Uncompressed proof length in characters: 19181"
   ]
  },
  {
   "cell_type": "markdown",
   "id": "d319e02d",
   "metadata": {},
   "source": [
    "# Tiempos\n",
    "\n",
    "Vuelvo a correr toda la prueba e imprimo en pantalla el tiempo que toma correr cada parte"
   ]
  },
  {
   "cell_type": "code",
   "execution_count": 16,
   "id": "94733fe8",
   "metadata": {},
   "outputs": [
    {
     "name": "stdout",
     "output_type": "stream",
     "text": [
      "Generating the trace\n",
      "We blow up the trace (Extend the trace) 8 times bigger\n"
     ]
    },
    {
     "name": "stderr",
     "output_type": "stream",
     "text": [
      "100%|████████████████████████████████████████████████████████████████████████████████████████████████████████████████████████████████████████████████████████████████████████████| 21/21 [00:00<00:00, 6278.00it/s]"
     ]
    },
    {
     "name": "stdout",
     "output_type": "stream",
     "text": [
      "0.015474557876586914s\n",
      "Generating the composition polynomial and the FRI layers...\n",
      "0.0628349781036377s\n",
      "Generating queries and decommitments...\n"
     ]
    },
    {
     "name": "stderr",
     "output_type": "stream",
     "text": [
      "\n"
     ]
    },
    {
     "name": "stdout",
     "output_type": "stream",
     "text": [
      "['send:8bc5d357865faf1f6cc4f21dcfde6012074ada5b899b0e21893ab4bbbfa3e037', 'receive_random_field_element:2934728597', 'receive_random_field_element:1063968342', 'receive_random_field_element:895926255', 'send:2cc554ed6360bd397754815c199367f538b54dae482c1037d63f355064002f4b', 'receive_random_field_element:1769999173', 'send:4175db994ee38887132240c64ce7665ddef4f7ffc7b097817647fd83eb75b34a', 'receive_random_field_element:1887388507', 'send:9614b3e2b02efaf580287c6f9ab55161f00d041074af3980c6df59c324e8b02a', 'receive_random_field_element:2582971423', 'send:d87d099a70f2fb90cee96c606bc888e410a034647076cf1eb45b912274f7818e', 'receive_random_field_element:2699377672', 'send:36b27317c3d82f9e981578d9253ed0f5eec10cbd8ae6672cdd137ae28cec6531', 'receive_random_field_element:734224929', 'send:29d83976e815ab0ac817b343ff0a655bef029f80eed5299759dfe5dc14cac2d1', 'send:1555725063', 'receive_random_int:227', 'send:-822189231', \"send:['633662b2ff311702bb9263d76ed2373498c06d9b6c69abce3663b7eeba38a356', '2e98ef0ce0a5c7301a58f22bfb6ec8b9e50c2b31221e348fb2ff39cf9cf31c8f', '90918be5d8338a85d7dba06bb02c5f7e02618140ada25a046dd4aef9a9213f18', '11e25b56a1fad1171010996081b4add1e2561c19f0e84a3feaec9e57bb28bb61', 'c915dd8bb26aa0eb6607e35a859ae7839dcd054e63e9bc8baafa8ad893af57e8', '257e4d6ed101320704f1f0c37e44ec000b752ca6d20da1c3fb2d46a1548346b5', '4530d17803ce76a23ea6e2f4e404eca7a916e155b7e71a364cc0c0cb4a86411e', '74d0c090abaf6c9804c227d545047ec0fc6600282dd27314563c3ea29a71ba4c']\", 'send:-1507209236', \"send:['633662b2ff311702bb9263d76ed2373498c06d9b6c69abce3663b7eeba38a356', '2e98ef0ce0a5c7301a58f22bfb6ec8b9e50c2b31221e348fb2ff39cf9cf31c8f', '90918be5d8338a85d7dba06bb02c5f7e02618140ada25a046dd4aef9a9213f18', '11e25b56a1fad1171010996081b4add1e2561c19f0e84a3feaec9e57bb28bb61', '0b92860c703dde71b4c2b00b2effb2be59a9ab3ae07a2e4c5a50d793f1a3ecec', 'eda3748ff548f2e4e3445df1cd1faf64ba8447d96f0005b60ba87ed1660d5b45', '579cf22b4caaa70e3988e2fb2c69d1162a953ef13c051467c7fa97c4b1535a21', '2969682300afd9faff76fcbf83baf5ac95128858ba9f31e86fbb45aedaaef782']\", 'send:-1286900688', \"send:['633662b2ff311702bb9263d76ed2373498c06d9b6c69abce3663b7eeba38a356', '2e98ef0ce0a5c7301a58f22bfb6ec8b9e50c2b31221e348fb2ff39cf9cf31c8f', '90918be5d8338a85d7dba06bb02c5f7e02618140ada25a046dd4aef9a9213f18', 'e7e35d540e116e59fedc91a2f6e4b0403411b1765e47dd2920b497ebdf64d53d', '1e693e9e988cf08a227c188850c6240bedde5e5aef293554b186b732c3a9432f', '14a58e466be67eea719ce99a156a8300bb6d021156768823141b1a505cd2c462', 'cdd6f4ef9dd56582b6ad5fe50d766e3ae87a28ab58659547d68c95d4a21a0a74', 'b40b393b1b4f1794ef467e75d29c4b12eaab5b345e097b56afdbef8e9cb24368']\", 'send:782936524', \"send:['8b1e6390b06176a81ed33bb8776907abe632cad15ffb538a1571c0e20acbc9cf', 'cf1c41e16e06de2e8fe4d4168838880a710fdcd80ec4f13b1fe2392d2ebe49eb', '0195cd521e3e91b24c61ec8edb00044e5d53920bbab38b2f222af9d19651f634', 'e1fb72b00aceb8ae92463b2312d7208f2d1a0d01c1bd04af04438f888bb170d4', '047be38e864ef49d35bbec730da127ca3a9abbbf6fef40a0c8d221cf548aa258', '4baa480c11a5ffdbcafbeaf275503611c2101bdbf8f01926e27c48c470c0e040', 'db0af5db48d6306f692b39f6e4f0b27b2968a44bf7333d51c0c52d131e22920c', '6e0c6ae7b54b9b4e91fa773bd70986f2feff78856a5d55338bc9b0cb4d462fb4']\", 'send:-1434827845', \"send:['211c1589576a0d8bf40e0937daa4ae67a13f5664a23254dbb7670675c8ef2ca4', 'd731f9e764f212df4c6a7f314aac9560d26eb74752c16b2b1be7e1ce06946fa6', '3b6411c03f6c5788565e7b51f0297bc15bedf2e46e4f7da8c46002beffd5e313', 'b132eeb7d6dd12c63b9485f93ff5e455690ce1bca0df2f1cf7d60de118d7aad5', 'e9269b6b81b2671cc3e6d0b4c794d14a039917285353a0fb64968e01fe16dd44', '5e9ec067a9b6a78b9f591d35a3e10e3aea16575ba1dc723be334831d3466d596', '6dd4e08db82448fca8edb3fa3bea788209e4b090494bf37e1bedec9cdcd3257a', '77d19b3a6f3ea138fb9aa6834e351b6e454d92154c22d29b1bc5be2195e96380']\", 'send:-990520335', \"send:['bffeaf628d207ccdaaa15fb4f88b35c961c6e68ff651cea581e35bf6fba4d419', 'b6f0826fafdf324d58ce53f0bb2d730a3e3ec378ba2aef7c01a205a5baf197be', 'e7de1e389961d9716e680e27b8770d092b16df31d9de9b7f262f31eecd516b47', '03352a2d7747f56c88e2b2e6cd51ca171aead87dcd845676be36cd2ec97c599a', '265e4a7fa45386c6c92a6b35902a830e07067ba8ac17b5df3987fce544bcb111', 'fed37a22f0b13f69982ef1984758a5da1da796403d3da3a5d4d0594b33c363e6', 'b25cae854f93b5a11860218a5f351b6cc25e905a907adcc4969d69794e274a7b']\", 'send:384664911', \"send:['e8cd04f68a275d93ce255f797fa8654427426c5573664accf22933ecce975c28', '71e3b25ec03d5e36f1abd1250d037179824f989c9be2624681cfd54184784874', 'af4c7013b7c9f891c05aac631ad0c79ea8cab703582942b3e336e9df76640671', '0876a61eddb517a29ab6b9dda39b20904d4a98c07d892e8f0bb7a95b137bda99', 'ccd2e8cdd60830bf69985f3980e5b88da7632b4355ac0dbf67dbaadf0c321d07', '660eec2ba557ce8954c7589f14a6812f1870008f0e22b69b45835721a795897f', '504bdc986c5c6dc34148cf8bc8a888abfbf158e4d4e7010e8cc93e2aea691f02']\", 'send:632342328', \"send:['1b8fdb05cacafb6010df54a9c0205c63c302cc8d52179854b5754b9c0dbd50bf', '6f1ecd8eb11c8129261180f8c0577a02fd0dd0721ee541adc9bbc72836e171ed', '5c12f2e5816b813144da9039798c12a4e47bf1da28a6f5663f3a057aaa9d685d', '2087dc37526c84ea770af4dad919c64db83ccf0f2e8b6626fed5f5831c7e5e4c', 'bc488ee556a3f4cb935ece238f999af2aa3318335380afb47a6afe98cbd53a6e', '7682b9fd4a1eb14eb28745582f8a3ef584c91ef20a4c10309e5dd8ea86a83304']\", 'send:-301797211', \"send:['c035a917b88a28aa48dfe50f05c72e0e6a4b544b93976f555226c721662b331a', '0e2a97e6c191661c7d8f015ab95f6324df8007a72e25da78f0861a97105badf9', 'f0ec14f94650a2089a5f49ea455b6ae7a2c09dc4a3c7e61e03100ef1d3f2c384', 'c93a8e2a923a0684651633386b8b6d5febab7b98fc88c115d975dae456959ad5', 'eb76f8f1ae211555c60a35f4798966263204ac12830e97fff9a15b31ca4237d7', 'dad35f3825b26ab7cd7a7f85e74685f5cd92834c43ca982f28bfae8d008d39a0']\", 'send:-407321957', \"send:['06acda8b67fc570b77897f52d8cd7bf9fe3da93d54cde66cb088c852581b8313', '0f5fd9ecd856fcfe9e7273e66f62be0bf102443ad143fe667b6ee7abc8e859cc', '766bd6010ef70539b856b61ce1d73db3640f66277c1750373ee97e7c1a0e240d', '647eedda64f67598b83f6ed0b87f20a243b1a33cb2d39c5d1157b19bd93f691a', 'e9226eb8b46a51cc07c3bb860839c00c56d4aa7a684bc2bf81cc85160b1a85ce']\", 'send:1317928901', \"send:['97b41adb62fcea414f36d7310fadf6ebdebaab86fffaa51d71933d56e8ca98fa', '7dabe2850cdfbdc0c3345a85ba9570673bdf29b82dc7500a90547fb1e7f03bec', '2502a19b6326a1a62fc7a7ae74a0b7128529053c80357be769d1aa18bcfd2087', '4bd164561826686f0777a9cbf450aa3b975d10acf5ea1dfc735234f3662af568', 'e391df4c9f290a02c714e2ca56837145a8f940047dac9e8a8402de6cc1a59c06']\", 'send:834072168', \"send:['11a4ae310f880df356bc97fc90f5fbea4ec19411eb8449c6b2b357773d4f2448', '28decbd703d29525e45ab88dbf32b4ffc2bd04ae87b4caffabf685e7d9851f82', '0a0dad487965ecab6965762d568fe32185d3e1e1227d4511fc0bf3616c9959fb', 'e5803a4a549df5762d9c9a7807169f8695be85a222231837ea7671ad09f89143']\", 'send:-223816517', \"send:['dd440507f2157110b45d01d95a692790209235ad63cd6c3ebec87a039d97f7ae', 'c60160ac1ebd96712afae83bf201e33f6e82a8bb57af247dff445e029f8006d6', '472ea9d7f063fc8fb4a4f902e3431a8640a8567c4b4c7519aa1b7941d4ee30da', 'e0a356436fe3f95a37d12a98896df7a0bfad39a5c91dc8ce418a9bb48f9e03ea']\", 'send:1555725063', 'receive_random_int:166', 'send:167649974', \"send:['633662b2ff311702bb9263d76ed2373498c06d9b6c69abce3663b7eeba38a356', '41df99704195120edbb05baa1460664d8d7ad0c30fcdd7120da1fb59954797b2', '8929c41d25b969181193665c97d5225038e2fceb6ed9012a2c788951764b945c', 'd484b2e83396223ef3559466ce103526b14199601477150776e847420898046e', '15ffb60476391bc679148dded0e57415b8a3078014e837e112f05e6c5d0d5b56', 'd0309005cecaa038fc117c463247f64512882dea60c718086689729d96264b2d', 'b18daa7f4a8a4422857e701f310635b7eb10733b15f201f1e4648066eccb33f8', '6d55a4ea151d882bc5d399c5f268e808a92b7cc6842b47459c9ac46889100be1']\", 'send:432666773', \"send:['633662b2ff311702bb9263d76ed2373498c06d9b6c69abce3663b7eeba38a356', '41df99704195120edbb05baa1460664d8d7ad0c30fcdd7120da1fb59954797b2', '8929c41d25b969181193665c97d5225038e2fceb6ed9012a2c788951764b945c', 'd484b2e83396223ef3559466ce103526b14199601477150776e847420898046e', '9eafd2cd7b4dfe6969135af383c00c7a49dfe6ab8dd613683d6e51f8ff6ea893', '5953034de19d042d490c441d84f63d723ec61ba9eedbb6003f745e04ff4e362a', 'e8ac694a7c820a05e606a8db3818a736a79513054fa6a86b139a566d088f3f35', 'ff6261bbb17628d0a6c209acc5052d018877b0cb2165b43078b7be8aa6d87e70']\", 'send:333363387', \"send:['633662b2ff311702bb9263d76ed2373498c06d9b6c69abce3663b7eeba38a356', '41df99704195120edbb05baa1460664d8d7ad0c30fcdd7120da1fb59954797b2', '8929c41d25b969181193665c97d5225038e2fceb6ed9012a2c788951764b945c', '5b8cee014a18411cbc2541c9a2dd21bb7f6105cd2267a1ccb7cc2d6021ac3e19', 'e989ff05b529b2dbbb16c53c056798ceb6fa40ae87f23177432782667e11a36a', '0cc9dfe67c8bfb06e7b47c57e58815e15aa147f906a36fc2f263bf6f09dabc84', '9f65a2b68872080919f1771be0cf50438e9fc6211d6cbbfcbeab720c6f895b8f', 'a4224e87fdc9f23d877304ce2c136a6fbe9bb64808e54c969162d2268d5ad1b9']\", 'send:1039961487', \"send:['8b1e6390b06176a81ed33bb8776907abe632cad15ffb538a1571c0e20acbc9cf', '49fec92e21ac3a584d775e8f68d3edecc8847862c9056889047d974968d72942', 'a1225bc079af8ef5849168be4055424bdc999328cf1343770582d5a7abc95aa4', '04f757ba3c265892879d6c77909314167e804b033baa40b58a31fe8b3bbb0a20', 'd602a6fb990be6e5bc1ac537e050f9e8fe1e99874b4a4a9a285904edd38ec68a', '8d2fa439bf255a856406921cc9371969e7550b1fa206ffbf06d5e8b97f086411', 'fb6f28625ecde9f780b6def19464a9d1ae82641290f7cde0d0583aa2501cce9a', '2660497a15df919c5d372bda651f283d1f40f17e58e14b661ece355c1ff2e32b']\", 'send:1534339270', \"send:['211c1589576a0d8bf40e0937daa4ae67a13f5664a23254dbb7670675c8ef2ca4', '15001c0b5d5ab9e930005118a04a902b865d40ebd49af7c4dbc7bb5215e683ad', 'db762e8a59a10ab48efd7e759a59ef27274a52c0aef38f10cb72c29295a82ea4', '482afd78f3b3eb5e46fddb975e6d5e75495d5116c85e7819c6716ff707378cee', 'fd4c71c58eff7524cffded867c677e33facee2b40c611300c79b7b8e256af9bc', 'c8dd7a378c73dc5d18cbee74788265adedb305f9be7deb91991606043744bbbf', '4b67e66c8b95cd3d3bee209f8e6b52b3677d747c1e9d8f3c4777951399cc2d22', '810924ae638f11a705b6b366027a4b9586dba6ff09571f32dcd5e23e30b52713']\", 'send:288684277', \"send:['e8cd04f68a275d93ce255f797fa8654427426c5573664accf22933ecce975c28', '71e3b25ec03d5e36f1abd1250d037179824f989c9be2624681cfd54184784874', 'af4c7013b7c9f891c05aac631ad0c79ea8cab703582942b3e336e9df76640671', '0876a61eddb517a29ab6b9dda39b20904d4a98c07d892e8f0bb7a95b137bda99', 'dff2742b349d61b3a9f0cc10857c0e1324b1cc673b4b574f6ffd65f0b9478b82', '6ce661056f4df38dd6197dc12f9508278ed5354d23c9ac683d5526c1cc8e9794', '450bc65f9007d1da483448b05fde02a95c6817256b8c7562e53a4bc45a7bfde0']\", 'send:625515544', \"send:['bffeaf628d207ccdaaa15fb4f88b35c961c6e68ff651cea581e35bf6fba4d419', 'b6f0826fafdf324d58ce53f0bb2d730a3e3ec378ba2aef7c01a205a5baf197be', 'e7de1e389961d9716e680e27b8770d092b16df31d9de9b7f262f31eecd516b47', '03352a2d7747f56c88e2b2e6cd51ca171aead87dcd845676be36cd2ec97c599a', 'a79977b55887c9ae240ea2fc43e94145088ba0eeb362760f6b5df39e963a0d16', '06399b3e40aff53258339687a57fc0ad21958561446622eb364f50864b35f0f8', '24057a716c172996e99403a1a57bd92b3336043fe710a669e432b0023bc8d69c']\", 'send:1062195484', \"send:['1b8fdb05cacafb6010df54a9c0205c63c302cc8d52179854b5754b9c0dbd50bf', '6f1ecd8eb11c8129261180f8c0577a02fd0dd0721ee541adc9bbc72836e171ed', '5c12f2e5816b813144da9039798c12a4e47bf1da28a6f5663f3a057aaa9d685d', '1541a05100f455485c359827b5f0b2207f30e371db62b42b101e57273610e8b8', '7fd891724dbba4832815706ea5abf0212989f6b2bd4292a9df65ad7bc31b07ea', 'ad03cea3aef59bc3190c181c352f6efb62ee860e1bdd7432626ce76be560ef2a']\", 'send:-69643087', \"send:['c035a917b88a28aa48dfe50f05c72e0e6a4b544b93976f555226c721662b331a', '0e2a97e6c191661c7d8f015ab95f6324df8007a72e25da78f0861a97105badf9', 'f0ec14f94650a2089a5f49ea455b6ae7a2c09dc4a3c7e61e03100ef1d3f2c384', '0891f46c79b07d4370989cd7bda067fe2f537c185ca481bb505f6538358dd57d', 'e7cdd1a9887a75552dc2bc1730553180e703749facfdab1ab401bb0c9e7456a2', '9fb4a054637665ff7447cb8ebb5465844d92e147314afdd6e51e653f041ea45a']\", 'send:-1465458963', \"send:['06acda8b67fc570b77897f52d8cd7bf9fe3da93d54cde66cb088c852581b8313', '0f5fd9ecd856fcfe9e7273e66f62be0bf102443ad143fe667b6ee7abc8e859cc', '06d3cc1c583ba110192e6b672814a33f5e06c19155141e78ae666e6d1bd33722', '476dd2004008538d2f45ae5b7469b62909be977fe7f327183dbafbdc59c8efb0', '007b5451166183140bbae88126cbd1d691042555dc5e7e885d4daf9625a72155']\", 'send:-1495718378', \"send:['97b41adb62fcea414f36d7310fadf6ebdebaab86fffaa51d71933d56e8ca98fa', '7dabe2850cdfbdc0c3345a85ba9570673bdf29b82dc7500a90547fb1e7f03bec', '4d394334a08b4f4b446c4d7880f495cef290ebe05b3c82e65f91751d00a41569', 'b147635b85cbc10d3cb1d43b308ea0a9cd26f45e52ac7ea1845e6ce13bb202c0', '1a198d2267d1f097413ccc68e3bf9231dd37a7c6b0af686ccb7e7a40384d5f70']\", 'send:508792762', \"send:['11a4ae310f880df356bc97fc90f5fbea4ec19411eb8449c6b2b357773d4f2448', '33ce2638a140b5cf7390d4a05aa8ee1992fd5635c1e6470f08a3d1e5c0e52ad7', 'aa0245291d5093918f7d90ce8a44eb6f9b295ca096f41946c5ff9cb9659ebf5a', '80059a9a00a406f61e8a9241e49ae78b3df17b87402183d2a1675bbc4244c098']\", 'send:101462889', \"send:['dd440507f2157110b45d01d95a692790209235ad63cd6c3ebec87a039d97f7ae', '81b9278aa16d50c6d177ab6bac97fd989ea99f47b44478c1c7fc9b278a4817d3', 'cb75b3fd641b4c8e091f05b359d7f2410130a5b31c313299d5c0bd7c1aee44b6', 'f97a279eed0de90e72e40e57cc6f4fed21f92e198acd059b90f6bfe3454a4998']\", 'send:1555725063', 'receive_random_int:57', 'send:557088624', \"send:['5467b28df1bf4b89d3de2007aafc9e5766b4fbc88e4add82a7abbf109cce1682', '0d6ac8742bdca7a8c54c8b67e8656187e171fc1893bfe74569035f5e35a27c76', 'e55ea99fac2ab8a8b3468e378c160709da9ca772b7f4e8706e8e66720aaa7e25', '10b3a18874629d905b51704e2bc0cc14f96f4223b42df078c1037f9cc030f561', 'd758094562bbc6e99c15939ffe5a5f171d9e7515b63c43fa25ec5a452c4e1db8', '35b58d973aaa49e9989ce92df89ae03ca21358f330fdf16db3d54eb1ba2639d4', '2d45c1a8be6ec7db859762d06aee798a90cd8db660fcaa74cdfc9e70c0d408ff', '262ac42f33e12c42fc73dd424ed36ad865bb2acec6d44bf0e173c19c8d46be11']\", 'send:466907914', \"send:['5467b28df1bf4b89d3de2007aafc9e5766b4fbc88e4add82a7abbf109cce1682', 'a72ad2625509b48731e3a7521e1be0b15bb7f515ce1b2d2f1415c942478b564a', '7cc234c5230dad6d72858a286bb9b2bd80a01080fc73329f10d31c482246fc4e', 'eacfab4a0e37b02b2573d76f978b981ffb9ebd8b6bff42c6f34a21f8d261d39e', 'ee5f3af75d4c3a05e65b176fb4a64ad11060ef4177fca3a4ca4278c2211bc2df', 'ae648e33867c357168c1fadc6b9b7dd253a32d02056db75c9c31628bd2f6d90f', '005b2afa2765caa077183c905ca4c23e7255e9786e5bfdecbbe2c4abdf85bbb7', 'd0793e049d512b46c8887a2ca06b1370540c6dfb2c338d349540776132e5f7aa']\", 'send:1172007905', \"send:['5467b28df1bf4b89d3de2007aafc9e5766b4fbc88e4add82a7abbf109cce1682', 'a72ad2625509b48731e3a7521e1be0b15bb7f515ce1b2d2f1415c942478b564a', '7cc234c5230dad6d72858a286bb9b2bd80a01080fc73329f10d31c482246fc4e', 'eacfab4a0e37b02b2573d76f978b981ffb9ebd8b6bff42c6f34a21f8d261d39e', 'f0b151c1ff6c8a1f8e3123f095c0b5d80e667853be87268ff64dc470448a0ecd', '1abb2c3da3065b38ca99d9e8131c699672faa47a82a3ea74296db7766cee9dac', '3715933a5fb9a0e205ff946eb92b0892c409e1ed55b1b6e9873fa687c2364607', '23ca3e40de95304b951b2e2f3d8e147b955a2620c3742838c40a38265bd109a4']\", 'send:1046793953', \"send:['211c1589576a0d8bf40e0937daa4ae67a13f5664a23254dbb7670675c8ef2ca4', '15001c0b5d5ab9e930005118a04a902b865d40ebd49af7c4dbc7bb5215e683ad', 'db762e8a59a10ab48efd7e759a59ef27274a52c0aef38f10cb72c29295a82ea4', '0e1bd582a8f37bd1b164e2ed12b35503af1272347fbed7f07c4160a444d19604', '4d927452b5fbb60f4bab05b2d1a6d8afd736c54f141e414066050772ce225bd3', '1b83017a6925f049bc2fe30d7256f070b6be2ac0f7fbeb59073be841d1e06006', 'faf9525333aa09e9fe1e910a8e140ac471464f57cb1463dc240c352a4fea00fc', '97259bf81490fa7b11f3ff62cca18c8dcb0837e73f0d85ed5eb9364c0d8fb09c']\", 'send:-331664710', \"send:['8b1e6390b06176a81ed33bb8776907abe632cad15ffb538a1571c0e20acbc9cf', '49fec92e21ac3a584d775e8f68d3edecc8847862c9056889047d974968d72942', 'a1225bc079af8ef5849168be4055424bdc999328cf1343770582d5a7abc95aa4', '340f175d4755dfa0ae203c6832d6ff41385e9060a8176ad3af15b75178bd6147', 'e37d831dc27ba79cfb53ecda1f7ae601ef51558d3c422f98cfd821456ca97186', 'ababa3dcb9cd3e495ccb0f389c56d23b0c75337a32b2992ad4aff3a2d6b1f39e', '7fd5dc923cecbd0da41664d9f81945354c27b70cba4043c649ad01da7536cf75', '6c46aa17633d81615208c4b7ef47e3f9f3e2d5db79763aaa18ded0e7d10deeed']\", 'send:-1343565322', \"send:['e8cd04f68a275d93ce255f797fa8654427426c5573664accf22933ecce975c28', '71e3b25ec03d5e36f1abd1250d037179824f989c9be2624681cfd54184784874', 'c6d8a8d87263c0863bcafa809c7cba8adc21ae0fffd958789bed1514c8680649', 'f46d3300271293b85a804becec15d6c6a6f336e398c30ff26a1ac37f741e187d', '6acd691796c05e2d221a92a4690975f5dd504eb82a1320be94dbe4a6490008ca', '422ee8cf8be61c656ff13115b82fe65397c94f72d9a02ffc5de801ae3e9eb804', 'f850059b441d281533bb6b0e658b2ca928cc51189b80ae9979f1d5259d61afe5']\", 'send:-544686849', \"send:['bffeaf628d207ccdaaa15fb4f88b35c961c6e68ff651cea581e35bf6fba4d419', 'b6f0826fafdf324d58ce53f0bb2d730a3e3ec378ba2aef7c01a205a5baf197be', 'd72a20a5f47032b45604b36358de5e10842990e5f2ad69b6c28f0311c23026f6', '91e4fc9c7e014214c25f3deca049a813a212939a924202f32d1b8a8d4552fd16', '3909c0de09eb46646e7242145847cd4cca4d9a7ffd367029b59d207e7ea90bc8', '140c354af632f1e861fb81d549c86ded2b8581cdbe2eafffe2eb72f06004e4e5', '19b76b78d9e5dd635cf5cf3097d81e06e49a27d56004288aef9284d2bb283d84']\", 'send:547767903', \"send:['1b8fdb05cacafb6010df54a9c0205c63c302cc8d52179854b5754b9c0dbd50bf', 'c4f5dbb39f1dad47d5255655c6c52e046fbce234e7ade425b45ff1c98f983ece', '5410b80be73f4b69196ff9b01fffd46d06a760d338ecda677198f4b4fa4433a9', '21f5dd5aefd8bb462b7a87547fdda58fc6031935ee86533dbbcb94a64ac89aab', '3b4fec4d5747a524e7c919f1a928cb321085b4c621835b90a4a53fc42d5adfa8', 'c8e74673b69eff87b57444b1b949651f2b74d9f1457696797ee2ce363d7c26e9']\", 'send:696910481', \"send:['c035a917b88a28aa48dfe50f05c72e0e6a4b544b93976f555226c721662b331a', '717e2ed7a529642a5f57ac731adfc1a22402b34fc5d4ef2b1cba066d1ecdec5b', '44c40d48e290220b976caa5db64027c29082e3e9d829ed12e44ba4cea83d1144', '7078aa5fe6a575c16152ce2e796a9eefe0ba866e98d6b45644f9d29cb0865e93', 'd5a000fd36bd4d5338da916b635e5fdecf4b49ed09bf9ed883ca200838a84adf', '62fa000d6ed57fa54ed03297a0b31426c4ecbdbf33950d8e79b235563e605e09']\", 'send:-1597558543', \"send:['97b41adb62fcea414f36d7310fadf6ebdebaab86fffaa51d71933d56e8ca98fa', 'b79eed02aa28496e35567859c1e7b4c7a1be947063c4b5d02d322bdb131723cb', '835ce68f6659f31b15b714adccb632c8eb1e3474d513f69e9aa06f73b79ee871', '8c2a3e2cbd70e400de029d3490f4856b36214ff41c9c43c7155078111eb1c12a', 'c713ec8040ac640a550d5580579dcbf21c302e52b85af6d668662a51ba63412b']\", 'send:1031592217', \"send:['06acda8b67fc570b77897f52d8cd7bf9fe3da93d54cde66cb088c852581b8313', 'a1a453b5119f078a344b4e2bb523e37618574fbd036c56ac5cdc4dfea5ec6cfa', '7358e74e923a7e872c27a7f66a28507019a5aa80dbbbcbd95eadbca6f65bbc0c', '6e8b1db6cf2280768f193f247bc5b30a971389654fd594c60eba53379a84b0e5', 'f98ddfe10ff763448a163fbbc6e201fd092fb123f8dcfbb890ef433ad88ddbf8']\", 'send:95785533', \"send:['dd440507f2157110b45d01d95a692790209235ad63cd6c3ebec87a039d97f7ae', 'c60160ac1ebd96712afae83bf201e33f6e82a8bb57af247dff445e029f8006d6', 'c4fba33586027f5bb835bcda25d78bf4d2cd5df35874360e581c036a22ab83e1', '562ed90238df6f8e0783adb45b0218ae5dcc6938d8f91a8ef2ea6d1a2c2a9876']\", 'send:514470118', \"send:['11a4ae310f880df356bc97fc90f5fbea4ec19411eb8449c6b2b357773d4f2448', '28decbd703d29525e45ab88dbf32b4ffc2bd04ae87b4caffabf685e7d9851f82', 'b9a26866abc58a3d30e2133468a1ad30e6772016a77e6ef43c0acb308bb95b8d', '2781343035751e55733db02579f71e82f091ce0c2fb6b1ad54d8a37004af8171']\", 'send:1555725063']\n",
      "Overall time: 0.3372018337249756s\n",
      "Uncompressed proof length in characters: 19222\n"
     ]
    }
   ],
   "source": [
    "def modelo_uno():\n",
    "    \n",
    "    start = time.time()\n",
    "    start_all = start\n",
    "    print(\"Generating the trace\")\n",
    "\n",
    "    # Tabla de Ejecucion\n",
    "    a = [FieldElement(2)]\n",
    "\n",
    "    # a_{n} = 2^{8^n}\n",
    "    while len(a) < 21:\n",
    "        a.append(a[0]**(8**(len(a))))\n",
    "\n",
    "    \n",
    "    # Siendo n el orden del subgrupo\n",
    "    # n*k = |𝔽×| , busco k tal que |𝔽×| = 3221225473\n",
    "    n = 32\n",
    "    mod_F = FieldElement.k_modulus\n",
    "    k = mod_F // n\n",
    "\n",
    "    g = FieldElement.generator() ** (k)  # Busco g^k\n",
    "    G = [g ** i for i in range(n)] # Genero el subgrupo de orden 32\n",
    "    \n",
    "\n",
    "    print(\"We blow up the trace (Extend the trace) 8 times bigger\")\n",
    "    \n",
    "    n = 8*32\n",
    "    mod_F = FieldElement.k_modulus\n",
    "    k = mod_F // n\n",
    "\n",
    "    w = FieldElement.generator()\n",
    "\n",
    "    h = w ** (k)  # Este es mi generador g^k para el nuevo dominio\n",
    "    H = [h ** i for i in range(n)] # Genero el subgrupo de orden 8*32\n",
    "\n",
    "    eval_domain = [w * x for x in H]\n",
    "\n",
    "    f = interpolate_poly(G[:len(a)], a)  ## Este polinomio pasa por todos los puntos que nos interes\n",
    "    f_eval = [f(d) for d in eval_domain] ## Busco la imagen en todos los elementos del dominio extendido\n",
    "\n",
    "\n",
    "    f_merkle = MerkleTree(f_eval) \n",
    "\n",
    "    channel = Channel()     # El channel nos dara datos que deberia darnos el verifier\n",
    "    channel.send(f_merkle.root)\n",
    "\n",
    "    print(f'{time.time() - start}s')\n",
    "    start = time.time()\n",
    "    print(\"Generating the composition polynomial and the FRI layers...\")\n",
    "\n",
    "    ## a0 = 2\n",
    "    numer0 = f - 2\n",
    "    denom0 = X - 1\n",
    "    p0 = numer0 / denom0\n",
    "    \n",
    "    # a[21] = (a)^{8^20} \n",
    "    numer1 = f - FieldElement(2)**(8**20)\n",
    "    denom1 = X - g**20\n",
    "    p1 = numer1 / denom1\n",
    "\n",
    "\n",
    "    # a[n+1] = (an)^8 \n",
    "    numer2 = f(g* X) - f(X)**8\n",
    "\n",
    "    lst = [(X - g**i) for i in range(20)]\n",
    "    denom2 = prod(lst)\n",
    "    p2 = numer2 / denom2\n",
    "\n",
    "\n",
    "    cp = get_CP(channel,[p0,p1,p2])\n",
    "    cp_eval = CP_eval(cp,eval_domain)\n",
    "    cp_merkle = MerkleTree(cp_eval)\n",
    "    channel.send(cp_merkle.root)\n",
    "\n",
    "    # FRI Folding Operator\n",
    "    fri_polys, fri_domains, fri_layers, fri_merkles = FriCommit(cp, eval_domain, cp_eval, cp_merkle, channel)\n",
    "\n",
    "    print(f'{time.time() - start}s')\n",
    "    start = time.time()\n",
    "    print(\"Generating queries and decommitments...\")\n",
    "\n",
    "    len_query = len(eval_domain) - 1\n",
    "    decommit_fri(channel, fri_layers, fri_merkles, f_eval, f_merkle, len_query)\n",
    "\n",
    "\n",
    "    # Verificamos\n",
    "    print(channel.proof)\n",
    "    print(f'Overall time: {time.time() - start_all}s')\n",
    "    print(f'Uncompressed proof length in characters: {len(str(channel.proof))}')\n",
    "\n",
    "    \n",
    "if __name__ == \"__main__\":\n",
    "    modelo_uno()"
   ]
  },
  {
   "cell_type": "markdown",
   "id": "045409a8",
   "metadata": {},
   "source": [
    "Vemos que tomamos\n",
    "- 0.01562 segundos para crear la traza de ejecucion y extender el dominio 8 veces su tamaño\n",
    "- 0.06302 segundos en generar el Composition Polynomial y hacer FRI layers\n",
    "- 0.3435 segundos en total\n",
    "\n",
    "Los tiempos suelen variar ligeramente entre compilaciones"
   ]
  },
  {
   "cell_type": "markdown",
   "id": "edc321b1",
   "metadata": {},
   "source": [
    "# Modelo 2\n",
    "\n",
    "Repetimos todo este analisis ahora con los siguientes modelos\n",
    "\n",
    "2. Considerar \n",
    "    * $a_0 = 2$ \n",
    "    * $a_{n+1} = a_n^2$\n",
    "    \n",
    "Sabieno que $2^{8^{20}} = 2^{{(2^3)}^{20}} = 2^{2^{60}}$\n",
    "\n",
    "|$f(g^i)$| $a_i$         | Valor     | \n",
    "|----    |--------------|-----------|\n",
    "|$f(g^0)$ | $a_0$        | $2$         |\n",
    "|$f(g^1)$ | $a_1$        | $2^{2^{1}}$ | \n",
    "|$f(g^2)$ | $a_2$        | $2^{2^{2}}$ |\n",
    "|$f(g^3)$ | $a_3$        | $2^{2^{3}}$ |\n",
    "| $...$   | $...$        | $...$ |\n",
    "|$f(g^{60})$ |$a_{60}$   |  $2^{2^{60}}$|\n",
    "\n",
    "La tabla de ejecucion tendra 61 elementos por lo que se tomara un subgrupo de orden 64.\n",
    "\n",
    "Los polinomios asociados son\n",
    "\n",
    "* $a_0 = 2$\n",
    " \n",
    "    1) $f(x) = 2$, para $x=g^0$\n",
    "    \n",
    "    2) $g^0$ es raiz de $f(x)-2$\n",
    "    \n",
    "    3) $$p_0(x) = \\frac{f(x) - 2}{x-g^0}$$\n",
    "    \n",
    "* $a_{60} = 2^{2^{60}}$\n",
    " \n",
    "    1) $f(x) = 2^{2^{60}}$, para $x=g^{60}$\n",
    "    \n",
    "    2) $g^{60}$ es raiz de $f(x)-2^{2^{60}}$\n",
    "    \n",
    "    3) $$p_1(x) = \\frac{f(x) - 2^{2^{60}}}{x-g^{60}}$$\n",
    " \n",
    "\n",
    "* $a_{n+1} = a_n^2$\n",
    "\n",
    "   1) $f(g\\cdot x) = f(x)^2$\n",
    "    \n",
    "    2) $\\{g^i \\, , 0 \\leq i \\leq 59 \\}$ es raiz de $f(g\\cdot x)- f(x)^2$\n",
    "    \n",
    "    3) $$p_2(x) = \\frac{f(g\\cdot x)-f(x)^2}{\\prod_{i=0}^{59}(x-g^i)}$$\n",
    "\n"
   ]
  },
  {
   "cell_type": "code",
   "execution_count": 17,
   "id": "97ca76bf",
   "metadata": {},
   "outputs": [
    {
     "name": "stdout",
     "output_type": "stream",
     "text": [
      "Generating the trace\n",
      "We blow up the trace (Extend the trace) 8 times bigger\n"
     ]
    },
    {
     "name": "stderr",
     "output_type": "stream",
     "text": [
      "100%|████████████████████████████████████████████████████████████████████████████████████████████████████████████████████████████████████████████████████████████████████████████| 61/61 [00:00<00:00, 2204.26it/s]"
     ]
    },
    {
     "name": "stdout",
     "output_type": "stream",
     "text": [
      "0.0792546272277832s\n",
      "Generating the composition polynomial and the FRI layers...\n",
      "El polinomio CP es\n"
     ]
    },
    {
     "name": "stderr",
     "output_type": "stream",
     "text": [
      "\n"
     ]
    },
    {
     "data": {
      "text/latex": [
       "$ 383061486 - 538165435x + 1095417275x^{2} + 1179195174x^{3} - 476123777x^{4} + 755922314x^{5} + 482049630x^{6} - 679476477x^{7} + 1336372779x^{8} + 1145556243x^{9} + 593392785x^{10} - 1338405196x^{11} + 1265889188x^{12} + 1400840402x^{13} + 1557781597x^{14} - 834376273x^{15} - 408810309x^{16} + 1122221558x^{17} - 1539636875x^{18} + 1328087321x^{19} + 936469969x^{20} + 649705597x^{21} + 326079642x^{22} - 1528126334x^{23} - 347910066x^{24} - 1272809956x^{25} + 914067746x^{26} + 1191534432x^{27} - 287710335x^{28} - 1504874738x^{29} + 457134999x^{30} - 907465012x^{31} - 1376125658x^{32} - 799507214x^{33} + 23936401x^{34} - 1074051863x^{35} - 250100308x^{36} - 353280877x^{37} - 1483291853x^{38} - 523867667x^{39} + 247439446x^{40} + 454747561x^{41} - 1457325600x^{42} + 1005870581x^{43} + 1181477854x^{44} - 1397709795x^{45} - 380489478x^{46} + 1157089847x^{47} + 810575897x^{48} - 1321625193x^{49} + 420138488x^{50} + 1049067730x^{51} - 1289393437x^{52} + 1082705807x^{53} + 1102753265x^{54} - 9185294x^{55} + 1161528424x^{56} - 1080468358x^{57} + 1136758706x^{58} - 610156463x^{59} $"
      ],
      "text/plain": [
       "<polynomial.Polynomial at 0x7fee14079610>"
      ]
     },
     "metadata": {},
     "output_type": "display_data"
    },
    {
     "name": "stdout",
     "output_type": "stream",
     "text": [
      "0.08609700202941895s\n",
      "Generating queries and decommitments...\n",
      "['send:53575d36350edfa437b4735412ca12a9d58db85e40913cab8714ed5a79c421f0', 'receive_random_field_element:2728171251', 'receive_random_field_element:1213704555', 'receive_random_field_element:154185519', 'send:2dd16c4b692792fe936bb480323baf93de769dae7100ae3f11ae4d85b76ceb0d', 'receive_random_field_element:2538967403', 'send:dd51d9fc3bb5c690152f53452ed64c46a48bf6969a83ebcc467db09edbd1b23b', 'receive_random_field_element:1478556687', 'send:cacfd76ad954f500d690a7c63dfeb65885a64b84a45330ac740f4ca5a2db0a32', 'receive_random_field_element:2274698976', 'send:8c3e2dff1c944a83d0bf5f4aae8e6614cf946ce0d076782aaee44468c570e197', 'receive_random_field_element:496718302', 'send:fabf3e8fa569ea5caf5faa76cb5e1feded972e0469a4fb52d7139cefb9b549b1', 'receive_random_field_element:2728008242', 'send:df0231bdb241392c0645fb1aaec43c52409e13fce13e427e5bc9d6337ad4459b', 'receive_random_field_element:1192744081', 'send:6b71c8a455e3a9e4421405fa69aa3bd61c9b0871e9f6bc235a4704b1bb690b52', 'send:229291717', 'receive_random_int:491', 'send:-1046731541', \"send:['c9ae46a7ae6285b111cef488c31733298d760ff9ab5bb4f06c38dd0e29a229b3', '2cfb40a1b0cc34efe0b2d1dab489e624f0be1710f852d78b1d7cb6350313b979', '224a2b07fed69e23774f6f3e08bd89364571baa07065b82c1b832d92e36b006b', '592153558a1d4c453b83919810b33efb81f17b9123b433d42fb23cf081b5b27a', 'a43c6ca9a709e1c55b3e56071007604857dba052021a1da3eab72a2943f790b1', 'e4845ec0f8c088854b56f24d68369c84fa01b6c609b8d83db67afe47e0d836cf', '8f028485bef7ef50ee81c3bc77a399a7268799ca75bde4a8dc7d59d3eadd626b', '3506a2ebc2d7f39c13c25293d52317943a1d711f932a20804724db884e7f11fb', 'acbe7d00bb518a2ee2b6709791215fd27a75110ea1f84ef44b6893e8f3e728e2']\", 'send:-796810092', \"send:['c9ae46a7ae6285b111cef488c31733298d760ff9ab5bb4f06c38dd0e29a229b3', '2cfb40a1b0cc34efe0b2d1dab489e624f0be1710f852d78b1d7cb6350313b979', '224a2b07fed69e23774f6f3e08bd89364571baa07065b82c1b832d92e36b006b', '592153558a1d4c453b83919810b33efb81f17b9123b433d42fb23cf081b5b27a', 'e2abaeb4320cbb7e27ba1610b6cf80f406e068e4d971988a32ca11a3cef3450c', '22c44d8fe76fda7000a92411c77a6352b4cecdec667437e2df8f5ad93395557e', '220adb5bd0e242ed0f354e3dcdb056b8955710d4a41f47e2c7913322e990b87d', 'cbdecc80f173abd965e1cd86761a38665126a3a01e2adbe13200512dfc3525dc', '66e8de45719cb3567d4bd0943f82a32e38fa10d6df1dcd0826414b172b428c8b']\", 'send:-559636987', \"send:['c9ae46a7ae6285b111cef488c31733298d760ff9ab5bb4f06c38dd0e29a229b3', '2cfb40a1b0cc34efe0b2d1dab489e624f0be1710f852d78b1d7cb6350313b979', '224a2b07fed69e23774f6f3e08bd89364571baa07065b82c1b832d92e36b006b', '592153558a1d4c453b83919810b33efb81f17b9123b433d42fb23cf081b5b27a', 'e2abaeb4320cbb7e27ba1610b6cf80f406e068e4d971988a32ca11a3cef3450c', 'bbd2e75d2d84189916fd00eca58b9a221d40d79fe3f40976d3522673711a8bd9', 'f5dda9bd24449c4f124ffc1f9295c288e51a1f50be18e6f9a6a51b6363af311e', '229745fc1b5ecf3e66f5676e38293601590c90c668a867e82e1b189e2360dcbf', '15831405ffd975fc98269d9addbcc24677560d5217270236e6159e02545c54fd']\", 'send:-502200705', \"send:['66f896014d9fbbe340665eeabac9c552eb7412cef08a924faa415ea62272a77c', '13a9923e295aafdeac4b80a6dc289e02c5355b13ff4db5a7f12b8160a941e264', '15b91ffd4c14a73f6ef81a7986843f225d778eb3a8dd63ddda573b61ae282e7e', 'f1a1f52c518085b8e626344686d2d2df2607e187219510fc811b32575570ffdf', '74c6cebc9b302764d0224a1c859de08f37b4e36f80ccc548521807cb28013a5d', '11fbd6468679f6a15860411afe0af4b2c5f0aa58567e9d2f9f6b95a74bb76ae0', '5a11e83c7b48531552a950c35c362c42d67d71364b4c8e228019712c6c08d4e8', 'b79dfd33aa5f7048dad8afd3b1b11fcb56be1ae309eb832de27df4a79d60a587', '5f6b26c3e6522a6b3e397b6584394f7c298c503aad2e37ad6e9892eed507b29d']\", 'send:1107935457', \"send:['954392f0cd11ad5ea94e18e71580a3648807c204673e16dbc57f83a5afb2e8ba', 'faff8afcdeff1b2680b98e354a344e8b59a50060fe0db93a9d02099253bcd68d', '9f3f29739d823769ff494c41f9f9393222cc11d0f2e2a9a8dcbd8f9680bdae6e', '0bb6d3aff6c86c9dba1e2ca399a90c8ed472d44d2d78226c08e7369987d4374f', 'bae5095ee9f8e32f7a7b493e4ede502342926cf06188480fd517e4ad3c906b7b', '37462023e2378abed4dd40c24b4264e6ed67f3c9b76e140afb59bf37fcebf6b7', '96641529e573be2da22ea9b16818ebb658d889d9ca145315bfedce5f6a2cce31', 'ece02772cd4dd8991b0d4c5296908c7856f20ec0e307b771ad6603cbc7152fd5', '6e4a5f4953eeed83d3a5b83e4a28dceadf3fa361696467617020c168e5df5192']\", 'send:654406169', \"send:['94cca51a2f4d85d9af2db317b18e7abcbc2300821688fa37da5bbdec7a715e5c', '2e1b84ca05c458c261be9f5f443e53a3c7fe50874b60c7eeae278b8a8af3d6ab', 'b216411d8303a5e9e0fbbc96029339582c620abcb85af66612d177eccdd85121', '38c4237d7304e12af2340a6514534fecba3e7d135263e5ad3393407acaed0724', '280727b6eef1dfe5c3d0eaa90290d35477367fa2eae35d61656668cbdcf3129e', '2986d3c7dcafb61654788a74893d9967afc0ca44809da75620771ba6e1e51510', 'f65f51274c3652fffe0738b771d4f80a01fdd36c82155152b3f96bcb91766d8a', '17d8f474f5a6900960be5cf83684aaaee9d5d983f3591130bb7cfdd988c25d02']\", 'send:-720081371', \"send:['a2347f57cf5f93fe2c14b47a65a5fa5ae2b35ca38b9be61dfc538029aa9c0867', '85808cb638e27588f79b589e89a9aac82544aa6e612a0463c7b78ce813f397ca', 'ad6e698af33e7f875f99d3273bc709c27eaefd324b2e7fef3f2872679d81f259', '5a1f2113cacbc9d943cd396caa2138b6d2f7f867c0f2ed87e8951ec184060552', '9f284e697b4921ba53f8cd2c0e7e27914d61a776382511822278f3071c272635', 'f22c2be553f23cf9ec7d05c05d0216c400bb5299a62b08745507a29d8685c1b8', '3a958408da5d19f9c55d740d91ccf258c17e08b4eb3ac37c13c79c156304c8b2', 'ed460b3bc4b6b1b4e019331a9cc712318fd719239c0c3599de53e7d7e00343ee']\", 'send:1054963361', \"send:['39608a931d7a5d97f56f342747268068c21b989da3c40acf5c01cd50a93bc887', '4a631ba8db2b1c4b5231b1372703767fb5354d8078a6518e2258ab2a712d3b13', '1202b8aa2aa5091df4d8bf2741c660d310fce9fce13ba888fc0d61ffa543e58c', '12392c9b51416651f54232fb943bc8d2464800e56eefbea5782f832b3d85cc7a', '7e3a45a3661a1d0b2858bd744daac22e44c9cd8bdb8b3f34ddc23e8d597ee2de', 'fb56ceb0a8fd01f167e3508733da31072a0db233398ded462f1d6e0398693561', '3a05d6c94260377d5e88907300ce221555d6377b50f06eda10d6415cb78dafa9']\", 'send:-1223687834', \"send:['91a5c3576fc35f24ea3c07665b96f887258d5ef684c19af97ed04842acfa9e9a', '36c58658c35b9968051863eabb0c7e21263d41b91003fb4cffcb3c1f2b1f65ba', '9f1aeaabd476864dbcfea3645f154c55fe64a64cf286c4133cefdfe8999bd7ad', '19c69d1376dcf847c2a24ce6a4135460fad5e4035c966d63ad0d6f822d64cd78', 'bff736ea0b5a34c4e2603a70d3bc5f27160f6ffd7e6f1ef36dec2f9210dd0bc8', 'd5b49e11023302889720d60ef897aefebb9f94b6b09d83df6705e2de74bdc399', '793e68204bc37f6394a082f052744e8ec29229fd0b6991d7721d39c6d87260c0']\", 'send:571536380', \"send:['73bf308c3e2280798bd5cc8252d295c8ae0ce443908e409aef5d6c7010a6ef68', 'ec4b560a5f1a9b2ba0bf53b7bcf223987dd238a38ade69d9f3ba515839b3da3f', 'd2a151a87d1a6adf18c2095c0ec53cada23b77f50523a069714073956f441cab', '7c9e2a4880b74b604188d90f4df6dbb0c4e6a12a280f6a89472745217e72c194', '6a878333f90703f8e4216d9fd2280736e578b9b1e3d1b155ad98b2096a540e47', '88f9b35ee5297f2fb6075d861689d724ec7c2c74efa9f2874820bea3e4028e37']\", 'send:581762557', \"send:['c6bb7726596ee14cbc351a7389186640ba10025bf67d2af852b39174d036df7c', '72ac1fc90aff85a41fcceefe63753dd4bd502c89cc8a855978cca996534ffbb4', 'a78ccd7546f80d58baafe4359697fd292e69c26256e5894539f58a20ffdf7802', '23be03842a59da815f0560f38a3bcbdca55f163b0ed3a5d6133827d5e12817c7', '8b8c615bcade0d95a928090439555b90bab82ea11ae56100b850e6ff28ff4908', '330cbe04985a6410fc88b674a36d1cbcbfa49e8d6ae16163edb244e6ecf39423']\", 'send:1446467710', \"send:['adf03b97eabb2b185c110b6ff66f7ae07387590adc82f7e1a2452fc7062a646a', '32800be6cb0902237cacf4b2b2e9fa2e9627fb04518a6b009755ed5abaf55e53', '31f340089209b2ad68df2b0ac8a67f75a2d21989c69ce65e421a9eef6baa2fd0', '95e9d8452392434b910993edfd97dc430a0a0577eeee9979c752345b99927daa', 'b5ca1671420fd1f0860e55838b7e356c323fb87dfceb80f395e2516ea68f63ae']\", 'send:-1092984787', \"send:['76bb851711d2d00137211cba20be9867cc40976984f2aa133ed0e270abf4faa9', '4c9fe5460250941aaad5f97fe2f7e62376f5643681600bd30508e3972e63d815', 'b5c2c259796958621e64ad1603ac23e9e794a322c1177c9ecf9df205268f91b4', 'a0ecd516c043a784abf72597b4e5bbde0da909db36888d5824c74c7b920a430f', '821d7a93c0f9d0a92b13108bc14d398fafaabfbb904098e725c3fde1a78dd928']\", 'send:501842934', \"send:['d47cf5aa600810ea5501b503dc1fec8afd05c35f03f5bd194f05523a8fe0f21c', '937a1f32408089707e289140143c6409a26a42961c15151304936cd1dab99269', 'd86d83bb9bd04c9d5f3d08fdb88a656b3a0b2e7108eeb162c2c84677969a34ac', '578a36ade13f6726a881536941b1e3c10002e55aa00b603b461e6147075dbe2d']\", 'send:-977403384', \"send:['0316c2e6c02dc746c833c01f741d3a1c81ba8d0ceddb6a8b19221b0ac6333dd3', '615f1482bb97c0d96cc1750eeae80622d6b86d87cd2d2d7250919fc390081f73', '874abaac0b6c610e3fcdf5b096eec4e4ea9793d0e3cac4c3d7f5857c7cb5d359', 'c90b629453958c18e9d770b96dfe70d186bf33a4f80fbce22119085120e9c9dd']\", 'send:229291717', 'receive_random_int:232', 'send:-560157786', \"send:['0a390f950f6732b6d1be95031c5f175575c7bc8800f96c7c928e93c75a6d0a3a', '089168adff2327db54ad7b1d37910809b4ba3f151f7bc214c3e9ca3030b2983c', 'e6dc2aa2565645c253ac43167b21ffb60b0b47faac2891377fcbffcc6f3eee70', '998c684a2f7235ca3b6f7dc8573bd3baf54561f10e73a6cbd6b2160ca8a81004', 'abd01cf6902ff1b4b7708d19b7f3cb7d7c70db591b3f1048f7404b9e86e53dcc', '1a3cf74d3b9d93c6938917f82770a9ee2a983fd39fdbf99a029eba71b6e15c5c', 'e8a602e9b828fe8f970f0ee9728589a9f7ee115c11c128509874e711cd8d7583', '4b9661f740924ad6d6b9ee71d7234867c4c8e7243926feaa33bee17fb3db51ae', 'c6e7f2791956359fa4c26a3b3edb6f6908532120969b07ae5015c6f968d394ea']\", 'send:1410894271', \"send:['0a390f950f6732b6d1be95031c5f175575c7bc8800f96c7c928e93c75a6d0a3a', '089168adff2327db54ad7b1d37910809b4ba3f151f7bc214c3e9ca3030b2983c', 'e6dc2aa2565645c253ac43167b21ffb60b0b47faac2891377fcbffcc6f3eee70', '998c684a2f7235ca3b6f7dc8573bd3baf54561f10e73a6cbd6b2160ca8a81004', '852c4754449e2420ae37958269468225a2c74ed3f8fb5496a2ca0f1896fbef83', '178ce4e20ac5d62ed948372333813077d348721d8dec163ab00e1cd7a8993409', 'b69d294587273222bbb7786d4925e86b9467e7d21492641ea04d629f941b8a6f', '56cbd4e7cbc91f42759761ef6d89310af814842d92fbc4a1bda5944249156e0b', 'c1676064c72d6279a5009fb337dd5211a862fb4961fa1e80cadbc4082b68102c']\", 'send:181184461', \"send:['0a390f950f6732b6d1be95031c5f175575c7bc8800f96c7c928e93c75a6d0a3a', '089168adff2327db54ad7b1d37910809b4ba3f151f7bc214c3e9ca3030b2983c', 'e6dc2aa2565645c253ac43167b21ffb60b0b47faac2891377fcbffcc6f3eee70', '998c684a2f7235ca3b6f7dc8573bd3baf54561f10e73a6cbd6b2160ca8a81004', '852c4754449e2420ae37958269468225a2c74ed3f8fb5496a2ca0f1896fbef83', 'f45ee5950c1a69464d296e9a0c7c90f256c122a587ed1a51b5315b720a37056e', '249c601bddae164c8e458d8c0b5bd4c3afa7b36cde4774dacef5d784418e4d87', '82fcef215723bcd7c665805c79fe16a29e404d63758316ebc004a036520ed513', '8305e1055006ee86b43842df3b77b1983deab7165c4d282b1ac645c43b44ab77']\", 'send:-83987440', \"send:['954392f0cd11ad5ea94e18e71580a3648807c204673e16dbc57f83a5afb2e8ba', 'faff8afcdeff1b2680b98e354a344e8b59a50060fe0db93a9d02099253bcd68d', '9f3f29739d823769ff494c41f9f9393222cc11d0f2e2a9a8dcbd8f9680bdae6e', '0bb6d3aff6c86c9dba1e2ca399a90c8ed472d44d2d78226c08e7369987d4374f', 'bae5095ee9f8e32f7a7b493e4ede502342926cf06188480fd517e4ad3c906b7b', '37462023e2378abed4dd40c24b4264e6ed67f3c9b76e140afb59bf37fcebf6b7', '96641529e573be2da22ea9b16818ebb658d889d9ca145315bfedce5f6a2cce31', 'fd475f94056ac0d3b5b58b02c16af720f900597f96031f3b1a70522e2bbaba99', '610f59430326b4674e04a1789db4d31814ed7f067896bfddf8ae152ffd8964fb']\", 'send:-958349247', \"send:['66f896014d9fbbe340665eeabac9c552eb7412cef08a924faa415ea62272a77c', '13a9923e295aafdeac4b80a6dc289e02c5355b13ff4db5a7f12b8160a941e264', '15b91ffd4c14a73f6ef81a7986843f225d778eb3a8dd63ddda573b61ae282e7e', 'f1a1f52c518085b8e626344686d2d2df2607e187219510fc811b32575570ffdf', '74c6cebc9b302764d0224a1c859de08f37b4e36f80ccc548521807cb28013a5d', '11fbd6468679f6a15860411afe0af4b2c5f0aa58567e9d2f9f6b95a74bb76ae0', '5a11e83c7b48531552a950c35c362c42d67d71364b4c8e228019712c6c08d4e8', '28d61dc123a90dc7a7a43270e76b46559e655512c246f11c5dda58125fbf551b', '46b07f4e754c1716b477a2a7d11cae7fcfa5ee7332134c057440a1a228943ab2']\", 'send:-696866210', \"send:['94cca51a2f4d85d9af2db317b18e7abcbc2300821688fa37da5bbdec7a715e5c', '2e1b84ca05c458c261be9f5f443e53a3c7fe50874b60c7eeae278b8a8af3d6ab', 'b216411d8303a5e9e0fbbc96029339582c620abcb85af66612d177eccdd85121', '38c4237d7304e12af2340a6514534fecba3e7d135263e5ad3393407acaed0724', '280727b6eef1dfe5c3d0eaa90290d35477367fa2eae35d61656668cbdcf3129e', '2986d3c7dcafb61654788a74893d9967afc0ca44809da75620771ba6e1e51510', '4e20a42915a31f7c486acab850567a6e42213789baaccc434661a71d2dab35e3', '7abd18abf61c1c09ccd7412653bcae450c3eb0ffac5afedf3e42d41b1cbb0df2']\", 'send:-497331297', \"send:['a2347f57cf5f93fe2c14b47a65a5fa5ae2b35ca38b9be61dfc538029aa9c0867', '85808cb638e27588f79b589e89a9aac82544aa6e612a0463c7b78ce813f397ca', 'ad6e698af33e7f875f99d3273bc709c27eaefd324b2e7fef3f2872679d81f259', '5a1f2113cacbc9d943cd396caa2138b6d2f7f867c0f2ed87e8951ec184060552', '9f284e697b4921ba53f8cd2c0e7e27914d61a776382511822278f3071c272635', 'f22c2be553f23cf9ec7d05c05d0216c400bb5299a62b08745507a29d8685c1b8', '883472182f527a47d9801685302416faeddd8dd440b6e8fb3c7973d36e06834e', '76d51d2f6eb06203a7b985aa010212a8ad66eca9dfdcd7f8ba9d4a9d778210e2']\", 'send:-457601602', \"send:['39608a931d7a5d97f56f342747268068c21b989da3c40acf5c01cd50a93bc887', '4a631ba8db2b1c4b5231b1372703767fb5354d8078a6518e2258ab2a712d3b13', '1202b8aa2aa5091df4d8bf2741c660d310fce9fce13ba888fc0d61ffa543e58c', '12392c9b51416651f54232fb943bc8d2464800e56eefbea5782f832b3d85cc7a', '7e3a45a3661a1d0b2858bd744daac22e44c9cd8bdb8b3f34ddc23e8d597ee2de', 'fc93cbd86316c8988db4ee1aa65597834ad959a0437e5c6ca356584dc6390f58', '4cdd5ae137a4ed42b3e6e16d9025ff77b9b6e40b8241288a86cb57b997edfdfc']\", 'send:644760222', \"send:['91a5c3576fc35f24ea3c07665b96f887258d5ef684c19af97ed04842acfa9e9a', '36c58658c35b9968051863eabb0c7e21263d41b91003fb4cffcb3c1f2b1f65ba', '9f1aeaabd476864dbcfea3645f154c55fe64a64cf286c4133cefdfe8999bd7ad', '19c69d1376dcf847c2a24ce6a4135460fad5e4035c966d63ad0d6f822d64cd78', 'bff736ea0b5a34c4e2603a70d3bc5f27160f6ffd7e6f1ef36dec2f9210dd0bc8', '7eaa23fb3f901c240548e9bba7890fdd073b63c1b3d2e81c44b17a0ba4cc9767', '2698f714994fe06fe2f60d872eb31531555d2114a7b4d22b584dec11e2739e1a']\", 'send:-1351703282', \"send:['73bf308c3e2280798bd5cc8252d295c8ae0ce443908e409aef5d6c7010a6ef68', 'ec4b560a5f1a9b2ba0bf53b7bcf223987dd238a38ade69d9f3ba515839b3da3f', 'd2a151a87d1a6adf18c2095c0ec53cada23b77f50523a069714073956f441cab', '7c9e2a4880b74b604188d90f4df6dbb0c4e6a12a280f6a89472745217e72c194', '16e97821cfaef188e82848f6365465dd47592599abb233083b7bbb30ac383838', '1a50ae58e1ee091450286efe59a796352397042ad756bf52b5f3ec0b15bb90ff']\", 'send:1592775708', \"send:['c6bb7726596ee14cbc351a7389186640ba10025bf67d2af852b39174d036df7c', '72ac1fc90aff85a41fcceefe63753dd4bd502c89cc8a855978cca996534ffbb4', 'a78ccd7546f80d58baafe4359697fd292e69c26256e5894539f58a20ffdf7802', '23be03842a59da815f0560f38a3bcbdca55f163b0ed3a5d6133827d5e12817c7', '197005e6720e0adc0bf62b92a0cdcdb41a88d3d42a233d1216bf98a66b0da8cc', 'b0224f758228a67491c6c6bee3b1be0f41d8024d7a079879a2d5bbc7709cc3c4']\", 'send:-567182444', \"send:['adf03b97eabb2b185c110b6ff66f7ae07387590adc82f7e1a2452fc7062a646a', '32800be6cb0902237cacf4b2b2e9fa2e9627fb04518a6b009755ed5abaf55e53', '31f340089209b2ad68df2b0ac8a67f75a2d21989c69ce65e421a9eef6baa2fd0', '64cf6cd7dad0c5284823c63e67a8f9944a6ca5b281f936ec6eac8a55f4e64cf3', '0f26bec91ec010d630048f4a9640ce6c6ac848d1bac02f5b77e607106de95801']\", 'send:-1349574725', \"send:['76bb851711d2d00137211cba20be9867cc40976984f2aa133ed0e270abf4faa9', '4c9fe5460250941aaad5f97fe2f7e62376f5643681600bd30508e3972e63d815', 'b5c2c259796958621e64ad1603ac23e9e794a322c1177c9ecf9df205268f91b4', 'af84dbabd73553c06f01c83b73cfd4fe279e20340be5e134f951ae4f50a1743f', '15564c97603d7ec79abd3478c64a60b3383d3e38091d5d3c769dc4542657df85']\", 'send:1401544986', \"send:['d47cf5aa600810ea5501b503dc1fec8afd05c35f03f5bd194f05523a8fe0f21c', '937a1f32408089707e289140143c6409a26a42961c15151304936cd1dab99269', '6dbfc793c43c40065bbc612b87dc81560daebab57240fa7a035b7252d28ce862', '829278c6fa60a7e1852360fde9e1cad44a058030dc4950e48f15448bca7e232e']\", 'send:1344120037', \"send:['0316c2e6c02dc746c833c01f741d3a1c81ba8d0ceddb6a8b19221b0ac6333dd3', '615f1482bb97c0d96cc1750eeae80622d6b86d87cd2d2d7250919fc390081f73', '126e58dafa0626ed91b4c0d5ebcdd27687a7c4bbc1ce8b1ec23ad75a62fec08f', '01313b19465b68765323fc7b366aeea54ed8c76c165fd0854d83cc12cada0f4e']\", 'send:229291717', 'receive_random_int:252', 'send:308619661', \"send:['0a390f950f6732b6d1be95031c5f175575c7bc8800f96c7c928e93c75a6d0a3a', '089168adff2327db54ad7b1d37910809b4ba3f151f7bc214c3e9ca3030b2983c', 'e6dc2aa2565645c253ac43167b21ffb60b0b47faac2891377fcbffcc6f3eee70', '998c684a2f7235ca3b6f7dc8573bd3baf54561f10e73a6cbd6b2160ca8a81004', '852c4754449e2420ae37958269468225a2c74ed3f8fb5496a2ca0f1896fbef83', 'f45ee5950c1a69464d296e9a0c7c90f256c122a587ed1a51b5315b720a37056e', 'b4e469407034e7434523c325cf3049e777c978adc139ebfa3fda398416d0e3c5', 'a09e4b02ed5d5112d64ec9398224f0e7bf055beeb3a8d756eef8fcb5088f1ff4', '2fbc97ac9005643912ca55e673b08d36eb72082536b39b91ee6c73960754f8d1']\", 'send:-897955075', \"send:['c9ae46a7ae6285b111cef488c31733298d760ff9ab5bb4f06c38dd0e29a229b3', 'a4ee91b74cdeb6e3deef11e3497b9fd805bcf6cd253ed79ddbaf166e472a9030', '931aa1796718baba47b688e12bcb20a03bb080eb920ff039da3120d0f3f25d11', '4ff201ecb291ac3057bbd4b0f2a6d203fc0904cbf0621d3a10b7c73e9f025631', '75d2a58d12ce3e25ed71594cce0343a4ac584ffd22aef3f825b29a77bb210b36', '50b50a336fae20a6823ad0ea572bb01e1d1cc43fd39c218fe9570e65094da6bd', 'a353faa178b6f8b188f487349ab5129f392352d673cdfb6a3e3fdd78f119bd8a', 'ba18f0d5be6375c459894275866bfa24657b1e3758db68ee83f8216a4d10da20', '5f3efada77fd63eb01595bbe342923bab83402b61795d546699cfc8e3ba7bf45']\", 'send:1411832395', \"send:['c9ae46a7ae6285b111cef488c31733298d760ff9ab5bb4f06c38dd0e29a229b3', 'a4ee91b74cdeb6e3deef11e3497b9fd805bcf6cd253ed79ddbaf166e472a9030', '931aa1796718baba47b688e12bcb20a03bb080eb920ff039da3120d0f3f25d11', '4ff201ecb291ac3057bbd4b0f2a6d203fc0904cbf0621d3a10b7c73e9f025631', '75d2a58d12ce3e25ed71594cce0343a4ac584ffd22aef3f825b29a77bb210b36', 'be33c4018048ae18c92ca2b1a89ea39b0f652fcae65586bb13a40cc3d83ff2dd', 'ce31925773d49d2a980e90bc8d78c0a87e304a8a17f426645fd8d305d9afb1f1', '08486a0b31ae5cff42aa817b31854abb227186cd5dd0837a61820ed99fe28257', 'f6467c58fee0371ffbca5be9d811a130105a75df527f4c53e3ef735504ef42f6']\", 'send:-1046525948', \"send:['954392f0cd11ad5ea94e18e71580a3648807c204673e16dbc57f83a5afb2e8ba', 'faff8afcdeff1b2680b98e354a344e8b59a50060fe0db93a9d02099253bcd68d', '9f3f29739d823769ff494c41f9f9393222cc11d0f2e2a9a8dcbd8f9680bdae6e', '0bb6d3aff6c86c9dba1e2ca399a90c8ed472d44d2d78226c08e7369987d4374f', 'e3cb5fe772d3223d17c23992f08eec1863ac81d951517468bf085d692fd25524', '6ce028adf5d136d457239fe346e790149e249053c3e4ba0cf20f667b397716bd', '0e3cb4ddd5da9a5f75215b3d330e2043240c06e60028dc16c3b88b9a25691b05', '2f38adb37b0a8ea8ef5ac2d01949c85732a7dd41b21216db1324fec3f0ee3ce7', '5fd4817583ca16151699600b447d3ae9f11f368f9c4944540e7d3886979787ed']\", 'send:-277520015', \"send:['66f896014d9fbbe340665eeabac9c552eb7412cef08a924faa415ea62272a77c', '13a9923e295aafdeac4b80a6dc289e02c5355b13ff4db5a7f12b8160a941e264', '15b91ffd4c14a73f6ef81a7986843f225d778eb3a8dd63ddda573b61ae282e7e', 'f1a1f52c518085b8e626344686d2d2df2607e187219510fc811b32575570ffdf', '441c47c3a65ff9df23fe44af33be1b8005a1c03c40907b0229b0d43e37a9f65c', '7f340a38020a4109c88823589b95bb2acaf792a18fb60307e24d9d65efc87d67', '2bd80458f2978f909652b1b95257ba0d2e26a2ec840b400732aa131263497cfe', '7f508c0b13f9856cac90dc24dee171457c4cf575f5979b0674a358d9aebe062c', 'a8265d8e3bdbb520bd32ac4f89f29df21a1de8aaf0d88b3e8a8954a506dc950b']\", 'send:983745134', \"send:['94cca51a2f4d85d9af2db317b18e7abcbc2300821688fa37da5bbdec7a715e5c', '2e1b84ca05c458c261be9f5f443e53a3c7fe50874b60c7eeae278b8a8af3d6ab', 'b216411d8303a5e9e0fbbc96029339582c620abcb85af66612d177eccdd85121', 'cbc103581562f7d2427ab0f1cdb07fe29e1997284619777ac1e4c6129687d954', 'f6f237d596a1f70e1acfd957a675af96fe0a7499c76a80fd85e808f5d3f15d75', '80e304a21cbd0d1b158b624f9647ef455e193e9d5958132738c02fd0f9420a89', '26e468f99753529f1227589c879f12d0163aaa1b332c51bbb7ed6082c149318f', '7090a8a303e50b551600cd74085a933d6a7894615af1ccc9b34d0befbcbec10c']\", 'send:-1261172552', \"send:['a2347f57cf5f93fe2c14b47a65a5fa5ae2b35ca38b9be61dfc538029aa9c0867', '85808cb638e27588f79b589e89a9aac82544aa6e612a0463c7b78ce813f397ca', 'ad6e698af33e7f875f99d3273bc709c27eaefd324b2e7fef3f2872679d81f259', 'df34871f99b351336d7f6d50118caabb95274d2dda21a678115aad9053b7fe9c', 'b2c839dd35ec681f46f9be9dc3982e85f158a0139aacc415fbd1299aa4f9968c', 'b312cb9ce0f1141395c64884b51468b2bf901adf9d6bf72834e28bc68190cc06', '849984827a533a072f09d554605ea47d89f31d4c06aa039f2ebf1e3beb07b758', '7a139656f2eb080e0a7b74221dfbca039b8cdb4e99f943d536d1c638b2550a48']\", 'send:1097870532', \"send:['39608a931d7a5d97f56f342747268068c21b989da3c40acf5c01cd50a93bc887', '4a631ba8db2b1c4b5231b1372703767fb5354d8078a6518e2258ab2a712d3b13', '4d33e5080e60931bce611d2cf82f3f9745f4d0ead6f0f317a911f101a8d14c8b', '57e0a660aa03a1ff04e738ddec1757abebdeb9e98c85904f6464311f592c0a3e', '6e88a3d557d6cb8993c6d08be415760fd768ec411402b952a1eafca0807207f4', 'cdc3fda8ec6529d1d595440d0c3d9c0b952a22064c980d5794735554f51083a6', '1cb96dccd70bcba27b4bfc1c634ef72bedcd9ab3041864bee6428658037b2625']\", 'send:-831927675', \"send:['91a5c3576fc35f24ea3c07665b96f887258d5ef684c19af97ed04842acfa9e9a', '36c58658c35b9968051863eabb0c7e21263d41b91003fb4cffcb3c1f2b1f65ba', 'd933d4ea0dc84158baf5127c67d8af4870d451c62716d9490a9fc0e0b54ce0c8', '9cff5dc3cb3c09094f53b733674d0c6992380ed13784157f93ed2f0ff4b41df6', 'd30c25499cfd35aad4ce992131abd787845db534ca3cce2e5d2d607ad04b7b82', '4be838e88173e1ef7e2c73ba4f077a8a355b95648a468c63cddbc4c0911981ac', '8000eaadcf2ab88b1b370a80a33c5132125f357d4f90d416d3b61d50c9fd8d44']\", 'send:-815649894', \"send:['73bf308c3e2280798bd5cc8252d295c8ae0ce443908e409aef5d6c7010a6ef68', '01224224ce35e6897f63d1acf2710212dc28207be6cc3ff9eb69fee97901200d', 'e95ba1f110b87e91eeded7e929f62e08df6b48a99d4b75794b589eb775af1346', '935564f9aef4665ec0a50b513c06c84f55db93099c3607c58cc897bda5c4760b', '26701ff38e391ac4406fff261a17d1407bcc5fcc9d23a82d5e99b8583965a364', 'fc8955bbfacccb55a7471876d33d1c4c9482fe38f7680c47f3b698327753debb']\", 'send:-454542007', \"send:['c6bb7726596ee14cbc351a7389186640ba10025bf67d2af852b39174d036df7c', '219fecd11f61f3bcc7c1c67f9336ad2eedcf54bc05e490c342cb41bcfabc3bf6', '7d3d25fa792122d5b4542814275cabfbacd2ecca3ac57e6306f2114bee1e6bb9', 'c136e1a9ce0670c88d617803dc54dc6f677030cce56adccb360f2f782f46ebcc', 'b7d1bbd470eb03c233003f116763b4777f5578f1c9243d49dd6db027da1774f7', '0a788aed75c7a096fa486a054202563236f19d979316bbfb0e088ac89571974e']\", 'send:-66760905', \"send:['76bb851711d2d00137211cba20be9867cc40976984f2aa133ed0e270abf4faa9', '4c9fe5460250941aaad5f97fe2f7e62376f5643681600bd30508e3972e63d815', '03a43b2484dd9475fc85bd95aaa753da11a4f2d642a2acb5d354e832feb1514d', '9be05646948ff00e595393a6c7faf4540e59af905065f052d9a0f01ae18c7626', '6444f717772d6e90f84a5aec394258e9225633ab42839d81750ac2d6432af09b']\", 'send:-706611327', \"send:['adf03b97eabb2b185c110b6ff66f7ae07387590adc82f7e1a2452fc7062a646a', '32800be6cb0902237cacf4b2b2e9fa2e9627fb04518a6b009755ed5abaf55e53', '3f92a233c21cf5c172274a7ee9d752374b25c224c3021f0a982bd50db73ba810', '758088749bd09ca3cc84ba420751b332efbad2e006e6e966f6f81cd840313593', 'ea82e0fe0c29570f4bb9d0f2670b0da1d50fa857bf1ea3e7be757a86428dab4a']\", 'send:-190962577', \"send:['d47cf5aa600810ea5501b503dc1fec8afd05c35f03f5bd194f05523a8fe0f21c', '966d3ffc90e431f766b4bea1d3e03707abc39b5409f525d410c2e18db86b61f2', 'a13b9894d9d0192ed62cb2320f28f14fcb6f6327ef63630b917b71f9722d9c36', 'f3ad45d363d9e3c3a761fd173deaca26b78cee114502ecd6ff62713500163a50']\", 'send:-284597873', \"send:['0316c2e6c02dc746c833c01f741d3a1c81ba8d0ceddb6a8b19221b0ac6333dd3', '3c3a7126622910eea6e143524cebeffb6a7625538ce7c65fd82e3d2abaf317b0', 'a5dc54838597696751852a5ffa2f20b4b4bb0bf0749baaa8371554e71791135c', '678de8df92882aa64e1264c8d105760f246b602e6207a597e596b3ea6a8861c3']\", 'send:229291717']\n",
      "Overall time: 0.4680604934692383s\n",
      "Uncompressed proof length in characters: 23796\n"
     ]
    }
   ],
   "source": [
    "def modelo_dos():\n",
    "    \n",
    "    start = time.time()\n",
    "    start_all = start\n",
    "    print(\"Generating the trace\")\n",
    "\n",
    "    # Tabla de Ejecucion\n",
    "    a = [FieldElement(2)]\n",
    "\n",
    "    # a_{n} = 2^{8^n}\n",
    "    while len(a) < 61:\n",
    "        a.append(a[0]**(2**(len(a))))\n",
    "\n",
    "    \n",
    "    # Siendo n el orden del subgrupo\n",
    "    # n*k = |𝔽×| , busco k tal que |𝔽×| = 3221225473\n",
    "    n = 64\n",
    "    mod_F = FieldElement.k_modulus\n",
    "    k = mod_F // n\n",
    "\n",
    "    g = FieldElement.generator() ** (k)  # Busco g^k\n",
    "    G = [g ** i for i in range(n)] # Genero el subgrupo de orden 64\n",
    "    \n",
    "\n",
    "    print(\"We blow up the trace (Extend the trace) 8 times bigger\")\n",
    "    \n",
    "    n = 8*64\n",
    "    mod_F = FieldElement.k_modulus\n",
    "    k = mod_F // n\n",
    "\n",
    "    w = FieldElement.generator()\n",
    "\n",
    "    h = w ** (k)  # Este es mi generador g^k para el nuevo dominio\n",
    "    H = [h ** i for i in range(n)] # Genero el subgrupo de orden 8*64\n",
    "\n",
    "    eval_domain = [w * x for x in H]\n",
    "\n",
    "    f = interpolate_poly(G[:len(a)], a)  ## Este polinomio pasa por todos los puntos que nos interes\n",
    "    f_eval = [f(d) for d in eval_domain] ## Busco la imagen en todos los elementos del dominio extendido\n",
    "\n",
    "\n",
    "    f_merkle = MerkleTree(f_eval) \n",
    "\n",
    "    channel = Channel()     # El channel nos dara datos que deberia darnos el verifier\n",
    "    channel.send(f_merkle.root)\n",
    "\n",
    "    print(f'{time.time() - start}s')\n",
    "    start = time.time()\n",
    "    print(\"Generating the composition polynomial and the FRI layers...\")\n",
    "\n",
    "    ## a0 = 2\n",
    "    numer0 = f - 2\n",
    "    denom0 = X - 1\n",
    "    p0 = numer0 / denom0\n",
    "    \n",
    "    # a[60] = (a)^{8^20} \n",
    "    numer1 = f - FieldElement(2)**(2**60)\n",
    "    denom1 = X - g**60\n",
    "    p1 = numer1 / denom1\n",
    "\n",
    "\n",
    "    # a[n+1] = (an)^2\n",
    "    numer2 = f(g* X) - f(X)**2\n",
    "\n",
    "    lst = [(X - g**i) for i in range(59)]\n",
    "    denom2 = prod(lst)\n",
    "    p2 = numer2 / denom2\n",
    "\n",
    "\n",
    "    cp = get_CP(channel,[p0,p1,p2])\n",
    "    cp_eval = CP_eval(cp,eval_domain)\n",
    "    cp_merkle = MerkleTree(cp_eval)\n",
    "    channel.send(cp_merkle.root)\n",
    "    \n",
    "    print(\"El polinomio CP es\")\n",
    "    display(cp)\n",
    "    \n",
    "    # FRI Folding Operator\n",
    "    fri_polys, fri_domains, fri_layers, fri_merkles = FriCommit(cp, eval_domain, cp_eval, cp_merkle, channel)\n",
    "\n",
    "    print(f'{time.time() - start}s')\n",
    "    start = time.time()\n",
    "    print(\"Generating queries and decommitments...\")\n",
    "\n",
    "    len_query = len(eval_domain) - 1\n",
    "    decommit_fri(channel, fri_layers, fri_merkles, f_eval, f_merkle, len_query)\n",
    "\n",
    "\n",
    "    # Verificamos\n",
    "    print(channel.proof)\n",
    "    print(f'Overall time: {time.time() - start_all}s')\n",
    "    print(f'Uncompressed proof length in characters: {len(str(channel.proof))}')\n",
    "\n",
    "    \n",
    "if __name__ == \"__main__\":\n",
    "    modelo_dos()"
   ]
  },
  {
   "cell_type": "markdown",
   "id": "cb4f3389",
   "metadata": {},
   "source": [
    "Obtenermos al final Uncompressed proof length in characters: 23796\n",
    "\n",
    "Vemos que tomamos\n",
    "- 0.075078 segundos para crear la traza de ejecucion y extender el dominio 8 veces su tamaño\n",
    "- 0.08616 segundos en generar el Composition Polynomial y hacer FRI layers\n",
    "- 0.4645 segundos en total\n",
    "\n",
    "Observamos que tiene un desempeño peor que el modelo anterior. Esto se debe a que al ser la tabla de ejecucion mas larga entonces el problema es mas largo en general ya que el polinomio asociado va a ser de grado mayor."
   ]
  },
  {
   "cell_type": "markdown",
   "id": "975fd0b5",
   "metadata": {},
   "source": [
    "# Modelo 3\n",
    "\n",
    "2. Considerar \n",
    "    * $a_0 = 2$ \n",
    "    * $a_{2n+1}=a_{2n}^2$ \n",
    "    * $a_{2n}=a_{2n-1}^4$.\n",
    "    \n",
    "Sabieno que $2^{8^{20}}$\n",
    "\n",
    "|$f(g^i)$| $a_i$         | Valor     \n",
    "| :----:    | :--------------: |:------------\n",
    "|$f(g^0)$ | $a_0$        | $2$ |\n",
    "|$f(g^1)$ | $a_1$        | $2^{2}$ | \n",
    "|$f(g^2)$ | $a_2$        | $2^{8}$ |\n",
    "|$f(g^3)$ | $a_3$        | $2^{8*2}$ |\n",
    "|$f(g^4)$ | $a_4$        | $2^{8^2}$ |\n",
    "|$f(g^5)$ | $a_5$        | $2^{8^2*2}$ |\n",
    "|$f(g^6)$ | $a_6$        | $2^{8^{3}}$ |\n",
    "|$f(g^7)$ | $a_7$        | $2^{8^{3}*2}$ |\n",
    "|$f(g^8)$ | $a_8$        | $2^{8^{4}}$ |\n",
    "| $...$   | $...$        | $...$ |\n",
    "|$f(g^{40})$ |$a_{40}$   |  $2^{2^{8^{20}}}$|\n",
    "\n",
    "Observo el patron \n",
    "\n",
    "* $a_{2n+1}=2^{8^n \\cdot 2}$\n",
    "\n",
    "* $a_{2n}=2^{8^n}$\n",
    "\n",
    "De ahi es inmediato que $2^{8^n} = 2^{8^{20}} \\rightarrow n=40$ Por ende $a_{40} = 2^{8^{20}}$\n",
    "\n",
    "\n",
    "La tabla de ejecucion tendra 41 elementos por lo que se tomara un subgrupo de orden 64.\n",
    "\n",
    "Los polinomios asociados son\n",
    "\n",
    "* $a_0 = 2$\n",
    "\n",
    "    1) $f(x) = 2$, para $x=g^0$\n",
    "\n",
    "    2) $g^0$ es raiz de $f(x)-2$\n",
    "\n",
    "    3) $$p_0(x) = \\frac{f(x) - 2}{x-g^0}$$\n",
    " \n",
    "* $a_{40} = 2^{8^{20}}$\n",
    " \n",
    "    1) $f(x) = 2^{8^{20}}$, para $x=g^{40}$\n",
    "    \n",
    "    2) $g^{40}$ es raiz de $f(x)-2^{8^{20}}$\n",
    "    \n",
    "    3) $$p_1(x) = \\frac{f(x) - 2^{8^{20}}}{x-g^{40}}$$\n",
    "\n",
    "* $a_{2n+1}=a_{2n}^2$ \n",
    "\n",
    "    1) $f(x \\cdot g) = f(x)^2, x \\in \\{g^0,g^2,g^4, ..., g^{38} \\}$\n",
    "    \n",
    "    2) $\\{ g^{2 \\cdot i} , 0 \\leq i \\leq 19 \\}$ es raiz de $f(x \\cdot g) - f(x)^2$\n",
    "    \n",
    "    3) $$p_2(x) = \\frac{f(x \\cdot g) - f(x)^2}{{\\prod_{i=0}^{19}(x-g^{2i})}}$$\n",
    "\n",
    "* $a_{2n}=a_{2n-1}^4$\n",
    "\n",
    "    1) $f(x \\cdot g) = f(x)^4, x \\in \\{g^1,g^3,g^5, ..., g^{39} \\}$\n",
    "    \n",
    "    2) $\\{ g^{(2 i + 1)} , 0 \\leq i \\leq 19 \\}$ es raiz de $f(x \\cdot g) - f(x)^4$\n",
    "    \n",
    "    3) $$p_3(x) = \\frac{f(x \\cdot g) - f(x)^4}{{\\prod_{i=0}^{19}(x-g^{(2 i + 1) })}}$$"
   ]
  },
  {
   "cell_type": "code",
   "execution_count": 18,
   "id": "05e087b8",
   "metadata": {},
   "outputs": [
    {
     "name": "stdout",
     "output_type": "stream",
     "text": [
      "Generating the trace\n",
      "We blow up the trace (Extend the trace) 8 times bigger\n"
     ]
    },
    {
     "name": "stderr",
     "output_type": "stream",
     "text": [
      "100%|████████████████████████████████████████████████████████████████████████████████████████████████████████████████████████████████████████████████████████████████████████████| 41/41 [00:00<00:00, 3456.13it/s]"
     ]
    },
    {
     "name": "stdout",
     "output_type": "stream",
     "text": [
      "0.031846046447753906s\n",
      "Generating the composition polynomial and the FRI layers...\n",
      "El polinomio CP es\n"
     ]
    },
    {
     "name": "stderr",
     "output_type": "stream",
     "text": [
      "\n"
     ]
    },
    {
     "data": {
      "text/latex": [
       "$ 498817597 - 71321256x - 681351363x^{2} + 596007911x^{3} - 822914346x^{4} - 962048030x^{5} + 1401345193x^{6} - 1318734083x^{7} - 1050504438x^{8} - 1310861265x^{9} - 607676201x^{10} - 1026363773x^{11} - 1341576874x^{12} - 298944295x^{13} - 558365291x^{14} + 1382554280x^{15} + 625907064x^{16} - 646393542x^{17} - 1398244374x^{18} - 377299333x^{19} - 1532393133x^{20} + 117493444x^{21} - 932056863x^{22} - 287512105x^{23} - 185722742x^{24} + 1530994548x^{25} + 1295803036x^{26} + 1496898994x^{27} - 1536936742x^{28} + 1290843352x^{29} + 439919915x^{30} - 1204033282x^{31} - 210466069x^{32} + 909631779x^{33} - 180373975x^{34} + 1277461833x^{35} + 1372028474x^{36} + 1184295379x^{37} + 1034787099x^{38} + 488739463x^{39} $"
      ],
      "text/plain": [
       "<polynomial.Polynomial at 0x7fee1409c7f0>"
      ]
     },
     "metadata": {},
     "output_type": "display_data"
    },
    {
     "name": "stdout",
     "output_type": "stream",
     "text": [
      "0.08926200866699219s\n",
      "Generating queries and decommitments...\n",
      "['send:8990711248b43781f8fffab1507823615670122853e65d59a29967fa73937d80', 'receive_random_field_element:764246289', 'receive_random_field_element:2837830382', 'receive_random_field_element:2201253843', 'receive_random_field_element:2649127945', 'send:f563ce73fffd8ca45a4b1a9e3cdb5dddb5f4184fce36836f4892a4d48cffed96', 'receive_random_field_element:2288949843', 'send:4284eaa2e1a17ee4ca411490296ad02ae56081b8b8c8a945935e7ccc7ca3d8a4', 'receive_random_field_element:423632064', 'send:8f2c5f2fbcde3b2cda26de1194126db9c4b1c96f75fa7ebbb6ff944910ce8f94', 'receive_random_field_element:2753483072', 'send:261392f201480d09bfd05112ea39ca060eb9f47525d7d8bb61cde6a5d57f7ba0', 'receive_random_field_element:395691077', 'send:bab70f37bba1af271c6003f6e5831b4d9b8ed12fb4ae79b4a972600b5b9da679', 'receive_random_field_element:742971178', 'send:ce75b155cd6c66deeff6070328a02f18f8ddb21dfbf1287193eeca72a07bd177', 'receive_random_field_element:1064546337', 'send:d372b4768bf26ea535fb86ae5f43e95e4d05b3427bff6e906b111ae4a235cbb5', 'send:-152045548', 'receive_random_int:69', 'send:-841852396', \"send:['6f0d26f7abb90b4f5107035720ccefd584f18ff629dbc1ec7a5a8b007783710f', '68bc1a8ce7eb1577646385e1023d9c4569ece65bde4c7fb837c5652d140dd566', '1edb2fbb6c094424c0765ab24acd5e67806cd8f25fae8fe594eda6cc09314616', '6c6173e092cdc635aad3f4abbc874487f276ca66f1ef290dac0ba2a5fd8a101f', 'c903cf2673992107848598dff7f4617f16789fb84f7eaccc569f84d9172a8b38', '1a6a1776b335174c0cc888c45e7e3fcbfdefebcc8bef109235cf01746fac25d9', 'ce4d642b84edd8909f8322245a031449bce3bef0871657223723c3d4173101f8', '8c1619c93a21bb03ce4ef758826d1e9148e48e5206045bca7aee01f2b3a581fa', '96ade49ae3acd22e52dc5b4b2101a76e361bf03b6caa434e041c987fa35fa9ef']\", 'send:209787952', \"send:['6f0d26f7abb90b4f5107035720ccefd584f18ff629dbc1ec7a5a8b007783710f', '68bc1a8ce7eb1577646385e1023d9c4569ece65bde4c7fb837c5652d140dd566', '1edb2fbb6c094424c0765ab24acd5e67806cd8f25fae8fe594eda6cc09314616', '6c6173e092cdc635aad3f4abbc874487f276ca66f1ef290dac0ba2a5fd8a101f', 'c903cf2673992107848598dff7f4617f16789fb84f7eaccc569f84d9172a8b38', 'f17e18330ad3b7c0a21e79609243aff1cf7aabc1be4fdafe0868f174f1035aa0', '1596a1f5c39e6fbce82ebe54907beffb35263cd6944983cc1b77a8d0e004a782', '3410aa7b8d94cfb33d3167f6b3d479acc3d778f4de8ff02b9b66947e2d7f53d1', '7e4205bedfee748ebbba7b33f3e0deec1035bdba214a81bffb0ed5bf1a3a5330']\", 'send:172225217', \"send:['6f0d26f7abb90b4f5107035720ccefd584f18ff629dbc1ec7a5a8b007783710f', '68bc1a8ce7eb1577646385e1023d9c4569ece65bde4c7fb837c5652d140dd566', '1edb2fbb6c094424c0765ab24acd5e67806cd8f25fae8fe594eda6cc09314616', '6c6173e092cdc635aad3f4abbc874487f276ca66f1ef290dac0ba2a5fd8a101f', '50732a3b753053a12d5445668f50753b6e3a2d0b63d023f9c507dd8639310282', '450fc3cd437c77302c242863edcde8f77e72c58e25474b5c9942378598ec9286', '6f808c966b22151f08c510fd8ecfa6323e2d593acb55b9030cda117ecc7decd3', '5e08f683403fab7367c0eba2fe84b9c852d15c8910951260da9ab6354564a3a2', '4ccc0eec914105838e549420aae8b9b00145415b6d37449b90e7c3cd0f46d3cf']\", 'send:-393273226', \"send:['66724138f57231c9c41effef7dc3d0a246500b96293f273a928b96731210676f', '615fb4941ecfdf17b3e93d3d66222a3cc29032744b406d95872ab6321c11c810', '66857437ca12401032430cb922ee08bffa0d53367724b032b1892c6aeeea7fe4', '8c856e25417fb7c50608fb3fc0d04cd73a38852eedf5c7fe4d36682b488a422a', '388563373f1c1bdf1635ba726d6e6dac0e7fe3c279a856eca15211f014c730b3', 'cffc946a40d8bc0603350207abee1c52c97b8780d8e88f07790714d72de32b2c', '860e9cf43a9c7a6bb64a660ff22045241d31dbbccceff6eec291a8c0c1a05412', 'cb0bf5a397f997383e1161a455d7c4eaa20f439c2ca29e276b511e61f9e77bc6', '8a5b8a0653a6aa2bc25c27c2df2f7e9472c499339ea60028e3c51d9fbe71e6f1']\", 'send:471894480', \"send:['333542c2d3d3a0f9ea86ba2c755af46be32d0c017dd7a02432f42aa005ebd0d2', '2f4e454fc37092b9f48e9c8fa07eb8179229e51d7f64886a78976b90d3b9a0b8', 'ff92d015d1885424aeca43f5ff3cf928dbefa5234b19dec782194c6a1e29a4d2', '40de8589aaa42c904807fa6e27bed1520b08d547f85eee7cea293dc17fa26a2a', 'a0648da22029d4601001946774c82817d8db7f67c8649b9047bc28ab9eea8466', 'ec9629346b0f371f7a11e8520cb9b2b49d83af33bf11c70ad6c8a2970659ebda', '8edbdd17367974f6c7a485fb2558031e31c62ce68d6f1040723a9f205e840d4c', '84ce22b68287e951207d6a9beb04d317401109e331370786eb59ce832e01fb54', 'e13d526328d710126dd68eab6625f2e52cb275ce4a3b93fd07140106f53ed4f3']\", 'send:412600454', \"send:['a6a9586cc0db0db8ac692d4ee1539317061342e4b52050412c91ea8fc2b8bb31', 'f477bd4d6a29c7f34e7c35af5e290d113521157a35c518e8896bfe8f6f2a780b', '8bc8d670a34c47975ec4b47923cdeab1fbdcd1c89d39c826ee93aea2d37eb5cc', '43b1dfeda1f8a208268049b2d0d445887561e8633fbaff10f5b9a7745f723406', '4a209b34eefaeaa78fb1c5bda773a355c3101b167271a8b00c27a76f44d5dc63', 'cbfdf11260085950630f25717be7a6f74f8540b0e438840146a02ef8237883c9', 'b3eaba3e1c48f63a9b2477087f7cb8d6d3ed3ee56b0a512ae23bae54d181a4c2', '9747d973f320b73ba149b81fc379038fb84c74ee1e02c926a6744552025484dd']\", 'send:639713953', \"send:['32b3d2ba1a8951b8c8f7a341c9d94053e616b1ff0fd4ec3bb98e1821bca12187', 'efee074952d9b7902fc38bc9cac847074b3bb246c9ccea76c3dfe418152fe2dc', '094ac27b69c30540495faa782ebe87ef87fcb8d0da46492772c0f23203777371', 'efac4f1b3a35fbf7ece9701900fbefe8459dacedffbfc6319fd60ba2e06bff1d', '69ee8805901ef185b860e714924e2c848e4e5f719b8e77401d6e3f193b3c7f15', 'cada12050b7988d8c102ceffa3f6668168d1349a49bc9dc5e67481b1d29bc4e3', '9300f7a6f767dd33a3f68bddbeb9bd16282034d705ba05e2ce22d87f0d374828', '4d8fad4acfb90d8521261e20e857b0fc0b3a1be6765fbcc66496b1dd530cfaf7']\", 'send:44181967', \"send:['58e208aa8f2da72a2f0e190e90f7b67e9c1cec10a2e31da212bcd3bf925988a8', 'eb0d1dd43bc6b7d23292ac0f6710df3ba0600b15aec5b3b72fd7ca11892ec5a2', '0e53515867d0689f86b348e9235da4e9d180ff6cd6995e0cc11c9033019ff6f5', '75bff27a3f1701faa4347101cfb70d395cd09cd6ad798c67033f624dcb156c3f', 'c2f6257bd0a31d0cf337d68734cc64ff6d5101a894b90cd006efe0bb47793dd8', 'c96a374ee5c7c78c0f8c1c9af8e9acfc96c3f3d99b6764aa1e03f6702f865266', 'd323de794a1031e11baee6db3b56474c881c415a0ecc55ea9d30bf3861052b71']\", 'send:760678229', \"send:['f0a62bf3344333d2257223d0b86e5a6616f6d4b7d5798297cf486035eb3ce4aa', '5ff672872d668de32e062d57d72d358bbaa14393b16fdcca7610d5f2abc0c331', '48ac8117daf23250b20b6bbb95fdbec5045dd18ce410787876a35254d1f06f63', '7da0f80c4cdb5819d3f854f147944b02de154e419c5976e1538ed1f3d9b6f36e', 'ffc45fc4baa6bf485b6a903b607b5ae55dbc93fa5878be332e5ce9c06a302e00', '29eebfa5a378501d1e88662b7084e02c64aa3006254bf36e1ff16687ad3d2cfe', 'e5a4a0f68d4d25579d4afc35cc2b02a7d07341d45beef1a690da5ce9b4492a16']\", 'send:-880297452', \"send:['028becf5e3c90dbdddf42b443c78250dfca7f996fb8d077d0d956bce6c9dd129', '52bf568972ef0b80f9925c973a3f677d5056b90a936f6e1cb7b7121fd0cc8b63', '6c4e840da20ef2daf07d9e85faad5c28cfc52ba61cc2990cc335085974931e14', '8bf029b6b86e42344841fc58209da42de1fd44157f615792a0bcd6dc33b4bf27', '253934f5085876935c8f1db97c3e302cdf2f0d71c7a47666697cc1534bdf6c73', 'e3568d6cf39d128beb6636f204aa31909d75947ed997df3621de9d4798ee8658']\", 'send:1592400229', \"send:['de7d12f0d7760951134b2973e139b901c1a4d3c69fb419bced774c9e18c8c733', '69a3ac1bedd493dcd75f624ef2ad6a0867686fa67456d1f4771b3679a3681278', 'a5d1bfe57c097abb783b3ed72b24058be2411754e8dd9689831c49bd558d0ef1', 'd0b59e7d1ff60533659064878be704b1a3925973898e4ed72076d9030bf2af05', 'e79f7dde90c12396510dc7e111da785932c5007362caf2ee7978de1d5f845859', '9c2cff756026a7a688d7f22a6fbbebd68d1903fcdea250701ffa4494cbc692f4']\", 'send:-193711833', \"send:['adabad5a548f3df4f6002aa0f4a1f26080ef5270d07257dd84ccfe3903b0ebe4', '1d4cb6925b3ef9447bd7454d18dcca11fd2f76b1b0288f92db67546141436ce4', 'fdb3d4ff017477d578e15ccf325b8e8bca129cad6fdd6f4f656b7c977d083494', '4ee4123bfc5967643f84e1c49d7cd4c5d9eea41e331a4ec7bc414b43dbbe0109', '2703c0336f8341b2364d4a96c497fac3c4f77fa875f18f47d090e57bc431dd1e']\", 'send:1320655879', \"send:['9afb2d0fbe4855cd40ed5e789110399fdb00bc1aee9f87b49b015b8a38bc0cef', 'f64995784eca0327d4f8b9d350f241008cc7e32f62b3c2df7b0de43dc74ac3cc', '8c2a7b30b4e41f530f54c1d560abe106101099c7123bcd1bba4b1455448c09ad', '4812de194f0c3d655b75c9e1ac5c608f20a66d4c62db35550e7bf1c686efb44b', '7a5653e2fb1d3c30e17f970a4cd0392a5f443d9a2c849d74dfb56c36fafdb6b8']\", 'send:-539153764', \"send:['c9ffccf82b56b735c946b2a415ea76fd3f7b49d468b562b420be3f263e86f74a', 'dfcb04b7f6b88b14d94407a5a300373c9a4cb742c7b1717d4820780ca45adb2c', 'c3bb2d101b612b2c335ef80450aab25f022cf81247366d9a4a85ea03747ccd6c', '2464abb0149d958b6ee7ef12f223ae5e47439be426a1fb1dd0ee734b8a128e90']\", 'send:-456544213', \"send:['750eed1b1de0c6c79fc33f4fc55fbd642ce9e00f40f04f7720a9b7ab967bcc79', '492603af0ef62e75fe61d9f0f5297fed79d95cc48ebbe671bc8f6c22b878e453', 'd86b7ce446a13015b813a3bdfb418b667dab18366d2f65384ff25702d12b10b2', '9b5f1614de96c5a5dafc768469b114fb703b5387f116d357580c8e50d9099ab8']\", 'send:-152045548', 'receive_random_int:116', 'send:-1370221925', \"send:['6f0d26f7abb90b4f5107035720ccefd584f18ff629dbc1ec7a5a8b007783710f', '68bc1a8ce7eb1577646385e1023d9c4569ece65bde4c7fb837c5652d140dd566', '1edb2fbb6c094424c0765ab24acd5e67806cd8f25fae8fe594eda6cc09314616', 'aca8451821907a6c00b4941918c513c17d7f993914c3004e107e6d2550a0cbfd', 'b575909927091f83933ad4bb7681cd7a1836102b0fb7ae1a6c13cacc8994b8c5', '357e830ea719422a8d02e8c2c54cdf185034e9fadc636f6074f8a8b84d4730f0', 'e05c73655e460023e0f47f2f798168de3d8945fc263b48a17cf5a857b9727421', '48e1d8211aedf22ba3a784360ac5452d11c82f247035f92e30895b0dc49631c4', '0d7f3b86fc50ad26a78aa5e8ef80da785de1e28dbdcb325b8c27a1a52de453e3']\", 'send:-515343573', \"send:['6f0d26f7abb90b4f5107035720ccefd584f18ff629dbc1ec7a5a8b007783710f', '68bc1a8ce7eb1577646385e1023d9c4569ece65bde4c7fb837c5652d140dd566', '1edb2fbb6c094424c0765ab24acd5e67806cd8f25fae8fe594eda6cc09314616', 'aca8451821907a6c00b4941918c513c17d7f993914c3004e107e6d2550a0cbfd', 'b575909927091f83933ad4bb7681cd7a1836102b0fb7ae1a6c13cacc8994b8c5', 'a5f8383cf3e7e9b54edbfe77776ea31800c78d7fa7d870f4e317a293df764317', '695b9f5e1f7ced4f192d99e2d83d289c27c791dc8b629666e351df90ae75d7fd', '67d6b72e2e74974eeae9ddbe21eca5ca7320d1ce14912befa9ff1926aa4d4d20', 'a143b7803b00a2d5188039fa71ff234d2a4247eec3ea16be421d85216adb05a4']\", 'send:-968846554', \"send:['6f0d26f7abb90b4f5107035720ccefd584f18ff629dbc1ec7a5a8b007783710f', '991cf679c7210bbdfd99d209dd6415368a9e281908191724f68ed0a6cf0e4115', '071dc5698ef71bc62d43070ce03331e84a1341788035dca257b87a4feb74bed4', '1505fb27222d406af65943ac72d684e7b1480112d6649a8f6dd20aa56d0c2995', '74070c78f3ef0b8dabd8b1d2a3dc964a758d26428dd093e942d19110e15dc223', '10a9b1113395fdf3d476dcaa8059c99d2c88c492a99eb4c7c685c261b4381f99', '67fa43712fd0f91bea3789651d70afeca656e12729b7bbcc64729732a8348963', '5ba7a7590447435c8819227f5938e32374d3597ffeb5bf244485b8c35cf3f224', 'ac89af3ebc765be1bf5e7f0e635fa0522988ca447a1588ecfbb06c738146c150']\", 'send:-1572135689', \"send:['66724138f57231c9c41effef7dc3d0a246500b96293f273a928b96731210676f', '615fb4941ecfdf17b3e93d3d66222a3cc29032744b406d95872ab6321c11c810', '66857437ca12401032430cb922ee08bffa0d53367724b032b1892c6aeeea7fe4', '19912cd4e3116a060c62f0ea7b572ed0810febde306d4da7ca99f9bbd2c70557', 'a6e980ee8d7b4fb17f99c3251770c02ae0dcc3a0208abfe4a57edd42677afed9', 'f07b2d7e39cdac16eeafc498c3ffc2039447f714c23fe4e34453dfba85e2c082', 'f253d56cb2d92601fac44e0d315f42504b495d79584507c1e84880b1a322ee54', '63d21e6964020593788dcaa3fb90d1535656bfaef563bb85137af957c8cc6d34', '66c6dc50d0d55e5c699b2901bb0d4955f3aaa33ba91689e0b68d859c56436ac8']\", 'send:-134786017', \"send:['333542c2d3d3a0f9ea86ba2c755af46be32d0c017dd7a02432f42aa005ebd0d2', '2f4e454fc37092b9f48e9c8fa07eb8179229e51d7f64886a78976b90d3b9a0b8', 'ff92d015d1885424aeca43f5ff3cf928dbefa5234b19dec782194c6a1e29a4d2', 'a3449b7b69a6f05cb19328821e1c71f1e922dac43c177d42275d9e6945749778', '91602c6a53cbc17e6bbf0364058e423485d7d53874357d4cbca3bcd8fcd2142a', '40fe54cb1b10997c50e691a1d0ff6c3db9a824e034ff3159dbce75cf0e8ec935', '3692453e240b6d04a8b32409fc3233162bbf41f41b4619796e4927f8fa824ce0', '9b8ac477cb23c675db58ec77133402da5340d86bfc7effee78d8a1d470404d6f', 'ff7011da0712259755bb55b89895f0d75f25c413604b59502ec0c69ba6cad980']\", 'send:1606087739', \"send:['a6a9586cc0db0db8ac692d4ee1539317061342e4b52050412c91ea8fc2b8bb31', 'f477bd4d6a29c7f34e7c35af5e290d113521157a35c518e8896bfe8f6f2a780b', 'c7cd62e689b493d406a73ec0d33ce03836c09f32f594a0f5d81920879f5900cb', '509222669bda083fb3a885e13335cfbdf4ab5bff70f6b13690f83c1278504cb9', '5df673c76614025bf19ed08e11a5bd225288277749c685044c0b1d1788f0d44a', '2673b3ea46a9779efbef29dcd3ad38e650112d5887b09aaaa3a600560dbc9014', '4071a6c314972039dc65c1ecf2f152ab9f2825e238f66e2e62451b7a55c00dec', '6d0d2ab1f2cbfb15dd4fdaffcc7ea3d14b2c8e24851effb386607a11a5d2cc7e']\", 'send:165501516', \"send:['32b3d2ba1a8951b8c8f7a341c9d94053e616b1ff0fd4ec3bb98e1821bca12187', 'efee074952d9b7902fc38bc9cac847074b3bb246c9ccea76c3dfe418152fe2dc', '6391c5fc9ac953a5d4b6a1bc05cec2333188d37d166eaf42d0037dc9c4bf0316', '1ab6d4e24da8a05a2d0091278559263fed2c6efe21acf65b30dd4eb6298ad90c', 'e85537aa103762b24e5be9c17c0ae9c7b1ceeda56570ecdd082727ead67ddf24', '14fb1da40a2eab866ae1defbd9b4cdf2e0fcb9835aaf5166408ddc248f803541', 'ab77888f19505feda790049193090cb07b6607f7fd5a82d7fe8be3a99d2e3d6d', 'ec3613d9b347ccf5f9751538a0dab6cabd1b3f9cb65fdfa4aa0fb3bfd8ced1f3']\", 'send:-549530883', \"send:['58e208aa8f2da72a2f0e190e90f7b67e9c1cec10a2e31da212bcd3bf925988a8', 'ef5766c3a82c0ddffb3eb83ddaf209c458fd424a420f0be5a8ce4e7b19e675c2', '2f0f6a9f048fee34fa55136d1998cb735cbc08d0bc82ae18150ac942ff2d391c', '95fedc7fdc4982ab3b33a38e884805dc0861b95cd82aee6fa7fd5be82652088d', '1a5a95756e2d848fddbf212424de37839aef657bc04342d159802ebfcf98033f', 'f94e2532c782168e0f5affb46cc5a44c35775d2dba4dab0588a49cf393875e02', '5e8a38a413dade8e81a973fb13fcdacbe576f30d6a8129fe1b2e84be0bf1b2cb']\", 'send:-1121582424', \"send:['f0a62bf3344333d2257223d0b86e5a6616f6d4b7d5798297cf486035eb3ce4aa', '8868f7ba343e7eef4fd864df85ade010447727cc3f61b546419534db51f58a47', 'f4aab4eb97907eb87b4f91edd1b8496729c2649446d3a77b5614f0adf163da73', 'd64f8481ad379ba6ab70459977e2ebe101fb7e94c495c2226dde4103866dd3d9', '589cb50171102aef7e49cda6beb8820bd44c001c22fc4ec7f9a3c05e38372a51', '5fa86e4c65f55a67b6a0336f92114f598b3713f3d2e27c1a6ee066838c0b572b', '5d4974cd773253de2eb98e3a31089df6e1f55d08af7e4f933370f49379825edf']\", 'send:-418996134', \"send:['de7d12f0d7760951134b2973e139b901c1a4d3c69fb419bced774c9e18c8c733', 'f035479118201e3418e7d628a9e4379bc7f1954806c7ed765da30f806ab64a9a', 'ed3d0056d137b0ad27fe3db8608e38e8805704cd1f94fcc2dcdac7cbe279b237', 'ce3ceeb5d249d80a6cd486a06a8f3e0968863578cf0b7e43a9ac93db0e5f9dbd', '9dc355880d7a165919fcda23c17b1c186fe4eb518a8bde1b5c3f55f37d19975f', '93cc3615fe570b2321d7a98230269dfd60c384f98fe26716cef63229b5431f18']\", 'send:-308879873', \"send:['028becf5e3c90dbdddf42b443c78250dfca7f996fb8d077d0d956bce6c9dd129', 'a18fa1ac20dde548dbaf2a542d84ee6d0437f4cc42dd2219f05815f0d6e26009', 'fd690b6c6a1ee369630ae0d504650ecb818845eb6fd115326978ed6935e58b54', '1fe1afb077e60df75ef81cf2b046c4e80c829d740c1c1102748fc1bb9941cb4d', 'a2305a9b535d7d1f9be27c884b04f7dc2299fc70d10f5494ea72f961072d7a0f', '6bd8c0c12e0483b991f97a6e53a8863fc050ddfd358809ca7dd84da41323f29f']\", 'send:329841774', \"send:['9afb2d0fbe4855cd40ed5e789110399fdb00bc1aee9f87b49b015b8a38bc0cef', 'f64995784eca0327d4f8b9d350f241008cc7e32f62b3c2df7b0de43dc74ac3cc', '8c2a7b30b4e41f530f54c1d560abe106101099c7123bcd1bba4b1455448c09ad', '4812de194f0c3d655b75c9e1ac5c608f20a66d4c62db35550e7bf1c686efb44b', '1661df1a905ffc2921526b46a657222a6413048689b69af172bda3b992557ebf']\", 'send:77280354', \"send:['adabad5a548f3df4f6002aa0f4a1f26080ef5270d07257dd84ccfe3903b0ebe4', '1d4cb6925b3ef9447bd7454d18dcca11fd2f76b1b0288f92db67546141436ce4', 'fdb3d4ff017477d578e15ccf325b8e8bca129cad6fdd6f4f656b7c977d083494', '4ee4123bfc5967643f84e1c49d7cd4c5d9eea41e331a4ec7bc414b43dbbe0109', '480311aa2e1921f934ce670e4d068a53ea880d7c5eb722de2a0a08d3a62d62ff']\", 'send:-899064723', \"send:['c9ffccf82b56b735c946b2a415ea76fd3f7b49d468b562b420be3f263e86f74a', 'dfcb04b7f6b88b14d94407a5a300373c9a4cb742c7b1717d4820780ca45adb2c', 'c3bb2d101b612b2c335ef80450aab25f022cf81247366d9a4a85ea03747ccd6c', '203c60bb4b30367c4d73839f789113f42b56c9140e853e6c985c8eefee3a4810']\", 'send:-96633254', \"send:['750eed1b1de0c6c79fc33f4fc55fbd642ce9e00f40f04f7720a9b7ab967bcc79', '492603af0ef62e75fe61d9f0f5297fed79d95cc48ebbe671bc8f6c22b878e453', 'd86b7ce446a13015b813a3bdfb418b667dab18366d2f65384ff25702d12b10b2', '1e6612146756955763699ac06f3aedcd9de419a5887032c7605fb95b9ee2921a']\", 'send:-152045548', 'receive_random_int:339', 'send:-1607996997', \"send:['835d1384724e6c8a8142f807ea696f5f11a0658ed972db4f00566919d4825cb3', 'c26daea5e981d60a4acd09b547338678afcedc2804961cb102a5764656bb448b', 'd56c187733bb28b79000d0354d801383ec545cbd853bd4aeeee91993358581da', 'cdd8fd479a97f92a6b17fe9026609a72446f96e834c2825e7ea0a701c72fe514', 'f0b24b3439bca3adf85366e63f4510ac56e71db391caf2d796ec0a678f4e6dcd', '4764c8c3429d3d39bfac31ca441cf2a38c19827fb471050731d8e9c4fe1024a6', 'b98e022bd02c1801ffee2cc808a35a6fc46470d4b0d41cb5e720e958914346af', 'a36866272473226c5511ba12f2ca5b05cd5b4d3ee6a1ce3f0f18cd8083785375', '4db2f4b788127cbc55bf5b68aa783c32bfc223670305f27dd3f7511eaf673e40']\", 'send:-696044953', \"send:['835d1384724e6c8a8142f807ea696f5f11a0658ed972db4f00566919d4825cb3', 'c26daea5e981d60a4acd09b547338678afcedc2804961cb102a5764656bb448b', 'd56c187733bb28b79000d0354d801383ec545cbd853bd4aeeee91993358581da', 'cdd8fd479a97f92a6b17fe9026609a72446f96e834c2825e7ea0a701c72fe514', 'f0b24b3439bca3adf85366e63f4510ac56e71db391caf2d796ec0a678f4e6dcd', '764c7ae83110549fa9ac3c0524e37aad6eb520b396fd3efe293630f77f144d7f', 'a125db713fdd03dc07e7e1c4302507fd564a95ae08aed692bce6e000c768533c', '59f5dafcd3a92391c6f4d03833978083f184c873a29511c9c09f53248c928579', 'a11db6ad636417256ca2100935a14777bd9fe943ad9e6baa33f7bfdb75a2ece4']\", 'send:-126940049', \"send:['835d1384724e6c8a8142f807ea696f5f11a0658ed972db4f00566919d4825cb3', 'c26daea5e981d60a4acd09b547338678afcedc2804961cb102a5764656bb448b', 'd56c187733bb28b79000d0354d801383ec545cbd853bd4aeeee91993358581da', 'a08895563999b5b31b660a78cf42e0d54f3fcb9dfb08048577a5156e4639771a', '78fbce703110f24402c91b5a8326cb55aee8e2e5372f564ca2b014d377a2ade9', '09887da1b2963f638c2607bd486258f349f61a9581650111a720a905a2411482', '8a76c5f42277ab164104a7978648453257ce12715c604f3233e45a3afbb7e738', '02264dc6b9f9a7844a229ab7d06d52b1d1355e8b839ed6ba07c343bd360e5939', 'b627510e4fc9a3dc385b5d022cd3d76decb08014a7978112cbc807e0b527ff53']\", 'send:-1354873334', \"send:['333542c2d3d3a0f9ea86ba2c755af46be32d0c017dd7a02432f42aa005ebd0d2', '2f4e454fc37092b9f48e9c8fa07eb8179229e51d7f64886a78976b90d3b9a0b8', 'ff92d015d1885424aeca43f5ff3cf928dbefa5234b19dec782194c6a1e29a4d2', '40de8589aaa42c904807fa6e27bed1520b08d547f85eee7cea293dc17fa26a2a', 'ae8ad1c46dfa659d8a863dcc82a0d5392e99c0f8ccf84c2e3d4d6e419b2c6129', '333702fe6211b8ec7089380abab6e7404c8345889d6404e486f825db1af48663', '21d6cd2f93bc06620e995cbc1bf31f72cf511b37ec9a976419eef7909e8c63a1', '0cbd44b92d70bd8414780c0441a5423739bac874b9e0b35c0cb1551b10e964b6', '764824c0cec53652cb58bd17e9647b32da32b9a3e39d33ca0817cf02cc3fc364']\", 'send:29270166', \"send:['66724138f57231c9c41effef7dc3d0a246500b96293f273a928b96731210676f', '615fb4941ecfdf17b3e93d3d66222a3cc29032744b406d95872ab6321c11c810', '66857437ca12401032430cb922ee08bffa0d53367724b032b1892c6aeeea7fe4', '8c856e25417fb7c50608fb3fc0d04cd73a38852eedf5c7fe4d36682b488a422a', 'e33a09294fccd342c85bc845eac3eec1e71793bdef001f4fbf1e5e38fc21366a', '357cb6438a6c91ec360031b551504e0e014fe59a50fdf77e660ab8713be9e9eb', '23508b2d0524a4cf2306bfcab14ad1b6da9f73cca07f43993dd82e9e5b836c6b', 'd3a27f72df6aeb66e7b53adf6d9a10f15d2d49182abe96a91fc4098620586797', 'a42d8c4ef34c418938b561198b6c6d5d173cd81a7943d2d9ff2930a587171e2b']\", 'send:-821992524', \"send:['a6a9586cc0db0db8ac692d4ee1539317061342e4b52050412c91ea8fc2b8bb31', 'f477bd4d6a29c7f34e7c35af5e290d113521157a35c518e8896bfe8f6f2a780b', '8bc8d670a34c47975ec4b47923cdeab1fbdcd1c89d39c826ee93aea2d37eb5cc', '03efac3029102ce94f2d100a03ec1ef82d5a01f701c1abf8d3b519dd6773ba35', '1c86c5bd65d1e5b37e21cb6ceea7d98b85c192915dce88f5d358461062eaef15', '6379e61588cae442a9ec4580f66caf7e3b19ff8c74176e005165afe21b442f95', '1d50554e1b53767786d416b101416d4f3ac92ffaed36849b17a78574cf30b028', '5df95b9b8ce8fff81a992bc20579729777f0dd87b849cc437babc2877bf642c9']\", 'send:1550236912', \"send:['32b3d2ba1a8951b8c8f7a341c9d94053e616b1ff0fd4ec3bb98e1821bca12187', 'efee074952d9b7902fc38bc9cac847074b3bb246c9ccea76c3dfe418152fe2dc', '094ac27b69c30540495faa782ebe87ef87fcb8d0da46492772c0f23203777371', '7262a5bb84d86a6d13aa59e98e3899a5dcd586c1d1132c01e877907ccf006dc4', '8e1315557d3f01646684aeedf24e8645ff53e1998f75e8755a11556387d4a078', 'b739f7616d0c98e9a029b26b129c3727868293665a26ca9486aa8b3a74c6287d', 'c13f7d7a63ea21f14e61de5224e233008d2adda784ac1cc2e0445de11e3dcb3c', 'e987a3403a73375b0f229f3caad02ba1cacd0e77ecdd96deca6dc061221844ed']\", 'send:533905757', \"send:['58e208aa8f2da72a2f0e190e90f7b67e9c1cec10a2e31da212bcd3bf925988a8', 'eb0d1dd43bc6b7d23292ac0f6710df3ba0600b15aec5b3b72fd7ca11892ec5a2', '08ebb9aa23cde65cdae29a7bb8ea30a52cead0ca527b2e550f75438196660c2c', '3e6d0e593ded6bf717ed88a76deb83728bab8afcdeb1413a141952a65299fdfe', 'eb13f852373671d77d673e6e7502a6f729fc55fae433945acc9471c0eb896c82', '2c899dfe5fb25a51f3e9411e2b1bacdb805d71d27597d2e1933aa71d9fa5308a', '4f551a22fa670f88e37ca23e2dfb5ff5559e717fcd642a32130867c2e4f8c364']\", 'send:-294390294', \"send:['f0a62bf3344333d2257223d0b86e5a6616f6d4b7d5798297cf486035eb3ce4aa', '5ff672872d668de32e062d57d72d358bbaa14393b16fdcca7610d5f2abc0c331', '0f4af0f680c4da87315b774d35c95cf10d2f6f6d79b831588f53f0615302032f', '4e958b28cf4cc02d4de22d6d1474e63f0efc12b1d54e968d538e52a0e89f606b', '33435e7682868adf1379ea324bdeb54f4b9e616c4fc365bafffc423cef3ab4d0', '7ee44fdcc21af68396b039a6818f321ec7f12b32c36fb4483a1559936c826f3d', '7e3c9780732629f7d20c8e4764406ec4b0a454a879e1f1f7e5ba68209dbd8304']\", 'send:61496183', \"send:['028becf5e3c90dbdddf42b443c78250dfca7f996fb8d077d0d956bce6c9dd129', 'a18fa1ac20dde548dbaf2a542d84ee6d0437f4cc42dd2219f05815f0d6e26009', 'fd690b6c6a1ee369630ae0d504650ecb818845eb6fd115326978ed6935e58b54', 'c3d1f461bba49d209a53b29e46cd181e6bea274ae2c3d62830588abab401b0f4', '535d9a3b2794cedb4b6d7401ebd1d7c601a74b84f7053f652e0ad043bb063a34', '89199a1eb0a8c4edd046fe3ac7d992eac23202437f026a286b2a411ee329d78c']\", 'send:391993381', \"send:['de7d12f0d7760951134b2973e139b901c1a4d3c69fb419bced774c9e18c8c733', 'f035479118201e3418e7d628a9e4379bc7f1954806c7ed765da30f806ab64a9a', 'ed3d0056d137b0ad27fe3db8608e38e8805704cd1f94fcc2dcdac7cbe279b237', 'b1b006323cb8f96d1cc061ae8116c54b7301cc85a694c149fd052bbd615478ae', '982dfcae50203964f022990dc57613db8f08f68b36401c298f7ab1fdfc1b2d1e', 'ce8f6e3068f77e77272c71fb50e33a7e304039354e12ccc9f4d83ba975f61e90']\", 'send:1554483211', \"send:['9afb2d0fbe4855cd40ed5e789110399fdb00bc1aee9f87b49b015b8a38bc0cef', 'f64995784eca0327d4f8b9d350f241008cc7e32f62b3c2df7b0de43dc74ac3cc', '6af73b36b25bc3b28f304873bbd062b7dbfef21d7e6fc4ec685e0b1ce85fc4e3', '0b6cc973063db1843b332a3ca2caf3d2aa3fbb73a8bdcceffd688abcabb999b9', '3f38260bb95b6e7aab2114c9b024edb932f1220e8ca45b384496b92c4692e1ca']\", 'send:868485429', \"send:['adabad5a548f3df4f6002aa0f4a1f26080ef5270d07257dd84ccfe3903b0ebe4', '1d4cb6925b3ef9447bd7454d18dcca11fd2f76b1b0288f92db67546141436ce4', 'd777c607433f20aec1b6d3f369bac5d3fd90fa483c1439443f438935ceab82a6', 'dae9cacd23cf4d2a7ade597e0852b26c9e105c441d38778f73867e0459a19b13', '64dbc7a2e2be755ffd59b2e71091e4ba4393c4a809d0a21c499c78a007283110']\", 'send:108858533', \"send:['c9ffccf82b56b735c946b2a415ea76fd3f7b49d468b562b420be3f263e86f74a', '37e94660d0697e6f68505004a24cf1e4070a31b57c34e57fcca429cd9500240e', '0cd8f27faebda88fe982c5952c62c0ceff518e5cca0dd17743311e77e8a407e1', '350a777b8fa3227ae35f6bdf6a555bd657d37117c42843d9c230bf952906acce']\", 'send:-1104556510', \"send:['750eed1b1de0c6c79fc33f4fc55fbd642ce9e00f40f04f7720a9b7ab967bcc79', '3cac2e8a14e772b303b04347a221fe3c4014f1966fd0171e72cb13853a97be5b', '67ed32613514374bdb60044ec9ee0e79e204fba2d2d0c8aed331407913445224', '28f63598acb21c5b32351379958854c526c00a79fc5fa7c39af489262e2b632f']\", 'send:-152045548']\n",
      "Overall time: 0.43357157707214355s\n",
      "Uncompressed proof length in characters: 23828\n"
     ]
    }
   ],
   "source": [
    "def modelo_tres():\n",
    "    \n",
    "    start = time.time()\n",
    "    start_all = start\n",
    "    print(\"Generating the trace\")\n",
    "\n",
    "   # Tabla de Ejecucion\n",
    "    a = [FieldElement(2)] # a0 = 2\n",
    "\n",
    "    # a_{n} = 2^{8^n}\n",
    "    while len(a) < 41:\n",
    "        a.append(a[-1]**2) # 𝑎_{2𝑛+1}=𝑎_{2𝑛}^2\n",
    "        a.append(a[-1]**4) # 𝑎_{2𝑛}=𝑎_{2𝑛−1}^4\n",
    "    \n",
    "    # Siendo n el orden del subgrupo\n",
    "    # n*k = |𝔽×| , busco k tal que |𝔽×| = 3221225473\n",
    "    n = 64\n",
    "    mod_F = FieldElement.k_modulus\n",
    "    k = mod_F // n\n",
    "\n",
    "    g = FieldElement.generator() ** (k)  # Busco g^k\n",
    "    G = [g ** i for i in range(n)] # Genero el subgrupo de orden 64\n",
    "    \n",
    "\n",
    "    print(\"We blow up the trace (Extend the trace) 8 times bigger\")\n",
    "    \n",
    "    n = 8*64\n",
    "    mod_F = FieldElement.k_modulus\n",
    "    k = mod_F // n\n",
    "\n",
    "    w = FieldElement.generator()\n",
    "\n",
    "    h = w ** (k)  # Este es mi generador g^k para el nuevo dominio\n",
    "    H = [h ** i for i in range(n)] # Genero el subgrupo de orden 8*64\n",
    "\n",
    "    eval_domain = [w * x for x in H]\n",
    "\n",
    "    f = interpolate_poly(G[:len(a)], a)  ## Este polinomio pasa por todos los puntos que nos interes\n",
    "    f_eval = [f(d) for d in eval_domain] ## Busco la imagen en todos los elementos del dominio extendido\n",
    "\n",
    "\n",
    "    f_merkle = MerkleTree(f_eval) \n",
    "\n",
    "    channel = Channel()     # El channel nos dara datos que deberia darnos el verifier\n",
    "    channel.send(f_merkle.root)\n",
    "\n",
    "    print(f'{time.time() - start}s')\n",
    "    start = time.time()\n",
    "    print(\"Generating the composition polynomial and the FRI layers...\")\n",
    "\n",
    "    ## a0 = 2\n",
    "    numer0 = f - 2\n",
    "    denom0 = X - 1\n",
    "    p0 = numer0 / denom0\n",
    "\n",
    "    \n",
    "    # a[40] = (a)^{8^20} \n",
    "    numer1 = f - FieldElement(2)**(8**20)\n",
    "    denom1 = X - g**40\n",
    "    p1 = numer1 / denom1\n",
    "    \n",
    "    # 𝑎[2𝑛+1]=𝑎[2𝑛]^2\n",
    "    numer2 = f(g* X) - f(X)**2\n",
    "\n",
    "    lst = [(X - g**(2*i)) for i in range(0,19)]\n",
    "    denom2 = prod(lst)\n",
    "    p2 = numer2 / denom2\n",
    "    \n",
    "    # 𝑎[2𝑛+1]=𝑎[2𝑛]^2\n",
    "    numer3 = f(g* X) - f(X)**4\n",
    "\n",
    "    lst = [(X - g**(2*i+1)) for i in range(0,19)]\n",
    "    denom3 = prod(lst)\n",
    "    p3 = numer3 / denom3\n",
    "    \n",
    "\n",
    "    cp = get_CP(channel,[p0,p1,p2,p3])\n",
    "    cp_eval = CP_eval(cp,eval_domain)\n",
    "    cp_merkle = MerkleTree(cp_eval)\n",
    "    channel.send(cp_merkle.root)\n",
    "    \n",
    "    \n",
    "    print(\"El polinomio CP es\")\n",
    "    display(cp)\n",
    "\n",
    "    # FRI Folding Operator\n",
    "    fri_polys, fri_domains, fri_layers, fri_merkles = FriCommit(cp, eval_domain, cp_eval, cp_merkle, channel)\n",
    "\n",
    "    print(f'{time.time() - start}s')\n",
    "    start = time.time()\n",
    "    print(\"Generating queries and decommitments...\")\n",
    "\n",
    "    len_query = len(eval_domain) - 1\n",
    "    decommit_fri(channel, fri_layers, fri_merkles, f_eval, f_merkle, len_query)\n",
    "\n",
    "\n",
    "    # Verificamos\n",
    "    print(channel.proof)\n",
    "    print(f'Overall time: {time.time() - start_all}s')\n",
    "    print(f'Uncompressed proof length in characters: {len(str(channel.proof))}')\n",
    "\n",
    "    \n",
    "if __name__ == \"__main__\":\n",
    "    modelo_tres()"
   ]
  },
  {
   "cell_type": "markdown",
   "id": "ea753179",
   "metadata": {},
   "source": [
    "Obtenermos al final Uncompressed proof length in characters: 23828\n",
    "\n",
    "Vemos que tomamos\n",
    "- 0.03218 segundos para crear la traza de ejecucion y extender el dominio 8 veces su tamaño\n",
    "- 0.088959 segundos en generar el Composition Polynomial y hacer FRI layers\n",
    "- 0.436426 segundos en total\n",
    "\n",
    "Observamos que tiene un desempeño peor que el primer modelo pero mejor que el segundo. \n",
    "\n",
    "Se ve reflejado como la diferencia en la cantidad de elementos en la traza de ejecucion afecta el tiempo computacional."
   ]
  },
  {
   "cell_type": "markdown",
   "id": "66e30e18",
   "metadata": {},
   "source": [
    "# Modelo 4 (To-Do)\n",
    "\n",
    "Usando 2 columnas."
   ]
  },
  {
   "cell_type": "code",
   "execution_count": null,
   "id": "4e42fafb",
   "metadata": {},
   "outputs": [],
   "source": []
  },
  {
   "cell_type": "markdown",
   "id": "8efd8cf5",
   "metadata": {},
   "source": [
    "# Analisis de Datos\n",
    "\n",
    "En general la diferencia entre modelos es muy pequeña. \n",
    "\n",
    "Sin embargo, a gran escala el margen se va haciendo mayor asi que al analizar los modelos probados el que mejor desempeño tiene es el primero ya que genera menos valores en la tabla de traza.\n",
    "\n",
    "Tambien se puede apreciar como mientras mas extensa se hace la traza mas demanda computacional (tiempo de computo) exige cada modelo. "
   ]
  },
  {
   "cell_type": "markdown",
   "id": "2e286234",
   "metadata": {},
   "source": [
    "# Conclusion\n",
    "\n",
    "El protocolo STARK es una protocolo que nos permite demostrar o validar el trabajo hecho sin tener que hacerlo de vuelta o entregar datos personales que demuestren lo que afirmamos.\n",
    "\n",
    "Con las pruebas de validez podemos probar que un cómputo se ha realizado correctamente en un tiempo bastante menor que la verificación trivial, es decir, que el cómputo sea corrido de manera independiente por el verificador. \n",
    "\n",
    "Ignorando un momento toda la matematica de trasfondo, el protocolo actua casi como magia y el hecho de que no requiera de interaccion externa le da una seguridad enorme. \n",
    "\n",
    "Sin embargo, con estas soluciones tambien creamos nuevos problemas. Como dependemos fuertemente del channel es critico que su aleatoridad sea absoluta y en el mundo real esto es algo que no podemos afirmar a ciegas. Si algun dia se descubre una manera de predecir los valores que nos da entonces todo el protocolo se romperia. \n",
    "\n",
    "Pero como todo en criptografia, el protocolo funciona bien hasta que inevitablemente alguien lo rompa. Por el momento, STARK parece ser muy prometedor para el futuro de la criptografia y ya hay planes para incorporarlo como una mejora de su protocolo hermano SNARK."
   ]
  }
 ],
 "metadata": {
  "kernelspec": {
   "display_name": "Python 3 (ipykernel)",
   "language": "python",
   "name": "python3"
  },
  "language_info": {
   "codemirror_mode": {
    "name": "ipython",
    "version": 3
   },
   "file_extension": ".py",
   "mimetype": "text/x-python",
   "name": "python",
   "nbconvert_exporter": "python",
   "pygments_lexer": "ipython3",
   "version": "3.9.12"
  }
 },
 "nbformat": 4,
 "nbformat_minor": 5
}
